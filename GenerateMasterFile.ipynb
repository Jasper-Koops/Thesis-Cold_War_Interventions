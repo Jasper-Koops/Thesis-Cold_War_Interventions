{
 "cells": [
  {
   "cell_type": "code",
   "execution_count": 272,
   "metadata": {},
   "outputs": [],
   "source": [
    "import pandas as pd\n",
    "import statsmodels.api as sm\n",
    "import datetime\n",
    "import sklearn as sk\n"
   ]
  },
  {
   "cell_type": "markdown",
   "metadata": {},
   "source": [
    "# Load Wimmer dataset to use as base df"
   ]
  },
  {
   "cell_type": "code",
   "execution_count": 39,
   "metadata": {},
   "outputs": [],
   "source": [
    "wim = pd.read_csv('WimmerMin.csv')\n",
    "# Remove all non-coldwar entries\n",
    "mask = wim.year > 1945 \n",
    "wim = wim[mask]\n",
    "mask = wim.year < 1992\n",
    "wim = wim[mask]\n",
    "# Wimmers war data, when ignored, will cause duplicate rows to appear, remove them\n",
    "wim.drop_duplicates(subset=['year', 'cowcode'], keep='first', inplace=True)\n"
   ]
  },
  {
   "cell_type": "markdown",
   "metadata": {},
   "source": [
    "### Add US political information (Dummies for presidents and parties)"
   ]
  },
  {
   "cell_type": "code",
   "execution_count": 40,
   "metadata": {},
   "outputs": [
    {
     "name": "stderr",
     "output_type": "stream",
     "text": [
      "/usr/local/lib/python3.6/dist-packages/pandas/core/generic.py:3643: SettingWithCopyWarning: \n",
      "A value is trying to be set on a copy of a slice from a DataFrame.\n",
      "Try using .loc[row_indexer,col_indexer] = value instead\n",
      "\n",
      "See the caveats in the documentation: http://pandas.pydata.org/pandas-docs/stable/indexing.html#indexing-view-versus-copy\n",
      "  self[name] = value\n"
     ]
    }
   ],
   "source": [
    "# Convert start to datetime\n",
    "pres = pd.read_csv('us_presidents.csv')\n",
    "pres['start'] = pd.to_datetime(pres['start'])\n",
    "# Filter out non relevant presidents\n",
    "mask = pres['start'] > datetime.date(1945, 1, 1)\n",
    "pres = pres[mask]\n",
    "mask = pres['start'] < datetime.date(1992, 1, 1)\n",
    "pres = pres[mask]\n",
    "pres['start'] = pres.start.dt.year\n",
    "# Set turman start to 1946 for data reasons\n",
    "pres = pres[['start', 'president', 'party']]\n",
    "pres[:1].start = pres[:1].start +1\n",
    "dummy_pres = pres['president'].str.get_dummies()\n",
    "dummy_party = pres['party'].str.get_dummies()\n",
    "pres = pd.concat([pres, dummy_pres], axis=1)\n",
    "pres = pd.concat([pres, dummy_party], axis=1)\n",
    "pres = pres[['start', 'Dwight D. Eisenhower', 'George H. W. Bush', \n",
    "'Gerald Ford', 'Harry S. Truman', 'Jimmy Carter',\n",
    "'John F. Kennedy', 'Lyndon B. Johnson', 'Richard Nixon',\n",
    "'Ronald Reagan', 'Democratic', 'Republican']]\n",
    "    \n",
    "wim = wim.merge(pres, left_on='year', right_on='start', how='left')\n",
    "wim[[\n",
    "    'Dwight D. Eisenhower', 'George H. W. Bush', \n",
    "    'Gerald Ford', 'Harry S. Truman', 'Jimmy Carter',\n",
    "    'John F. Kennedy', 'Lyndon B. Johnson', 'Richard Nixon',\n",
    "    'Ronald Reagan', 'Democratic', 'Republican']] = wim[\n",
    "    [\n",
    "        'Dwight D. Eisenhower', 'George H. W. Bush', \n",
    "        'Gerald Ford', 'Harry S. Truman', 'Jimmy Carter',\n",
    "        'John F. Kennedy', 'Lyndon B. Johnson', 'Richard Nixon',\n",
    "        'Ronald Reagan', 'Democratic', 'Republican'\n",
    "    ]].ffill()\n",
    "\n"
   ]
  },
  {
   "cell_type": "markdown",
   "metadata": {},
   "source": [
    "### Add US / SU GDP and CINC scores"
   ]
  },
  {
   "cell_type": "code",
   "execution_count": 41,
   "metadata": {},
   "outputs": [],
   "source": [
    "# Add GDP related variables\n",
    "# Split of both countries\n",
    "us_only = wim['cowcode'] == 2\n",
    "su_only = wim['cowcode'] == 365\n",
    "\n",
    "rus_gdp = wim[su_only]\n",
    "rus_gdp = rus_gdp[['gdppc', 'gdppcl', 'year']]\n",
    "rus_gdp.columns = ['SU_gdppc', 'SU_gdppcl', 'year']\n",
    "\n",
    "us_gdp = wim[su_only]\n",
    "us_gdp = us_gdp[['gdppc', 'gdppcl', 'year']]\n",
    "\n",
    "us_gdp\n",
    "us_gdp.columns = ['US_gdppc', 'US_gdppcl', 'year']\n",
    "\n",
    "gdp_merged = pd.concat([rus_gdp, us_gdp], axis=1)\n",
    "gdp_merged \n",
    "\n",
    "\n",
    "# Get CINC scores\n",
    "cinc = pd.read_csv('NMC.csv')\n",
    "mask = cinc['year'] < 1992\n",
    "cinc = cinc[mask]\n",
    "mask = cinc['year'] > 1945\n",
    "cinc = cinc[mask]\n",
    "cinc = cinc[['ccode', 'year', 'milex', 'cinc']]\n",
    "\n",
    "# Get MIl_Ex as sperate variable, \n",
    "# (as the Soviet Union had a large army despite a lagging economy)\n",
    "# Again, split of both countries\n",
    "us_only = cinc['ccode'] == 2\n",
    "su_only = cinc['ccode'] == 365\n",
    "\n",
    "rus_cinc = cinc[su_only]\n",
    "rus_cinc = rus_cinc[['milex', 'cinc', 'year']]\n",
    "rus_cinc.columns = ['SU_milex', 'SU_cinc', 'year']\n",
    "\n",
    "us_cinc = cinc[us_only]\n",
    "us_cinc = us_cinc[['milex', 'cinc', 'year']]\n",
    "us_cinc.columns = ['US_milex', 'US_cinc', 'year']\n",
    "\n",
    "rus_cinc.reset_index(inplace=True)\n",
    "us_cinc.reset_index(inplace=True)  \n",
    "\n",
    "cinc_merged = pd.concat([rus_cinc, us_cinc], axis=1)\n",
    "cinc_merged = cinc_merged[['SU_milex', 'SU_cinc', 'US_milex', 'US_cinc', 'year']]\n",
    "cinc_merged.reset_index(inplace=True)\n",
    "gdp_merged.reset_index(inplace=True)\n",
    "\n",
    "\n",
    "gpd_cinc_merged = pd.concat([gdp_merged, cinc_merged], axis=1)\n",
    "\n",
    "# Remove duplicate columns. \n",
    "c = pd.Index(['SU_gdppc', 'SU_gdppcl', 'year', 'US_gdppc', 'US_gdppcl',\n",
    "       'year', 'SU_milex', 'SU_cinc', 'US_milex', 'US_cinc', 'year',\n",
    "       'year'])\n",
    "\n",
    "gpd_cinc_merged = gpd_cinc_merged.loc[:, ~gpd_cinc_merged.columns.duplicated()]\n",
    "\n",
    "#Merge new dataframe into Wimmers dataset\n",
    "wim = wim.merge(gpd_cinc_merged, left_on='year', right_on='year', how='left')\n",
    "\n",
    "# Add cinc and milex variables for indivual nations as well. \n",
    "wim = wim.merge(cinc, left_on=['year', 'cowcode'], right_on=['year', 'ccode'], how='left')\n",
    "\n",
    "#Save the file\n",
    "wim.to_csv('WimmerPrepared.csv')\n"
   ]
  },
  {
   "cell_type": "markdown",
   "metadata": {},
   "source": [
    "# Prepare external support DF"
   ]
  },
  {
   "cell_type": "markdown",
   "metadata": {},
   "source": [
    "## WARNING - This block contains a very slow groupby operation, which will take +/- 15 minutes"
   ]
  },
  {
   "cell_type": "code",
   "execution_count": 30,
   "metadata": {},
   "outputs": [
    {
     "name": "stderr",
     "output_type": "stream",
     "text": [
      "/usr/local/lib/python3.6/dist-packages/ipykernel_launcher.py:45: SettingWithCopyWarning: \n",
      "A value is trying to be set on a copy of a slice from a DataFrame.\n",
      "Try using .loc[row_indexer,col_indexer] = value instead\n",
      "\n",
      "See the caveats in the documentation: http://pandas.pydata.org/pandas-docs/stable/indexing.html#indexing-view-versus-copy\n",
      "/usr/local/lib/python3.6/dist-packages/ipykernel_launcher.py:49: SettingWithCopyWarning: \n",
      "A value is trying to be set on a copy of a slice from a DataFrame.\n",
      "Try using .loc[row_indexer,col_indexer] = value instead\n",
      "\n",
      "See the caveats in the documentation: http://pandas.pydata.org/pandas-docs/stable/indexing.html#indexing-view-versus-copy\n"
     ]
    }
   ],
   "source": [
    "exsup = pd.read_csv('exsup.csv')\n",
    "# Remove all non-coldwar entries\n",
    "mask = exsup['ywp_year'] < 1992\n",
    "exsup = exsup[mask]\n",
    "#remove non US / SU interventions\n",
    "dummies = exsup['external_name'].str.get_dummies(sep=';')\n",
    "dummies = dummies[['United States', 'Soviet Union']]\n",
    "exsup = pd.concat([exsup, dummies], axis=1)\n",
    "# Drop duplicates\n",
    "exsup.drop_duplicates(inplace=True)\n",
    "\n",
    "# Add support specific dummies\n",
    "old = ['external_type__X', 'external_type__L', 'external_type__Y',\n",
    "         'external_type__W', 'external_type__M', 'external_type__T',\n",
    "         'external_type__$', 'external_type__I', 'external_type__O', \n",
    "         'external_type__U']\n",
    "new = [\n",
    "    'troops', 'joint_ops', 'terr', 'weapons', 'logistics',\n",
    "    'training', 'eco', 'intel', 'other', 'unknown'\n",
    "]\n",
    "\n",
    "us_support_cols = ['US_' + x for x in old]\n",
    "su_support_cols = ['SU_' + x for x in old]\n",
    "\n",
    "for col in us_support_cols:\n",
    "    exsup[col] = 0\n",
    "for col in su_support_cols:\n",
    "    exsup[col] = 0\n",
    "   \n",
    "\n",
    "# # Build dict to rename columns\n",
    "# coldict = {}\n",
    "# index = 0\n",
    "# for col in old:    \n",
    "#     coldict[col] = new[index]\n",
    "#     index +=1\n",
    "# # Rename columns\n",
    "# exsup.rename(coldict, inplace=True)\n",
    "\n",
    "\n",
    "for index, row in exsup.iterrows():\n",
    "    if row['Soviet Union'] == 1:\n",
    "        nation = 'SU_'\n",
    "        for col in old:\n",
    "            exsup[index: index + 1][nation + col] = int(row[col])\n",
    "    if row['United States'] == 1:\n",
    "        nation = 'US_'\n",
    "        for col in old:\n",
    "            exsup[index: index + 1][nation + col] = int(row[col])\n",
    "            \n",
    "\n",
    "# Save to csv\n",
    "exsup.to_csv('export.csv')\n",
    "exsup_backup = exsup\n",
    "# Merge dataframe per year-country combination\n",
    "exsup = exsup.groupby(['locationid1', 'ywp_year']).max()\n",
    "exsup.to_csv('exsup_merged.csv')"
   ]
  },
  {
   "cell_type": "markdown",
   "metadata": {},
   "source": [
    "## Merge UCDP external support into the BaseDataset"
   ]
  },
  {
   "cell_type": "code",
   "execution_count": 42,
   "metadata": {},
   "outputs": [],
   "source": [
    "# Reset index so 'locationid1' becomes available again. \n",
    "exsup.reset_index(inplace=True)\n",
    "# wim.reset_index(inplace=True)"
   ]
  },
  {
   "cell_type": "code",
   "execution_count": 51,
   "metadata": {},
   "outputs": [],
   "source": [
    "merged = wim.merge(exsup, left_on=['cowcode', 'year'], right_on=['locationid1', 'ywp_year'], how='left')\n",
    "# External exists is a value that we dont want Null values for, ffill them. \n",
    "merged['external_exists'].fillna(value=0, inplace=True)\n",
    "\n",
    "# # Add dummies for US and RU interventions\n",
    "# intervention_dummies = merged['external_name'].str.get_dummies()\n",
    "# merged = pd.concat([merged, intervention_dummies], axis=1)\n",
    "\n",
    "mask = merged.year > 1975\n",
    "merged = merged[mask]\n",
    "merged.to_csv('masterfile.csv')"
   ]
  },
  {
   "cell_type": "markdown",
   "metadata": {},
   "source": [
    "### The full list of variables that are present in the Dataset"
   ]
  },
  {
   "cell_type": "code",
   "execution_count": 52,
   "metadata": {},
   "outputs": [
    {
     "name": "stdout",
     "output_type": "stream",
     "text": [
      "yearc\n",
      "year\n",
      "cowcode\n",
      "country\n",
      "onset\n",
      "war\n",
      "warname\n",
      "warno\n",
      "wartype\n",
      "yrbeg\n",
      "yrend\n",
      "anarc\n",
      "anarcl\n",
      "anoc\n",
      "anocl\n",
      "area2001\n",
      "asia\n",
      "autoc\n",
      "autocl\n",
      "democ\n",
      "democl\n",
      "eeurop\n",
      "ethfrac\n",
      "gdp\n",
      "gdppc\n",
      "gdppcl\n",
      "implag\n",
      "imppower\n",
      "instab\n",
      "instabl\n",
      "lamerica\n",
      "lmtnest\n",
      "lnpop\n",
      "lnpopl\n",
      "milperc\n",
      "milpercl\n",
      "nafrme\n",
      "nbcivil\n",
      "nbconq\n",
      "nbinter\n",
      "nbnatind\n",
      "nbnonind\n",
      "nsflag\n",
      "nsfyear\n",
      "ocivil\n",
      "oconq\n",
      "oil\n",
      "oilpc\n",
      "oilpcl\n",
      "ointer\n",
      "ointrap\n",
      "onatind\n",
      "ononind\n",
      "pdemnb\n",
      "pocivil\n",
      "poconq\n",
      "pointer\n",
      "pointrap\n",
      "poldisc\n",
      "poldiscl\n",
      "ponatind\n",
      "pononind\n",
      "ponset\n",
      "pop\n",
      "relfrac\n",
      "ssafrica\n",
      "western\n",
      "start\n",
      "Dwight D. Eisenhower\n",
      "George H. W. Bush\n",
      "Gerald Ford\n",
      "Harry S. Truman\n",
      "Jimmy Carter\n",
      "John F. Kennedy\n",
      "Lyndon B. Johnson\n",
      "Richard Nixon\n",
      "Ronald Reagan\n",
      "Democratic\n",
      "Republican\n",
      "index_x\n",
      "SU_gdppc\n",
      "SU_gdppcl\n",
      "US_gdppc\n",
      "US_gdppcl\n",
      "SU_milex\n",
      "SU_cinc\n",
      "US_milex\n",
      "US_cinc\n",
      "ccode\n",
      "milex\n",
      "cinc\n",
      "index_y\n",
      "locationid1\n",
      "ywp_year\n",
      "SU_external_type__$\n",
      "SU_external_type__I\n",
      "SU_external_type__L\n",
      "SU_external_type__M\n",
      "SU_external_type__O\n",
      "SU_external_type__T\n",
      "SU_external_type__U\n",
      "SU_external_type__W\n",
      "SU_external_type__X\n",
      "SU_external_type__Y\n",
      "Soviet Union\n",
      "US_external_type__$\n",
      "US_external_type__I\n",
      "US_external_type__L\n",
      "US_external_type__M\n",
      "US_external_type__O\n",
      "US_external_type__T\n",
      "US_external_type__U\n",
      "US_external_type__W\n",
      "US_external_type__X\n",
      "US_external_type__Y\n",
      "United States\n",
      "actorID\n",
      "bc_id\n",
      "bc_name\n",
      "bwd_id\n",
      "bwd_name\n",
      "conflictID\n",
      "country1\n",
      "external_alleged\n",
      "external_exists\n",
      "external_type__$\n",
      "external_type__I\n",
      "external_type__L\n",
      "external_type__M\n",
      "external_type__O\n",
      "external_type__T\n",
      "external_type__U\n",
      "external_type__W\n",
      "external_type__X\n",
      "external_type__Y\n",
      "locationid2\n",
      "ywp_id\n",
      "ywp_name\n"
     ]
    }
   ],
   "source": [
    "for x in merged.columns:\n",
    "    print(x)"
   ]
  },
  {
   "cell_type": "code",
   "execution_count": 273,
   "metadata": {},
   "outputs": [
    {
     "name": "stdout",
     "output_type": "stream",
     "text": [
      "<class 'pandas.core.frame.DataFrame'>\n",
      "Int64Index: 2400 entries, 30 to 6899\n",
      "Columns: 138 entries, yearc to ywp_name\n",
      "dtypes: float64(97), int64(32), object(9)\n",
      "memory usage: 2.6+ MB\n"
     ]
    }
   ],
   "source": [
    "merged.info()"
   ]
  },
  {
   "cell_type": "code",
   "execution_count": 60,
   "metadata": {},
   "outputs": [],
   "source": [
    "def run(x, y):\n",
    "    \"\"\"\n",
    "    A simple function that runs Logit regressions\n",
    "    \"\"\"\n",
    "    logit = sm.Logit(merged[y], merged[x], missing='drop')\n",
    "    results = logit.fit(missing='drop')\n",
    "    return results.summary()\n",
    "    \n",
    "    \n",
    "    "
   ]
  },
  {
   "cell_type": "markdown",
   "metadata": {},
   "source": [
    "# Logit Regression Analysis"
   ]
  },
  {
   "cell_type": "markdown",
   "metadata": {},
   "source": [
    "## Analysis 1: Relative economic and military power"
   ]
  },
  {
   "cell_type": "code",
   "execution_count": 386,
   "metadata": {},
   "outputs": [
    {
     "name": "stdout",
     "output_type": "stream",
     "text": [
      "Optimization terminated successfully.\n",
      "         Current function value: 0.607859\n",
      "         Iterations 7\n",
      "                           Logit Regression Results                           \n",
      "==============================================================================\n",
      "Dep. Variable:          United States   No. Observations:                  463\n",
      "Model:                          Logit   Df Residuals:                      456\n",
      "Method:                           MLE   Df Model:                            6\n",
      "Date:                Sat, 26 May 2018   Pseudo R-squ.:                 0.07704\n",
      "Time:                        01:08:54   Log-Likelihood:                -281.44\n",
      "converged:                       True   LL-Null:                       -304.93\n",
      "                                        LLR p-value:                 1.884e-08\n",
      "================================================================================\n",
      "                   coef    std err          z      P>|z|      [0.025      0.975]\n",
      "--------------------------------------------------------------------------------\n",
      "US_cinc        -25.1905     13.934     -1.808      0.071     -52.500       2.119\n",
      "US_milex      6.602e-09   3.28e-09      2.011      0.044    1.67e-10     1.3e-08\n",
      "SU_cinc         12.8951     13.031      0.990      0.322     -12.645      38.435\n",
      "SU_milex     -1.838e-09   4.28e-09     -0.430      0.667   -1.02e-08    6.54e-09\n",
      "milex        -6.459e-08   3.36e-08     -1.920      0.055   -1.31e-07    1.35e-09\n",
      "cinc           -29.0302     14.322     -2.027      0.043     -57.100      -0.960\n",
      "Soviet Union     0.6059      0.253      2.396      0.017       0.110       1.102\n",
      "================================================================================\n"
     ]
    }
   ],
   "source": [
    "print(run([\n",
    " 'US_cinc',\n",
    " 'US_milex',\n",
    " 'SU_cinc',\n",
    " 'SU_milex',\n",
    " 'milex',\n",
    " 'cinc',\n",
    " 'Soviet Union',\n",
    "\n",
    "],   \n",
    "    \n",
    " 'United States'))"
   ]
  },
  {
   "cell_type": "code",
   "execution_count": 269,
   "metadata": {},
   "outputs": [
    {
     "name": "stdout",
     "output_type": "stream",
     "text": [
      "Optimization terminated successfully.\n",
      "         Current function value: 0.475490\n",
      "         Iterations 7\n",
      "                           Logit Regression Results                           \n",
      "==============================================================================\n",
      "Dep. Variable:           Soviet Union   No. Observations:                  463\n",
      "Model:                          Logit   Df Residuals:                      456\n",
      "Method:                           MLE   Df Model:                            6\n",
      "Date:                Sat, 26 May 2018   Pseudo R-squ.:                 0.05205\n",
      "Time:                        00:31:24   Log-Likelihood:                -220.15\n",
      "converged:                       True   LL-Null:                       -232.24\n",
      "                                        LLR p-value:                 0.0004847\n",
      "=================================================================================\n",
      "                    coef    std err          z      P>|z|      [0.025      0.975]\n",
      "---------------------------------------------------------------------------------\n",
      "US_cinc         -12.3021     18.127     -0.679      0.497     -47.831      23.227\n",
      "US_milex      -3.401e-09   4.26e-09     -0.799      0.425   -1.17e-08    4.95e-09\n",
      "SU_cinc           4.6220     17.088      0.270      0.787     -28.870      38.114\n",
      "SU_milex      -7.706e-10   5.65e-09     -0.136      0.891   -1.18e-08    1.03e-08\n",
      "milex         -3.837e-08   2.63e-08     -1.460      0.144   -8.99e-08    1.31e-08\n",
      "cinc             24.8547      7.585      3.277      0.001       9.989      39.720\n",
      "United States     0.7463      0.252      2.966      0.003       0.253       1.239\n",
      "=================================================================================\n"
     ]
    }
   ],
   "source": [
    "print(run([\n",
    " 'US_cinc',\n",
    " 'US_milex',\n",
    " 'SU_cinc',\n",
    " 'SU_milex',\n",
    " 'milex',\n",
    " 'cinc',\n",
    " 'United States',\n",
    "],   \n",
    "    \n",
    " 'Soviet Union'))"
   ]
  },
  {
   "cell_type": "markdown",
   "metadata": {},
   "source": [
    "## Analysis 2: Political variables"
   ]
  },
  {
   "cell_type": "markdown",
   "metadata": {},
   "source": [
    "### Targets political system"
   ]
  },
  {
   "cell_type": "code",
   "execution_count": 170,
   "metadata": {},
   "outputs": [
    {
     "name": "stdout",
     "output_type": "stream",
     "text": [
      "Optimization terminated successfully.\n",
      "         Current function value: 0.657189\n",
      "         Iterations 4\n",
      "                           Logit Regression Results                           \n",
      "==============================================================================\n",
      "Dep. Variable:          United States   No. Observations:                  463\n",
      "Model:                          Logit   Df Residuals:                      460\n",
      "Method:                           MLE   Df Model:                            2\n",
      "Date:                Fri, 25 May 2018   Pseudo R-squ.:                0.002140\n",
      "Time:                        23:58:38   Log-Likelihood:                -304.28\n",
      "converged:                       True   LL-Null:                       -304.93\n",
      "                                        LLR p-value:                    0.5207\n",
      "==============================================================================\n",
      "                 coef    std err          z      P>|z|      [0.025      0.975]\n",
      "------------------------------------------------------------------------------\n",
      "democl        -0.6131      0.199     -3.084      0.002      -1.003      -0.223\n",
      "anocl         -0.5108      0.220     -2.320      0.020      -0.942      -0.079\n",
      "autocl        -0.5454      0.132     -4.140      0.000      -0.804      -0.287\n",
      "==============================================================================\n"
     ]
    }
   ],
   "source": [
    "print(run([\n",
    " 'democl',\n",
    " 'anocl',\n",
    " 'autocl', \n",
    "],   \n",
    "    \n",
    " 'United States'))"
   ]
  },
  {
   "cell_type": "markdown",
   "metadata": {},
   "source": [
    "#### The US is slightly less likely to intervene in democratic nations, however this hesitance completely once a Soviet Intervention is ongoing"
   ]
  },
  {
   "cell_type": "code",
   "execution_count": 378,
   "metadata": {},
   "outputs": [
    {
     "name": "stdout",
     "output_type": "stream",
     "text": [
      "Optimization terminated successfully.\n",
      "         Current function value: 0.651079\n",
      "         Iterations 4\n",
      "                           Logit Regression Results                           \n",
      "==============================================================================\n",
      "Dep. Variable:          United States   No. Observations:                  463\n",
      "Model:                          Logit   Df Residuals:                      459\n",
      "Method:                           MLE   Df Model:                            3\n",
      "Date:                Sat, 26 May 2018   Pseudo R-squ.:                 0.01142\n",
      "Time:                        01:07:55   Log-Likelihood:                -301.45\n",
      "converged:                       True   LL-Null:                       -304.93\n",
      "                                        LLR p-value:                   0.07310\n",
      "================================================================================\n",
      "                   coef    std err          z      P>|z|      [0.025      0.975]\n",
      "--------------------------------------------------------------------------------\n",
      "democl          -0.6733      0.201     -3.345      0.001      -1.068      -0.279\n",
      "anocl           -0.6063      0.225     -2.692      0.007      -1.048      -0.165\n",
      "autocl          -0.7077      0.150     -4.705      0.000      -1.003      -0.413\n",
      "Soviet Union     0.5732      0.240      2.387      0.017       0.103       1.044\n",
      "================================================================================\n"
     ]
    }
   ],
   "source": [
    "print(run([\n",
    " 'democl',\n",
    " 'anocl',\n",
    " 'autocl', \n",
    " 'Soviet Union'\n",
    "],   \n",
    "    \n",
    " 'United States'))"
   ]
  },
  {
   "cell_type": "code",
   "execution_count": 375,
   "metadata": {},
   "outputs": [
    {
     "name": "stdout",
     "output_type": "stream",
     "text": [
      "Optimization terminated successfully.\n",
      "         Current function value: 0.497193\n",
      "         Iterations 6\n",
      "                           Logit Regression Results                           \n",
      "==============================================================================\n",
      "Dep. Variable:           Soviet Union   No. Observations:                  463\n",
      "Model:                          Logit   Df Residuals:                      460\n",
      "Method:                           MLE   Df Model:                            2\n",
      "Date:                Sat, 26 May 2018   Pseudo R-squ.:                0.008782\n",
      "Time:                        01:07:33   Log-Likelihood:                -230.20\n",
      "converged:                       True   LL-Null:                       -232.24\n",
      "                                        LLR p-value:                    0.1301\n",
      "==============================================================================\n",
      "                 coef    std err          z      P>|z|      [0.025      0.975]\n",
      "------------------------------------------------------------------------------\n",
      "democl        -2.2073      0.318     -6.949      0.000      -2.830      -1.585\n",
      "anocl         -1.6650      0.291     -5.713      0.000      -2.236      -1.094\n",
      "autocl        -0.9938      0.143     -6.949      0.000      -1.274      -0.714\n",
      "==============================================================================\n"
     ]
    }
   ],
   "source": [
    "print(run([\n",
    " 'democl',\n",
    " 'anocl',\n",
    " 'autocl', \n",
    "],   \n",
    "    \n",
    " 'Soviet Union'))"
   ]
  },
  {
   "cell_type": "markdown",
   "metadata": {},
   "source": [
    "#### Soviet Union seemed to be less inclined to attack democratic nations"
   ]
  },
  {
   "cell_type": "code",
   "execution_count": 227,
   "metadata": {},
   "outputs": [
    {
     "name": "stdout",
     "output_type": "stream",
     "text": [
      "Optimization terminated successfully.\n",
      "         Current function value: 0.494888\n",
      "         Iterations 6\n",
      "                           Logit Regression Results                           \n",
      "==============================================================================\n",
      "Dep. Variable:           Soviet Union   No. Observations:                  463\n",
      "Model:                          Logit   Df Residuals:                      459\n",
      "Method:                           MLE   Df Model:                            3\n",
      "Date:                Sat, 26 May 2018   Pseudo R-squ.:                 0.01338\n",
      "Time:                        00:11:13   Log-Likelihood:                -229.13\n",
      "converged:                       True   LL-Null:                       -232.24\n",
      "                                        LLR p-value:                    0.1017\n",
      "=================================================================================\n",
      "                    coef    std err          z      P>|z|      [0.025      0.975]\n",
      "---------------------------------------------------------------------------------\n",
      "democl           -2.3363      0.332     -7.036      0.000      -2.987      -1.686\n",
      "anocl            -1.8006      0.308     -5.841      0.000      -2.405      -1.196\n",
      "autocl           -1.1235      0.171     -6.584      0.000      -1.458      -0.789\n",
      "United States     0.3371      0.230      1.466      0.143      -0.114       0.788\n",
      "=================================================================================\n"
     ]
    }
   ],
   "source": [
    "print(run([\n",
    " 'democl',\n",
    " 'anocl',\n",
    " 'autocl', \n",
    " 'United States'\n",
    "],   \n",
    "    \n",
    " 'Soviet Union'))"
   ]
  },
  {
   "cell_type": "code",
   "execution_count": 270,
   "metadata": {},
   "outputs": [
    {
     "name": "stdout",
     "output_type": "stream",
     "text": [
      "Optimization terminated successfully.\n",
      "         Current function value: 0.489357\n",
      "         Iterations 7\n",
      "                           Logit Regression Results                           \n",
      "==============================================================================\n",
      "Dep. Variable:           Soviet Union   No. Observations:                  460\n",
      "Model:                          Logit   Df Residuals:                      454\n",
      "Method:                           MLE   Df Model:                            5\n",
      "Date:                Sat, 26 May 2018   Pseudo R-squ.:                 0.02790\n",
      "Time:                        00:31:48   Log-Likelihood:                -225.10\n",
      "converged:                       True   LL-Null:                       -231.56\n",
      "                                        LLR p-value:                   0.02414\n",
      "=================================================================================\n",
      "                    coef    std err          z      P>|z|      [0.025      0.975]\n",
      "---------------------------------------------------------------------------------\n",
      "democl           -1.5726      0.421     -3.732      0.000      -2.398      -0.747\n",
      "anocl            -1.5614      0.333     -4.694      0.000      -2.213      -0.909\n",
      "autocl           -0.8946      0.198     -4.512      0.000      -1.283      -0.506\n",
      "gdppc            -0.0002   6.53e-05     -2.455      0.014      -0.000   -3.23e-05\n",
      "milex          1.502e-08   1.13e-08      1.327      0.185   -7.16e-09    3.72e-08\n",
      "United States     0.3936      0.235      1.678      0.093      -0.066       0.853\n",
      "=================================================================================\n"
     ]
    }
   ],
   "source": [
    "print(run([\n",
    " 'democl',\n",
    " 'anocl',\n",
    " 'autocl', \n",
    " 'gdppc',\n",
    " 'milex',\n",
    "    'United States'\n",
    "],   \n",
    "    \n",
    " 'Soviet Union'))"
   ]
  },
  {
   "cell_type": "markdown",
   "metadata": {},
   "source": [
    "### This might have something to do with the fact that democratic nations are often wealthier / stronger. So I added control variables for both economic power and military expenditure."
   ]
  },
  {
   "cell_type": "markdown",
   "metadata": {},
   "source": [
    "What is interesting is the fact that the hesitance for attacking democratic nations virtually disappears in both nations. Yet the general political effects remain higher in the Soviet Union. In constract, the United States react much stronger to the presence of Soviet Support"
   ]
  },
  {
   "cell_type": "code",
   "execution_count": 271,
   "metadata": {},
   "outputs": [
    {
     "name": "stdout",
     "output_type": "stream",
     "text": [
      "Optimization terminated successfully.\n",
      "         Current function value: 0.615962\n",
      "         Iterations 8\n",
      "                           Logit Regression Results                           \n",
      "==============================================================================\n",
      "Dep. Variable:          United States   No. Observations:                  460\n",
      "Model:                          Logit   Df Residuals:                      454\n",
      "Method:                           MLE   Df Model:                            5\n",
      "Date:                Sat, 26 May 2018   Pseudo R-squ.:                 0.06655\n",
      "Time:                        00:31:53   Log-Likelihood:                -283.34\n",
      "converged:                       True   LL-Null:                       -303.54\n",
      "                                        LLR p-value:                 1.240e-07\n",
      "================================================================================\n",
      "                   coef    std err          z      P>|z|      [0.025      0.975]\n",
      "--------------------------------------------------------------------------------\n",
      "democl          -0.7519      0.331     -2.273      0.023      -1.400      -0.104\n",
      "anocl           -0.7470      0.247     -3.027      0.002      -1.231      -0.263\n",
      "autocl          -0.7099      0.172     -4.124      0.000      -1.047      -0.373\n",
      "gdppc            0.0001   4.92e-05      2.895      0.004    4.59e-05       0.000\n",
      "milex        -1.693e-07   4.27e-08     -3.969      0.000   -2.53e-07   -8.57e-08\n",
      "Soviet Union     0.6088      0.249      2.444      0.015       0.121       1.097\n",
      "================================================================================\n"
     ]
    }
   ],
   "source": [
    "print(run([\n",
    " 'democl',\n",
    " 'anocl',\n",
    " 'autocl', \n",
    " 'gdppc',\n",
    " 'milex',\n",
    " 'Soviet Union'\n",
    "],   \n",
    "    \n",
    " 'United States'))"
   ]
  },
  {
   "cell_type": "markdown",
   "metadata": {},
   "source": [
    "## Type of war being fought"
   ]
  },
  {
   "cell_type": "code",
   "execution_count": 329,
   "metadata": {},
   "outputs": [
    {
     "name": "stdout",
     "output_type": "stream",
     "text": [
      "Optimization terminated successfully.\n",
      "         Current function value: 0.673809\n",
      "         Iterations 5\n",
      "                           Logit Regression Results                           \n",
      "==============================================================================\n",
      "Dep. Variable:          United States   No. Observations:                  463\n",
      "Model:                          Logit   Df Residuals:                      456\n",
      "Method:                           MLE   Df Model:                            6\n",
      "Date:                Sat, 26 May 2018   Pseudo R-squ.:                -0.02310\n",
      "Time:                        00:52:28   Log-Likelihood:                -311.97\n",
      "converged:                       True   LL-Null:                       -304.93\n",
      "                                        LLR p-value:                     1.000\n",
      "================================================================================\n",
      "                   coef    std err          z      P>|z|      [0.025      0.975]\n",
      "--------------------------------------------------------------------------------\n",
      "pointrap        -0.6997      0.299     -2.341      0.019      -1.286      -0.114\n",
      "pointer         -1.2303      0.510     -2.413      0.016      -2.230      -0.231\n",
      "pocivil          0.6349      0.339      1.873      0.061      -0.029       1.299\n",
      "ointrap         -0.6931      1.225     -0.566      0.571      -3.094       1.707\n",
      "ointer          -1.6174      1.096     -1.475      0.140      -3.766       0.531\n",
      "ocivil           0.0693      1.312      0.053      0.958      -2.501       2.640\n",
      "Soviet Union     0.0473      0.241      0.197      0.844      -0.424       0.519\n",
      "================================================================================\n"
     ]
    }
   ],
   "source": [
    "print(run([\n",
    "    'pointrap',\n",
    "    'pointer',\n",
    "    'pocivil',\n",
    "    'ointrap',\n",
    "    'ointer',\n",
    "    'ocivil',\n",
    "    'Soviet Union',    \n",
    "],   \n",
    "    \n",
    " 'United States'))"
   ]
  },
  {
   "cell_type": "code",
   "execution_count": 328,
   "metadata": {},
   "outputs": [
    {
     "name": "stdout",
     "output_type": "stream",
     "text": [
      "Optimization terminated successfully.\n",
      "         Current function value: 0.621412\n",
      "         Iterations 6\n",
      "                           Logit Regression Results                           \n",
      "==============================================================================\n",
      "Dep. Variable:           Soviet Union   No. Observations:                  463\n",
      "Model:                          Logit   Df Residuals:                      458\n",
      "Method:                           MLE   Df Model:                            4\n",
      "Date:                Sat, 26 May 2018   Pseudo R-squ.:                 -0.2389\n",
      "Time:                        00:52:19   Log-Likelihood:                -287.71\n",
      "converged:                       True   LL-Null:                       -232.24\n",
      "                                        LLR p-value:                     1.000\n",
      "=================================================================================\n",
      "                    coef    std err          z      P>|z|      [0.025      0.975]\n",
      "---------------------------------------------------------------------------------\n",
      "pointer          -1.6935      0.625     -2.709      0.007      -2.919      -0.468\n",
      "pocivil          -0.2286      0.186     -1.230      0.219      -0.593       0.136\n",
      "ointer           -1.4976      1.101     -1.361      0.174      -3.655       0.660\n",
      "ocivil           -1.9584      0.751     -2.608      0.009      -3.430      -0.487\n",
      "United States    -0.8643      0.198     -4.368      0.000      -1.252      -0.477\n",
      "=================================================================================\n"
     ]
    }
   ],
   "source": [
    "print(run([\n",
    "    #'pointrap',\n",
    "    'pointer',\n",
    "    'pocivil',\n",
    "    #'ointrap',\n",
    "    'ointer',\n",
    "    'ocivil',\n",
    "    'United States'\n",
    "    \n",
    "],   \n",
    "    \n",
    " 'Soviet Union'))\n",
    "\n",
    "#Singular matrix for excluded variables"
   ]
  },
  {
   "cell_type": "markdown",
   "metadata": {},
   "source": [
    "## New Nation"
   ]
  },
  {
   "cell_type": "markdown",
   "metadata": {},
   "source": [
    "#### Note: Most colonial wars are not yet present in the Database"
   ]
  },
  {
   "cell_type": "code",
   "execution_count": 368,
   "metadata": {},
   "outputs": [
    {
     "name": "stdout",
     "output_type": "stream",
     "text": [
      "Optimization terminated successfully.\n",
      "         Current function value: 0.502419\n",
      "         Iterations 6\n",
      "                           Logit Regression Results                           \n",
      "==============================================================================\n",
      "Dep. Variable:           Soviet Union   No. Observations:                  463\n",
      "Model:                          Logit   Df Residuals:                      459\n",
      "Method:                           MLE   Df Model:                            3\n",
      "Date:                Sat, 26 May 2018   Pseudo R-squ.:               -0.001636\n",
      "Time:                        01:01:32   Log-Likelihood:                -232.62\n",
      "converged:                       True   LL-Null:                       -232.24\n",
      "                                        LLR p-value:                     1.000\n",
      "==============================================================================\n",
      "                 coef    std err          z      P>|z|      [0.025      0.975]\n",
      "------------------------------------------------------------------------------\n",
      "nsflag        -0.0153      0.002     -7.067      0.000      -0.020      -0.011\n",
      "ssafrica      -0.8226      0.205     -4.004      0.000      -1.225      -0.420\n",
      "asia          -0.3518      0.209     -1.686      0.092      -0.761       0.057\n",
      "ponatind      -1.1745      0.425     -2.763      0.006      -2.008      -0.341\n",
      "==============================================================================\n"
     ]
    }
   ],
   "source": [
    "print(run([\n",
    "    'nsflag',\n",
    "    'ssafrica',\n",
    "    'asia',\n",
    "    'ponatind',  \n",
    "],   \n",
    "    \n",
    " 'Soviet Union'))"
   ]
  },
  {
   "cell_type": "code",
   "execution_count": 369,
   "metadata": {},
   "outputs": [
    {
     "name": "stdout",
     "output_type": "stream",
     "text": [
      "Optimization terminated successfully.\n",
      "         Current function value: 0.631766\n",
      "         Iterations 5\n",
      "                           Logit Regression Results                           \n",
      "==============================================================================\n",
      "Dep. Variable:          United States   No. Observations:                  463\n",
      "Model:                          Logit   Df Residuals:                      459\n",
      "Method:                           MLE   Df Model:                            3\n",
      "Date:                Sat, 26 May 2018   Pseudo R-squ.:                 0.04074\n",
      "Time:                        01:01:41   Log-Likelihood:                -292.51\n",
      "converged:                       True   LL-Null:                       -304.93\n",
      "                                        LLR p-value:                 1.663e-05\n",
      "==============================================================================\n",
      "                 coef    std err          z      P>|z|      [0.025      0.975]\n",
      "------------------------------------------------------------------------------\n",
      "nsflag        -0.0050      0.001     -4.175      0.000      -0.007      -0.003\n",
      "ssafrica      -0.9445      0.199     -4.749      0.000      -1.334      -0.555\n",
      "asia          -0.0253      0.183     -0.139      0.890      -0.383       0.332\n",
      "ponatind      -0.3639      0.318     -1.143      0.253      -0.988       0.260\n",
      "==============================================================================\n"
     ]
    }
   ],
   "source": [
    "print(run([\n",
    "    'nsflag',\n",
    "    'ssafrica',\n",
    "    'asia',\n",
    "    'ponatind',  \n",
    "],   \n",
    "    \n",
    " 'United States'))"
   ]
  },
  {
   "cell_type": "code",
   "execution_count": null,
   "metadata": {},
   "outputs": [],
   "source": []
  }
 ],
 "metadata": {
  "kernelspec": {
   "display_name": "Python 3",
   "language": "python",
   "name": "python3"
  },
  "language_info": {
   "codemirror_mode": {
    "name": "ipython",
    "version": 3
   },
   "file_extension": ".py",
   "mimetype": "text/x-python",
   "name": "python",
   "nbconvert_exporter": "python",
   "pygments_lexer": "ipython3",
   "version": "3.6.5"
  }
 },
 "nbformat": 4,
 "nbformat_minor": 2
}
