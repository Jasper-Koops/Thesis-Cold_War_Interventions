{
 "cells": [
  {
   "cell_type": "code",
   "execution_count": 26,
   "metadata": {},
   "outputs": [
    {
     "name": "stdout",
     "output_type": "stream",
     "text": [
      "Add_ints.ipynb            hm.csv              saved.csv\n",
      "Adjjkd_ints.ipynb         late_20_merged.csv  target_df.csv\n",
      "better_exsup.csv          LICENSE             \u001b[0m\u001b[01;34mThesis-Cold_War_Interventions\u001b[0m/\n",
      "BuildBase.ipynb           maildit.csv         Untitled.ipynb\n",
      "check.csv                 mancheck.csv        us_presidents.csv\n",
      "export.csv                merged.csv          WimmerMin.csv\n",
      "exsup.csv                 merged_midi.csv     WimmerPrepared.csv\n",
      "exsup_merged.csv          NMC.csv             zwei.csv\n",
      "GenerateMasterFile.ipynb  notebook.tex\n"
     ]
    }
   ],
   "source": [
    "import pandas as pd\n",
    "import statsmodels.api as sm\n",
    "import datetime\n",
    "import sklearn as sk\n",
    "%ls"
   ]
  },
  {
   "cell_type": "markdown",
   "metadata": {},
   "source": [
    "# Load Wimmer dataset to use as base df"
   ]
  },
  {
   "cell_type": "code",
   "execution_count": 39,
   "metadata": {},
   "outputs": [],
   "source": [
    "wim = pd.read_csv('WimmerMin.csv')\n",
    "# Remove all non-coldwar entries\n",
    "mask = wim.year > 1945 \n",
    "wim = wim[mask]\n",
    "mask = wim.year < 1992\n",
    "wim = wim[mask]\n",
    "# Wimmers war data, when ignored, will cause duplicate rows to appear, remove them\n",
    "wim.drop_duplicates(subset=['year', 'cowcode'], keep='first', inplace=True)\n"
   ]
  },
  {
   "cell_type": "markdown",
   "metadata": {},
   "source": [
    "### Add US political information (Dummies for presidents and parties)"
   ]
  },
  {
   "cell_type": "code",
   "execution_count": 40,
   "metadata": {},
   "outputs": [
    {
     "name": "stderr",
     "output_type": "stream",
     "text": [
      "/usr/local/lib/python3.6/dist-packages/pandas/core/generic.py:3643: SettingWithCopyWarning: \n",
      "A value is trying to be set on a copy of a slice from a DataFrame.\n",
      "Try using .loc[row_indexer,col_indexer] = value instead\n",
      "\n",
      "See the caveats in the documentation: http://pandas.pydata.org/pandas-docs/stable/indexing.html#indexing-view-versus-copy\n",
      "  self[name] = value\n"
     ]
    }
   ],
   "source": [
    "# Convert start to datetime\n",
    "pres = pd.read_csv('us_presidents.csv')\n",
    "pres['start'] = pd.to_datetime(pres['start'])\n",
    "# Filter out non relevant presidents\n",
    "mask = pres['start'] > datetime.date(1945, 1, 1)\n",
    "pres = pres[mask]\n",
    "mask = pres['start'] < datetime.date(1992, 1, 1)\n",
    "pres = pres[mask]\n",
    "pres['start'] = pres.start.dt.year\n",
    "# Set turman start to 1946 for data reasons\n",
    "pres = pres[['start', 'president', 'party']]\n",
    "pres[:1].start = pres[:1].start +1\n",
    "dummy_pres = pres['president'].str.get_dummies()\n",
    "dummy_party = pres['party'].str.get_dummies()\n",
    "pres = pd.concat([pres, dummy_pres], axis=1)\n",
    "pres = pd.concat([pres, dummy_party], axis=1)\n",
    "pres = pres[['start', 'Dwight D. Eisenhower', 'George H. W. Bush', \n",
    "'Gerald Ford', 'Harry S. Truman', 'Jimmy Carter',\n",
    "'John F. Kennedy', 'Lyndon B. Johnson', 'Richard Nixon',\n",
    "'Ronald Reagan', 'Democratic', 'Republican']]\n",
    "    \n",
    "wim = wim.merge(pres, left_on='year', right_on='start', how='left')\n",
    "wim[[\n",
    "    'Dwight D. Eisenhower', 'George H. W. Bush', \n",
    "    'Gerald Ford', 'Harry S. Truman', 'Jimmy Carter',\n",
    "    'John F. Kennedy', 'Lyndon B. Johnson', 'Richard Nixon',\n",
    "    'Ronald Reagan', 'Democratic', 'Republican']] = wim[\n",
    "    [\n",
    "        'Dwight D. Eisenhower', 'George H. W. Bush', \n",
    "        'Gerald Ford', 'Harry S. Truman', 'Jimmy Carter',\n",
    "        'John F. Kennedy', 'Lyndon B. Johnson', 'Richard Nixon',\n",
    "        'Ronald Reagan', 'Democratic', 'Republican'\n",
    "    ]].ffill()\n",
    "\n"
   ]
  },
  {
   "cell_type": "markdown",
   "metadata": {},
   "source": [
    "### Add US / SU GDP and CINC scores"
   ]
  },
  {
   "cell_type": "code",
   "execution_count": 41,
   "metadata": {},
   "outputs": [],
   "source": [
    "# Add GDP related variables\n",
    "# Split of both countries\n",
    "us_only = wim['cowcode'] == 2\n",
    "su_only = wim['cowcode'] == 365\n",
    "\n",
    "rus_gdp = wim[su_only]\n",
    "rus_gdp = rus_gdp[['gdppc', 'gdppcl', 'year']]\n",
    "rus_gdp.columns = ['SU_gdppc', 'SU_gdppcl', 'year']\n",
    "\n",
    "us_gdp = wim[su_only]\n",
    "us_gdp = us_gdp[['gdppc', 'gdppcl', 'year']]\n",
    "\n",
    "us_gdp\n",
    "us_gdp.columns = ['US_gdppc', 'US_gdppcl', 'year']\n",
    "\n",
    "gdp_merged = pd.concat([rus_gdp, us_gdp], axis=1)\n",
    "gdp_merged \n",
    "\n",
    "\n",
    "# Get CINC scores\n",
    "cinc = pd.read_csv('NMC.csv')\n",
    "mask = cinc['year'] < 1992\n",
    "cinc = cinc[mask]\n",
    "mask = cinc['year'] > 1945\n",
    "cinc = cinc[mask]\n",
    "cinc = cinc[['ccode', 'year', 'milex', 'cinc']]\n",
    "\n",
    "# Get MIl_Ex as sperate variable, \n",
    "# (as the Soviet Union had a large army despite a lagging economy)\n",
    "# Again, split of both countries\n",
    "us_only = cinc['ccode'] == 2\n",
    "su_only = cinc['ccode'] == 365\n",
    "\n",
    "rus_cinc = cinc[su_only]\n",
    "rus_cinc = rus_cinc[['milex', 'cinc', 'year']]\n",
    "rus_cinc.columns = ['SU_milex', 'SU_cinc', 'year']\n",
    "\n",
    "us_cinc = cinc[us_only]\n",
    "us_cinc = us_cinc[['milex', 'cinc', 'year']]\n",
    "us_cinc.columns = ['US_milex', 'US_cinc', 'year']\n",
    "\n",
    "rus_cinc.reset_index(inplace=True)\n",
    "us_cinc.reset_index(inplace=True)  \n",
    "\n",
    "cinc_merged = pd.concat([rus_cinc, us_cinc], axis=1)\n",
    "cinc_merged = cinc_merged[['SU_milex', 'SU_cinc', 'US_milex', 'US_cinc', 'year']]\n",
    "cinc_merged.reset_index(inplace=True)\n",
    "gdp_merged.reset_index(inplace=True)\n",
    "\n",
    "\n",
    "gpd_cinc_merged = pd.concat([gdp_merged, cinc_merged], axis=1)\n",
    "\n",
    "# Remove duplicate columns. \n",
    "c = pd.Index(['SU_gdppc', 'SU_gdppcl', 'year', 'US_gdppc', 'US_gdppcl',\n",
    "       'year', 'SU_milex', 'SU_cinc', 'US_milex', 'US_cinc', 'year',\n",
    "       'year'])\n",
    "\n",
    "gpd_cinc_merged = gpd_cinc_merged.loc[:, ~gpd_cinc_merged.columns.duplicated()]\n",
    "\n",
    "#Merge new dataframe into Wimmers dataset\n",
    "wim = wim.merge(gpd_cinc_merged, left_on='year', right_on='year', how='left')\n",
    "\n",
    "# Add cinc and milex variables for indivual nations as well. \n",
    "wim = wim.merge(cinc, left_on=['year', 'cowcode'], right_on=['year', 'ccode'], how='left')\n",
    "\n",
    "#Save the file\n",
    "wim.to_csv('WimmerPrepared.csv')\n"
   ]
  },
  {
   "cell_type": "markdown",
   "metadata": {},
   "source": [
    "# Prepare external support DF"
   ]
  },
  {
   "cell_type": "markdown",
   "metadata": {},
   "source": [
    "## WARNING - This block contains a very slow groupby operation, which will take +/- 15 minutes"
   ]
  },
  {
   "cell_type": "code",
   "execution_count": 30,
   "metadata": {},
   "outputs": [
    {
     "name": "stderr",
     "output_type": "stream",
     "text": [
      "/usr/local/lib/python3.6/dist-packages/ipykernel_launcher.py:45: SettingWithCopyWarning: \n",
      "A value is trying to be set on a copy of a slice from a DataFrame.\n",
      "Try using .loc[row_indexer,col_indexer] = value instead\n",
      "\n",
      "See the caveats in the documentation: http://pandas.pydata.org/pandas-docs/stable/indexing.html#indexing-view-versus-copy\n",
      "/usr/local/lib/python3.6/dist-packages/ipykernel_launcher.py:49: SettingWithCopyWarning: \n",
      "A value is trying to be set on a copy of a slice from a DataFrame.\n",
      "Try using .loc[row_indexer,col_indexer] = value instead\n",
      "\n",
      "See the caveats in the documentation: http://pandas.pydata.org/pandas-docs/stable/indexing.html#indexing-view-versus-copy\n"
     ]
    }
   ],
   "source": [
    "exsup = pd.read_csv('exsup.csv')\n",
    "# Remove all non-coldwar entries\n",
    "mask = exsup['ywp_year'] < 1992\n",
    "exsup = exsup[mask]\n",
    "#remove non US / SU interventions\n",
    "dummies = exsup['external_name'].str.get_dummies(sep=';')\n",
    "dummies = dummies[['United States', 'Soviet Union']]\n",
    "exsup = pd.concat([exsup, dummies], axis=1)\n",
    "# Drop duplicates\n",
    "exsup.drop_duplicates(inplace=True)\n",
    "\n",
    "# Add support specific dummies\n",
    "old = ['external_type__X', 'external_type__L', 'external_type__Y',\n",
    "         'external_type__W', 'external_type__M', 'external_type__T',\n",
    "         'external_type__$', 'external_type__I', 'external_type__O', \n",
    "         'external_type__U']\n",
    "new = [\n",
    "    'troops', 'joint_ops', 'terr', 'weapons', 'logistics',\n",
    "    'training', 'eco', 'intel', 'other', 'unknown'\n",
    "]\n",
    "\n",
    "us_support_cols = ['US_' + x for x in old]\n",
    "su_support_cols = ['SU_' + x for x in old]\n",
    "\n",
    "for col in us_support_cols:\n",
    "    exsup[col] = 0\n",
    "for col in su_support_cols:\n",
    "    exsup[col] = 0\n",
    "   \n",
    "\n",
    "# # Build dict to rename columns\n",
    "# coldict = {}\n",
    "# index = 0\n",
    "# for col in old:    \n",
    "#     coldict[col] = new[index]\n",
    "#     index +=1\n",
    "# # Rename columns\n",
    "# exsup.rename(coldict, inplace=True)\n",
    "\n",
    "\n",
    "for index, row in exsup.iterrows():\n",
    "    if row['Soviet Union'] == 1:\n",
    "        nation = 'SU_'\n",
    "        for col in old:\n",
    "            exsup[index: index + 1][nation + col] = int(row[col])\n",
    "    if row['United States'] == 1:\n",
    "        nation = 'US_'\n",
    "        for col in old:\n",
    "            exsup[index: index + 1][nation + col] = int(row[col])\n",
    "            \n",
    "\n",
    "# Save to csv\n",
    "exsup.to_csv('export.csv')\n",
    "exsup_backup = exsup\n",
    "# Merge dataframe per year-country combination\n",
    "exsup = exsup.groupby(['locationid1', 'ywp_year']).max()\n",
    "exsup.to_csv('exsup_merged.csv')"
   ]
  },
  {
   "cell_type": "markdown",
   "metadata": {},
   "source": [
    "## Merge UCDP external support into the BaseDataset"
   ]
  },
  {
   "cell_type": "code",
   "execution_count": 42,
   "metadata": {},
   "outputs": [],
   "source": [
    "# Reset index so 'locationid1' becomes available again. \n",
    "exsup.reset_index(inplace=True)\n",
    "# wim.reset_index(inplace=True)"
   ]
  },
  {
   "cell_type": "code",
   "execution_count": 36,
   "metadata": {},
   "outputs": [
    {
     "data": {
      "text/plain": [
       "Index(['level_0', 'yearc', 'year', 'cowcode', 'country', 'onset', 'war',\n",
       "       'warname', 'warno', 'wartype', 'yrbeg', 'yrend', 'anarc', 'anarcl',\n",
       "       'anoc', 'anocl', 'area2001', 'asia', 'autoc', 'autocl', 'democ',\n",
       "       'democl', 'eeurop', 'ethfrac', 'gdp', 'gdppc', 'gdppcl', 'implag',\n",
       "       'imppower', 'instab', 'instabl', 'lamerica', 'lmtnest', 'lnpop',\n",
       "       'lnpopl', 'milperc', 'milpercl', 'nafrme', 'nbcivil', 'nbconq',\n",
       "       'nbinter', 'nbnatind', 'nbnonind', 'nsflag', 'nsfyear', 'ocivil',\n",
       "       'oconq', 'oil', 'oilpc', 'oilpcl', 'ointer', 'ointrap', 'onatind',\n",
       "       'ononind', 'pdemnb', 'pocivil', 'poconq', 'pointer', 'pointrap',\n",
       "       'poldisc', 'poldiscl', 'ponatind', 'pononind', 'ponset', 'pop',\n",
       "       'relfrac', 'ssafrica', 'western', 'start', 'Dwight D. Eisenhower',\n",
       "       'George H. W. Bush', 'Gerald Ford', 'Harry S. Truman', 'Jimmy Carter',\n",
       "       'John F. Kennedy', 'Lyndon B. Johnson', 'Richard Nixon',\n",
       "       'Ronald Reagan', 'Democratic', 'Republican', 'index', 'SU_gdppc',\n",
       "       'SU_gdppcl', 'US_gdppc', 'US_gdppcl', 'SU_milex', 'SU_cinc', 'US_milex',\n",
       "       'US_cinc', 'ccode', 'milex', 'cinc'],\n",
       "      dtype='object')"
      ]
     },
     "execution_count": 36,
     "metadata": {},
     "output_type": "execute_result"
    }
   ],
   "source": [
    "wim.columns"
   ]
  },
  {
   "cell_type": "code",
   "execution_count": 35,
   "metadata": {},
   "outputs": [
    {
     "data": {
      "text/plain": [
       "Index(['locationid1', 'ywp_year', 'SU_external_type__$', 'SU_external_type__I',\n",
       "       'SU_external_type__L', 'SU_external_type__M', 'SU_external_type__O',\n",
       "       'SU_external_type__T', 'SU_external_type__U', 'SU_external_type__W',\n",
       "       'SU_external_type__X', 'SU_external_type__Y', 'Soviet Union',\n",
       "       'US_external_type__$', 'US_external_type__I', 'US_external_type__L',\n",
       "       'US_external_type__M', 'US_external_type__O', 'US_external_type__T',\n",
       "       'US_external_type__U', 'US_external_type__W', 'US_external_type__X',\n",
       "       'US_external_type__Y', 'United States', 'actorID', 'bc_id', 'bc_name',\n",
       "       'bwd_id', 'bwd_name', 'conflictID', 'country1', 'external_alleged',\n",
       "       'external_exists', 'external_type__$', 'external_type__I',\n",
       "       'external_type__L', 'external_type__M', 'external_type__O',\n",
       "       'external_type__T', 'external_type__U', 'external_type__W',\n",
       "       'external_type__X', 'external_type__Y', 'locationid2', 'ywp_id',\n",
       "       'ywp_name'],\n",
       "      dtype='object')"
      ]
     },
     "execution_count": 35,
     "metadata": {},
     "output_type": "execute_result"
    }
   ],
   "source": [
    "exsup.columns"
   ]
  },
  {
   "cell_type": "code",
   "execution_count": 51,
   "metadata": {},
   "outputs": [],
   "source": [
    "merged = wim.merge(exsup, left_on=['cowcode', 'year'], right_on=['locationid1', 'ywp_year'], how='left')\n",
    "# External exists is a value that we dont want Null values for, ffill them. \n",
    "merged['external_exists'].fillna(value=0, inplace=True)\n",
    "\n",
    "# # Add dummies for US and RU interventions\n",
    "# intervention_dummies = merged['external_name'].str.get_dummies()\n",
    "# merged = pd.concat([merged, intervention_dummies], axis=1)\n",
    "\n",
    "mask = merged.year > 1975\n",
    "merged = merged[mask]\n",
    "merged.to_csv('masterfile.csv')"
   ]
  },
  {
   "cell_type": "code",
   "execution_count": 49,
   "metadata": {},
   "outputs": [
    {
     "name": "stdout",
     "output_type": "stream",
     "text": [
      "<class 'pandas.core.frame.DataFrame'>\n",
      "Int64Index: 2400 entries, 30 to 6899\n",
      "Columns: 138 entries, yearc to ywp_name\n",
      "dtypes: float64(97), int64(32), object(9)\n",
      "memory usage: 2.5+ MB\n"
     ]
    }
   ],
   "source": [
    "merged.info()"
   ]
  },
  {
   "cell_type": "code",
   "execution_count": 52,
   "metadata": {},
   "outputs": [
    {
     "name": "stdout",
     "output_type": "stream",
     "text": [
      "yearc\n",
      "year\n",
      "cowcode\n",
      "country\n",
      "onset\n",
      "war\n",
      "warname\n",
      "warno\n",
      "wartype\n",
      "yrbeg\n",
      "yrend\n",
      "anarc\n",
      "anarcl\n",
      "anoc\n",
      "anocl\n",
      "area2001\n",
      "asia\n",
      "autoc\n",
      "autocl\n",
      "democ\n",
      "democl\n",
      "eeurop\n",
      "ethfrac\n",
      "gdp\n",
      "gdppc\n",
      "gdppcl\n",
      "implag\n",
      "imppower\n",
      "instab\n",
      "instabl\n",
      "lamerica\n",
      "lmtnest\n",
      "lnpop\n",
      "lnpopl\n",
      "milperc\n",
      "milpercl\n",
      "nafrme\n",
      "nbcivil\n",
      "nbconq\n",
      "nbinter\n",
      "nbnatind\n",
      "nbnonind\n",
      "nsflag\n",
      "nsfyear\n",
      "ocivil\n",
      "oconq\n",
      "oil\n",
      "oilpc\n",
      "oilpcl\n",
      "ointer\n",
      "ointrap\n",
      "onatind\n",
      "ononind\n",
      "pdemnb\n",
      "pocivil\n",
      "poconq\n",
      "pointer\n",
      "pointrap\n",
      "poldisc\n",
      "poldiscl\n",
      "ponatind\n",
      "pononind\n",
      "ponset\n",
      "pop\n",
      "relfrac\n",
      "ssafrica\n",
      "western\n",
      "start\n",
      "Dwight D. Eisenhower\n",
      "George H. W. Bush\n",
      "Gerald Ford\n",
      "Harry S. Truman\n",
      "Jimmy Carter\n",
      "John F. Kennedy\n",
      "Lyndon B. Johnson\n",
      "Richard Nixon\n",
      "Ronald Reagan\n",
      "Democratic\n",
      "Republican\n",
      "index_x\n",
      "SU_gdppc\n",
      "SU_gdppcl\n",
      "US_gdppc\n",
      "US_gdppcl\n",
      "SU_milex\n",
      "SU_cinc\n",
      "US_milex\n",
      "US_cinc\n",
      "ccode\n",
      "milex\n",
      "cinc\n",
      "index_y\n",
      "locationid1\n",
      "ywp_year\n",
      "SU_external_type__$\n",
      "SU_external_type__I\n",
      "SU_external_type__L\n",
      "SU_external_type__M\n",
      "SU_external_type__O\n",
      "SU_external_type__T\n",
      "SU_external_type__U\n",
      "SU_external_type__W\n",
      "SU_external_type__X\n",
      "SU_external_type__Y\n",
      "Soviet Union\n",
      "US_external_type__$\n",
      "US_external_type__I\n",
      "US_external_type__L\n",
      "US_external_type__M\n",
      "US_external_type__O\n",
      "US_external_type__T\n",
      "US_external_type__U\n",
      "US_external_type__W\n",
      "US_external_type__X\n",
      "US_external_type__Y\n",
      "United States\n",
      "actorID\n",
      "bc_id\n",
      "bc_name\n",
      "bwd_id\n",
      "bwd_name\n",
      "conflictID\n",
      "country1\n",
      "external_alleged\n",
      "external_exists\n",
      "external_type__$\n",
      "external_type__I\n",
      "external_type__L\n",
      "external_type__M\n",
      "external_type__O\n",
      "external_type__T\n",
      "external_type__U\n",
      "external_type__W\n",
      "external_type__X\n",
      "external_type__Y\n",
      "locationid2\n",
      "ywp_id\n",
      "ywp_name\n"
     ]
    }
   ],
   "source": [
    "for x in merged.columns:\n",
    "    print(x)"
   ]
  },
  {
   "cell_type": "code",
   "execution_count": 54,
   "metadata": {},
   "outputs": [],
   "source": [
    "logit = sm.Logit(merged['United States'], merged[['Soviet Union', 'cinc']], missing='drop')\n",
    "#logit = sm.Logit(late20['Soviet Union'], late20[['onatind', 'ssafrica']], missing='drop')\n",
    "\n",
    "#'anarc', 'ointrap', 'instab'"
   ]
  },
  {
   "cell_type": "code",
   "execution_count": 55,
   "metadata": {},
   "outputs": [
    {
     "name": "stdout",
     "output_type": "stream",
     "text": [
      "Optimization terminated successfully.\n",
      "         Current function value: 0.632447\n",
      "         Iterations 7\n"
     ]
    }
   ],
   "source": [
    "results = logit.fit(missing='drop')"
   ]
  },
  {
   "cell_type": "code",
   "execution_count": 56,
   "metadata": {},
   "outputs": [
    {
     "name": "stdout",
     "output_type": "stream",
     "text": [
      "                           Logit Regression Results                           \n",
      "==============================================================================\n",
      "Dep. Variable:          United States   No. Observations:                  463\n",
      "Model:                          Logit   Df Residuals:                      461\n",
      "Method:                           MLE   Df Model:                            1\n",
      "Date:                Fri, 25 May 2018   Pseudo R-squ.:                 0.03971\n",
      "Time:                        23:12:09   Log-Likelihood:                -292.82\n",
      "converged:                       True   LL-Null:                       -304.93\n",
      "                                        LLR p-value:                 8.610e-07\n",
      "================================================================================\n",
      "                   coef    std err          z      P>|z|      [0.025      0.975]\n",
      "--------------------------------------------------------------------------------\n",
      "Soviet Union     0.2197      0.220      0.996      0.319      -0.212       0.652\n",
      "cinc           -76.8792     15.845     -4.852      0.000    -107.935     -45.823\n",
      "================================================================================\n"
     ]
    }
   ],
   "source": [
    "print(results.summary())"
   ]
  },
  {
   "cell_type": "code",
   "execution_count": null,
   "metadata": {},
   "outputs": [],
   "source": [
    "# MATCHES - US\n",
    "[['Soviet Union', 'poldisc']]"
   ]
  },
  {
   "cell_type": "code",
   "execution_count": null,
   "metadata": {},
   "outputs": [],
   "source": [
    "# Matches - SU"
   ]
  },
  {
   "cell_type": "code",
   "execution_count": null,
   "metadata": {},
   "outputs": [],
   "source": []
  },
  {
   "cell_type": "code",
   "execution_count": null,
   "metadata": {},
   "outputs": [],
   "source": [
    "for col in wim.columns:\n",
    "    print(col)"
   ]
  },
  {
   "cell_type": "code",
   "execution_count": null,
   "metadata": {},
   "outputs": [],
   "source": []
  },
  {
   "cell_type": "code",
   "execution_count": null,
   "metadata": {},
   "outputs": [],
   "source": []
  },
  {
   "cell_type": "code",
   "execution_count": null,
   "metadata": {},
   "outputs": [],
   "source": []
  }
 ],
 "metadata": {
  "kernelspec": {
   "display_name": "Python 3",
   "language": "python",
   "name": "python3"
  },
  "language_info": {
   "codemirror_mode": {
    "name": "ipython",
    "version": 3
   },
   "file_extension": ".py",
   "mimetype": "text/x-python",
   "name": "python",
   "nbconvert_exporter": "python",
   "pygments_lexer": "ipython3",
   "version": "3.6.5"
  }
 },
 "nbformat": 4,
 "nbformat_minor": 2
}
