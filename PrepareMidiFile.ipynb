{
 "cells": [
  {
   "cell_type": "code",
   "execution_count": 1,
   "metadata": {},
   "outputs": [],
   "source": [
    "import pandas as pd\n",
    "import datetime"
   ]
  },
  {
   "cell_type": "code",
   "execution_count": 2,
   "metadata": {},
   "outputs": [],
   "source": [
    "midi = pd.read_csv('./sources/merged_midi.csv')\n",
    "midi['start'] = midi['start'].astype(str).str[:4]\n",
    "midi['start'] = midi['start'].astype(int)\n",
    "\n",
    "# Remove error codes from datefields\n",
    "mask = midi['start'] < 1992\n",
    "midi = midi[mask]\n",
    "mask = midi['start'] > 1945\n",
    "midi = midi[mask]\n",
    "\n",
    "midi['end'] = midi['end'].astype(str).str[:4]\n",
    "midi['end'] = midi['end'].astype(int)\n",
    "\n",
    "# Remove error codes from datefields\n",
    "mask = midi['end'] < 2020\n",
    "midi = midi[mask]\n",
    "mask = midi['end'] > 1945\n",
    "midi = midi[mask]"
   ]
  },
  {
   "cell_type": "code",
   "execution_count": 3,
   "metadata": {},
   "outputs": [],
   "source": [
    "# Get only relevant columns\n",
    "midi = midi[['intervener', 'target', 'start', 'end']]\n",
    "midi['duration'] = midi['end'] - midi['start'] + 1\n",
    "# Remove error-code enddates\n",
    "mask = midi['duration'] < 5000\n",
    "midi = midi[mask]"
   ]
  },
  {
   "cell_type": "code",
   "execution_count": 4,
   "metadata": {},
   "outputs": [
    {
     "name": "stdout",
     "output_type": "stream",
     "text": [
      "<class 'pandas.core.frame.DataFrame'>\n",
      "Int64Index: 767 entries, 0 to 779\n",
      "Data columns (total 5 columns):\n",
      "intervener    767 non-null int64\n",
      "target        767 non-null int64\n",
      "start         767 non-null datetime64[ns]\n",
      "end           767 non-null datetime64[ns]\n",
      "duration      767 non-null int64\n",
      "dtypes: datetime64[ns](2), int64(3)\n",
      "memory usage: 36.0 KB\n"
     ]
    }
   ],
   "source": [
    "midi.start = pd.to_datetime(midi.start, format='%Y')\n",
    "midi.end = pd.to_datetime(midi.end, format='%Y')\n",
    "midi.info()"
   ]
  },
  {
   "cell_type": "code",
   "execution_count": 5,
   "metadata": {},
   "outputs": [],
   "source": [
    "midi = pd.concat(\n",
    "    [pd.DataFrame({'date': pd.date_range(row.start, row.end + pd.DateOffset(years=1), freq='12m'), \n",
    "              'target': row.target, 'intervener': row.intervener}, columns=['date', 'target', 'intervener']\n",
    "                 ) for i, row in midi.iterrows()])\n",
    "\n",
    "# remove dates after cold war\n",
    "mask = midi['date'] < datetime.date(1992,1,1)\n",
    "midi = midi[mask]\n",
    "# Reconvert date to year\n",
    "midi['date'] = midi['date'].dt.year\n",
    "\n",
    "# Remove all interventions we dont care about\n",
    "nations = [2, 200, 210, 211, 220, 230, 235, 365]\n",
    "mask = midi['intervener'].isin(nations)\n",
    "midi = midi[mask]\n",
    "dummies = midi['intervener'].astype('str').str.get_dummies()\n",
    "midi = pd.concat([midi, dummies], axis=1)"
   ]
  },
  {
   "cell_type": "code",
   "execution_count": 6,
   "metadata": {},
   "outputs": [],
   "source": [
    "# Group dataframe, so one year-target pair exists for each country\n",
    "midi = midi.groupby(['target', 'date']).max()"
   ]
  },
  {
   "cell_type": "code",
   "execution_count": 7,
   "metadata": {},
   "outputs": [],
   "source": [
    "midi.columns = ['intervener', 'US_midi', 'UK_midi', 'NL_midi', 'BE_midi', 'FR_midi', 'SP_midi', 'PT_midi', 'SU_midi']\n",
    "midi['COL_MIDI'] = 0\n",
    "midi.reset_index(inplace=True)\n",
    "col_list = ['UK_midi', 'NL_midi', 'BE_midi', 'FR_midi', 'SP_midi', 'PT_midi']\n",
    "midi['COL_MIDI'] = (midi[col_list].sum(axis=1) > 0) * 1 \n",
    "midi.drop('intervener', axis=1, inplace=True)\n",
    "\n",
    "# Save to CSV\n",
    "midi.to_csv('./output/MIDI_prepared.csv')"
   ]
  }
 ],
 "metadata": {
  "kernelspec": {
   "display_name": "Python 3",
   "language": "python",
   "name": "python3"
  },
  "language_info": {
   "codemirror_mode": {
    "name": "ipython",
    "version": 3
   },
   "file_extension": ".py",
   "mimetype": "text/x-python",
   "name": "python",
   "nbconvert_exporter": "python",
   "pygments_lexer": "ipython3",
   "version": "3.6.5"
  }
 },
 "nbformat": 4,
 "nbformat_minor": 2
}
