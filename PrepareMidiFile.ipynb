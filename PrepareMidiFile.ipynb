{
 "cells": [
  {
   "cell_type": "code",
   "execution_count": 479,
   "metadata": {},
   "outputs": [],
   "source": [
    "import pandas as pd\n",
    "import datetime"
   ]
  },
  {
   "cell_type": "code",
   "execution_count": 480,
   "metadata": {},
   "outputs": [],
   "source": [
    "midi = pd.read_csv('merged_midi.csv')"
   ]
  },
  {
   "cell_type": "code",
   "execution_count": 481,
   "metadata": {},
   "outputs": [],
   "source": [
    "# df['start'] = pd.to_datetime(df['start'][:5])\n",
    "midi['start'] = midi['start'].astype(str).str[:4]\n",
    "midi['start'] = midi['start'].astype(int)\n",
    "\n",
    "# Remove error codes from datefields\n",
    "mask = midi['start'] < 1992\n",
    "midi = midi[mask]\n",
    "mask = midi['start'] > 1945\n",
    "midi = midi[mask]\n",
    "\n",
    "midi['end'] = midi['end'].astype(str).str[:4]\n",
    "midi['end'] = midi['end'].astype(int)\n",
    "\n",
    "# Remove error codes from datefields\n",
    "mask = midi['end'] < 2020\n",
    "midi = midi[mask]\n",
    "mask = midi['end'] > 1945\n",
    "midi = midi[mask]"
   ]
  },
  {
   "cell_type": "code",
   "execution_count": 482,
   "metadata": {},
   "outputs": [],
   "source": [
    "midi = midi[['intervener', 'target', 'start', 'end']]"
   ]
  },
  {
   "cell_type": "code",
   "execution_count": 483,
   "metadata": {},
   "outputs": [
    {
     "data": {
      "text/plain": [
       "Index(['intervener', 'target', 'start', 'end', 'duration'], dtype='object')"
      ]
     },
     "execution_count": 483,
     "metadata": {},
     "output_type": "execute_result"
    }
   ],
   "source": [
    "midi['duration'] = midi['end'] - midi['start'] + 1\n",
    "# Remove error-code enddates\n",
    "mask = midi['duration'] < 5000\n",
    "midi = midi[mask]\n",
    "midi_backup = midi\n",
    "midi.columns"
   ]
  },
  {
   "cell_type": "code",
   "execution_count": 484,
   "metadata": {},
   "outputs": [
    {
     "name": "stdout",
     "output_type": "stream",
     "text": [
      "<class 'pandas.core.frame.DataFrame'>\n",
      "Int64Index: 767 entries, 0 to 779\n",
      "Data columns (total 5 columns):\n",
      "intervener    767 non-null int64\n",
      "target        767 non-null int64\n",
      "start         767 non-null datetime64[ns]\n",
      "end           767 non-null datetime64[ns]\n",
      "duration      767 non-null int64\n",
      "dtypes: datetime64[ns](2), int64(3)\n",
      "memory usage: 36.0 KB\n"
     ]
    }
   ],
   "source": [
    "midi.start = pd.to_datetime(midi.start, format='%Y')\n",
    "midi.end = pd.to_datetime(midi.end, format='%Y')\n",
    "midi.info()"
   ]
  },
  {
   "cell_type": "code",
   "execution_count": 485,
   "metadata": {},
   "outputs": [
    {
     "name": "stderr",
     "output_type": "stream",
     "text": [
      "/usr/local/lib/python3.6/dist-packages/ipykernel_launcher.py:17: SettingWithCopyWarning: \n",
      "A value is trying to be set on a copy of a slice from a DataFrame.\n",
      "Try using .loc[row_indexer,col_indexer] = value instead\n",
      "\n",
      "See the caveats in the documentation: http://pandas.pydata.org/pandas-docs/stable/indexing.html#indexing-view-versus-copy\n"
     ]
    }
   ],
   "source": [
    "midi_years = pd.concat([pd.DataFrame({'date': pd.date_range(row.start, row.end + pd.DateOffset(years=1), freq='12m'), \n",
    "              'target': row.target, 'intervener': row.intervener}, columns=['date', 'target', 'intervener']) for i, row in midi.iterrows()])\n",
    "\n",
    "midi_years\n",
    "# dummies = midi_years['intervener'].astype('str').str.get_dummies()\n",
    "# midi_years = pd.concat([midi_years, dummies], axis=1)\n",
    "# us_mask = midi_years['target'] == 200\n",
    "# us = midi_years[us_mask]\n",
    "# us\n",
    "\n",
    "midi = midi_years\n",
    "\n",
    "# remove dates after cold war\n",
    "mask = midi['date'] < datetime.date(1992,1,1)\n",
    "midi = midi[mask]\n",
    "# Reconvert date to year\n",
    "midi['date'] = midi['date'].dt.year\n",
    "\n",
    "# Remove all interventions we dont care about\n",
    "nations = [2, 200, 210, 211, 220, 230, 235, 365]\n",
    "mask = midi['intervener'].isin(nations)\n",
    "midi = midi[mask]\n",
    "dummies = midi['intervener'].astype('str').str.get_dummies()\n",
    "midi = pd.concat([midi, dummies], axis=1)"
   ]
  },
  {
   "cell_type": "code",
   "execution_count": 486,
   "metadata": {},
   "outputs": [],
   "source": [
    "# Group dataframe, so one year-target pair exists for each country\n",
    "midi = midi.groupby(['target', 'date']).max()"
   ]
  },
  {
   "cell_type": "code",
   "execution_count": 487,
   "metadata": {},
   "outputs": [],
   "source": [
    "def col_checker(x):\n",
    "    col_list = ['UK_midi', 'NL_midi', 'BE_midi', 'FR_midi', 'SP_midi', 'PT_midi']\n",
    "    for nation in col_list:\n",
    "        if x[nation] != 0:\n",
    "            return 1\n",
    "        else:\n",
    "            return 0"
   ]
  },
  {
   "cell_type": "code",
   "execution_count": 488,
   "metadata": {},
   "outputs": [],
   "source": [
    "midi.columns = ['intervener', 'US_midi', 'UK_midi', 'NL_midi', 'BE_midi', 'FR_midi', 'SP_midi', 'PT_midi', 'SU_midi']\n",
    "midi['COL_MIDI'] = 0\n",
    "midi.reset_index(inplace=True)\n",
    "midi['COL_MIDI'] = midi.apply(col_checker, axis=1)\n",
    "midi.drop('intervener', axis=1, inplace=True)"
   ]
  },
  {
   "cell_type": "code",
   "execution_count": 489,
   "metadata": {},
   "outputs": [],
   "source": [
    "midi.to_csv('MIDI_prepared.csv')"
   ]
  },
  {
   "cell_type": "code",
   "execution_count": null,
   "metadata": {},
   "outputs": [],
   "source": []
  }
 ],
 "metadata": {
  "kernelspec": {
   "display_name": "Python 3",
   "language": "python",
   "name": "python3"
  },
  "language_info": {
   "codemirror_mode": {
    "name": "ipython",
    "version": 3
   },
   "file_extension": ".py",
   "mimetype": "text/x-python",
   "name": "python",
   "nbconvert_exporter": "python",
   "pygments_lexer": "ipython3",
   "version": "3.6.5"
  }
 },
 "nbformat": 4,
 "nbformat_minor": 2
}
