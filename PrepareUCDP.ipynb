{
 "cells": [
  {
   "cell_type": "code",
   "execution_count": 22,
   "metadata": {},
   "outputs": [],
   "source": [
    "import pandas as pd"
   ]
  },
  {
   "cell_type": "markdown",
   "metadata": {},
   "source": [
    "## Warning - This block contains a somewhat expensive 'Groupby' operation that will take around 5 minutes"
   ]
  },
  {
   "cell_type": "code",
   "execution_count": 20,
   "metadata": {},
   "outputs": [
    {
     "name": "stderr",
     "output_type": "stream",
     "text": [
      "/home/jasper/Dropbox/ULTRADOCUMENTEN/THESIS_CIVIL_WAR/THESIS/venv/lib/python3.5/site-packages/ipykernel_launcher.py:63: SettingWithCopyWarning: \n",
      "A value is trying to be set on a copy of a slice from a DataFrame.\n",
      "Try using .loc[row_indexer,col_indexer] = value instead\n",
      "\n",
      "See the caveats in the documentation: http://pandas.pydata.org/pandas-docs/stable/indexing.html#indexing-view-versus-copy\n",
      "/home/jasper/Dropbox/ULTRADOCUMENTEN/THESIS_CIVIL_WAR/THESIS/venv/lib/python3.5/site-packages/ipykernel_launcher.py:67: SettingWithCopyWarning: \n",
      "A value is trying to be set on a copy of a slice from a DataFrame.\n",
      "Try using .loc[row_indexer,col_indexer] = value instead\n",
      "\n",
      "See the caveats in the documentation: http://pandas.pydata.org/pandas-docs/stable/indexing.html#indexing-view-versus-copy\n",
      "/home/jasper/Dropbox/ULTRADOCUMENTEN/THESIS_CIVIL_WAR/THESIS/venv/lib/python3.5/site-packages/ipykernel_launcher.py:83: SettingWithCopyWarning: \n",
      "A value is trying to be set on a copy of a slice from a DataFrame.\n",
      "Try using .loc[row_indexer,col_indexer] = value instead\n",
      "\n",
      "See the caveats in the documentation: http://pandas.pydata.org/pandas-docs/stable/indexing.html#indexing-view-versus-copy\n",
      "/home/jasper/Dropbox/ULTRADOCUMENTEN/THESIS_CIVIL_WAR/THESIS/venv/lib/python3.5/site-packages/ipykernel_launcher.py:71: SettingWithCopyWarning: \n",
      "A value is trying to be set on a copy of a slice from a DataFrame.\n",
      "Try using .loc[row_indexer,col_indexer] = value instead\n",
      "\n",
      "See the caveats in the documentation: http://pandas.pydata.org/pandas-docs/stable/indexing.html#indexing-view-versus-copy\n",
      "/home/jasper/Dropbox/ULTRADOCUMENTEN/THESIS_CIVIL_WAR/THESIS/venv/lib/python3.5/site-packages/ipykernel_launcher.py:79: SettingWithCopyWarning: \n",
      "A value is trying to be set on a copy of a slice from a DataFrame.\n",
      "Try using .loc[row_indexer,col_indexer] = value instead\n",
      "\n",
      "See the caveats in the documentation: http://pandas.pydata.org/pandas-docs/stable/indexing.html#indexing-view-versus-copy\n",
      "/home/jasper/Dropbox/ULTRADOCUMENTEN/THESIS_CIVIL_WAR/THESIS/venv/lib/python3.5/site-packages/ipykernel_launcher.py:75: SettingWithCopyWarning: \n",
      "A value is trying to be set on a copy of a slice from a DataFrame.\n",
      "Try using .loc[row_indexer,col_indexer] = value instead\n",
      "\n",
      "See the caveats in the documentation: http://pandas.pydata.org/pandas-docs/stable/indexing.html#indexing-view-versus-copy\n"
     ]
    }
   ],
   "source": [
    "exsup = pd.read_csv('./sources/exsup.csv')\n",
    "# Remove all non-coldwar entries\n",
    "mask = exsup['ywp_year'] < 1992\n",
    "exsup = exsup[mask]\n",
    "#remove non US / SU interventions\n",
    "dummies = exsup['external_name'].str.get_dummies(sep=';')\n",
    "# 'Netherlands', 'Yugoslavia', 'Spain' and 'Portugal' are excluded because they are not in the Dataset as interveners.\n",
    "dummies = dummies[[\n",
    "    'United States', 'Soviet Union', 'United Kingdom', 'France', \n",
    "    'Belgium', 'Cuba', 'China']]\n",
    "exsup = pd.concat([exsup, dummies], axis=1)\n",
    "# Drop duplicates\n",
    "exsup.drop_duplicates(inplace=True)\n",
    "\n",
    "exsup.rename(index=str, columns={\n",
    "    'external_type_X': 'troops',\n",
    "    'external_type_Y': 'joint_ops',\n",
    "    'external_type_L': 'terr',\n",
    "    'external_type_W': 'weapons',\n",
    "    'external_type_M': 'logistics',\n",
    "    'external_type_T': 'training',\n",
    "    'external_type_$': 'eco',\n",
    "    'external_type_I': 'intel',\n",
    "    'external_type_O': 'others',\n",
    "    'external_type_U': 'unknown'\n",
    "    \n",
    "})\n",
    "\n",
    "# Add support specific dummies\n",
    "old = ['external_type_X', 'external_type_Y', 'external_type_L',\n",
    "       'external_type_W', 'external_type_M', 'external_type_T',\n",
    "       'external_type_$', 'external_type_I', 'external_type_O', \n",
    "       'external_type_U']\n",
    "new = [\n",
    "    'troops', 'joint_ops', 'terr', 'weapons', 'logistics',\n",
    "    'training', 'eco', 'intel', 'other', 'unknown'\n",
    "]\n",
    "\n",
    "us_support_cols = ['US_' + x for x in new]\n",
    "su_support_cols = ['SU_' + x for x in new]\n",
    "fr_support_cols = ['FR_' + x for x in new]\n",
    "uk_support_cols = ['UK_' + x for x in new]\n",
    "cuba_support_cols = ['CUBA_' + x for x in new]\n",
    "ch_support_cols = ['CH_' + x for x in new]\n",
    "\n",
    "for col in us_support_cols:\n",
    "    exsup[col] = 0\n",
    "for col in su_support_cols:\n",
    "    exsup[col] = 0\n",
    "for col in uk_support_cols:\n",
    "    exsup[col] = 0\n",
    "for col in fr_support_cols:\n",
    "    exsup[col] = 0\n",
    "for col in cuba_support_cols:\n",
    "    exsup[col] = 0\n",
    "for col in ch_support_cols:\n",
    "    exsup[col] = 0\n",
    "   \n",
    "for index, row in exsup.iterrows():\n",
    "    if row['Soviet Union'] == 1:\n",
    "        nation = 'SU_'\n",
    "        for col in old:\n",
    "            exsup[index: index + 1][nation + col] = int(row[col])\n",
    "    if row['United States'] == 1:\n",
    "        nation = 'US_'\n",
    "        for col in old:\n",
    "            exsup[index: index + 1][nation + col] = int(row[col])             \n",
    "    if row['United Kingdom'] == 1:\n",
    "        nation = 'UK_'\n",
    "        for col in old:\n",
    "            exsup[index: index + 1][nation + col] = int(row[col])\n",
    "    if row['France'] == 1:\n",
    "        nation = 'FR_'\n",
    "        for col in old:\n",
    "            exsup[index: index + 1][nation + col] = int(row[col])\n",
    "    if row['Cuba'] == 1:\n",
    "        nation = 'CUBA_'\n",
    "        for col in old:\n",
    "            exsup[index: index + 1][nation + col] = int(row[col])\n",
    "    if row['China'] == 1:\n",
    "        nation = 'CH_'\n",
    "        for col in old:\n",
    "            exsup[index: index + 1][nation + col] = int(row[col])\n",
    "\n",
    "# Add (empty, since there are no values) dummies for Netherlands, Spain and Portugal\n",
    "exsup['Netherlands'] = 0\n",
    "exsup['Spain'] = 0\n",
    "exsup['Portugal'] = 0\n",
    "\n",
    "# remove columns that we wont use\n",
    "delcols = [\n",
    "       'actorID', 'bc_id', 'bc_name',\n",
    "       'bwd_id', 'conflictID', 'country1', 'external_alleged',\n",
    "       'external_exists', 'external_id', 'external_nameid', 'external_type_$',\n",
    "       'external_type_I', 'external_type_L', 'external_type_M',\n",
    "       'external_type_O', 'external_type_T', 'external_type_U',\n",
    "       'external_type_W', 'external_type_X', 'external_type_Y'\n",
    "]\n",
    "exsup.drop(delcols, axis=1, inplace=True)\n",
    "\n",
    "# Merge dataframe per year-country combination\n",
    "exsup = exsup.groupby(['locationid1', 'ywp_year']).max()\n",
    "exsup.to_csv('./output/EXSUP_PREPARED.csv')"
   ]
  },
  {
   "cell_type": "code",
   "execution_count": 21,
   "metadata": {},
   "outputs": [
    {
     "data": {
      "text/plain": [
       "Index(['Belgium', 'CH_eco', 'CH_intel', 'CH_joint_ops', 'CH_logistics',\n",
       "       'CH_other', 'CH_terr', 'CH_training', 'CH_troops', 'CH_unknown',\n",
       "       'CH_weapons', 'CUBA_eco', 'CUBA_intel', 'CUBA_joint_ops',\n",
       "       'CUBA_logistics', 'CUBA_other', 'CUBA_terr', 'CUBA_training',\n",
       "       'CUBA_troops', 'CUBA_unknown', 'CUBA_weapons', 'China', 'Cuba',\n",
       "       'FR_eco', 'FR_intel', 'FR_joint_ops', 'FR_logistics', 'FR_other',\n",
       "       'FR_terr', 'FR_training', 'FR_troops', 'FR_unknown', 'FR_weapons',\n",
       "       'France', 'Netherlands', 'Portugal', 'SU_eco', 'SU_intel',\n",
       "       'SU_joint_ops', 'SU_logistics', 'SU_other', 'SU_terr', 'SU_training',\n",
       "       'SU_troops', 'SU_unknown', 'SU_weapons', 'Soviet Union', 'Spain',\n",
       "       'UK_eco', 'UK_intel', 'UK_joint_ops', 'UK_logistics', 'UK_other',\n",
       "       'UK_terr', 'UK_training', 'UK_troops', 'UK_unknown', 'UK_weapons',\n",
       "       'US_eco', 'US_intel', 'US_joint_ops', 'US_logistics', 'US_other',\n",
       "       'US_terr', 'US_training', 'US_troops', 'US_unknown', 'US_weapons',\n",
       "       'United Kingdom', 'United States', 'locationid2', 'ywp_id', 'ywp_name'],\n",
       "      dtype='object')"
      ]
     },
     "execution_count": 21,
     "metadata": {},
     "output_type": "execute_result"
    }
   ],
   "source": [
    "exsup.columns"
   ]
  },
  {
   "cell_type": "code",
   "execution_count": null,
   "metadata": {},
   "outputs": [],
   "source": [
    "       "
   ]
  },
  {
   "cell_type": "code",
   "execution_count": null,
   "metadata": {},
   "outputs": [],
   "source": []
  }
 ],
 "metadata": {
  "kernelspec": {
   "display_name": "Python 3",
   "language": "python",
   "name": "python3"
  },
  "language_info": {
   "codemirror_mode": {
    "name": "ipython",
    "version": 3
   },
   "file_extension": ".py",
   "mimetype": "text/x-python",
   "name": "python",
   "nbconvert_exporter": "python",
   "pygments_lexer": "ipython3",
   "version": "3.5.2"
  }
 },
 "nbformat": 4,
 "nbformat_minor": 2
}
