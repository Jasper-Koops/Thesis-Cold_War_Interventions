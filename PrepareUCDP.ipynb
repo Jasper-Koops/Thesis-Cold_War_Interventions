{
 "cells": [
  {
   "cell_type": "code",
   "execution_count": 1,
   "metadata": {},
   "outputs": [],
   "source": [
    "import pandas as pd"
   ]
  },
  {
   "cell_type": "markdown",
   "metadata": {},
   "source": [
    "## Warning - This block contains a somewhat expensive 'Groupby' operation that will take around 5 minutes"
   ]
  },
  {
   "cell_type": "code",
   "execution_count": 2,
   "metadata": {},
   "outputs": [
    {
     "name": "stderr",
     "output_type": "stream",
     "text": [
      "/home/jasper/Dropbox/ULTRADOCUMENTEN/THESIS_CIVIL_WAR/THESIS/venv/lib/python3.5/site-packages/ipykernel_launcher.py:35: SettingWithCopyWarning: \n",
      "A value is trying to be set on a copy of a slice from a DataFrame.\n",
      "Try using .loc[row_indexer,col_indexer] = value instead\n",
      "\n",
      "See the caveats in the documentation: http://pandas.pydata.org/pandas-docs/stable/indexing.html#indexing-view-versus-copy\n",
      "/home/jasper/Dropbox/ULTRADOCUMENTEN/THESIS_CIVIL_WAR/THESIS/venv/lib/python3.5/site-packages/ipykernel_launcher.py:39: SettingWithCopyWarning: \n",
      "A value is trying to be set on a copy of a slice from a DataFrame.\n",
      "Try using .loc[row_indexer,col_indexer] = value instead\n",
      "\n",
      "See the caveats in the documentation: http://pandas.pydata.org/pandas-docs/stable/indexing.html#indexing-view-versus-copy\n"
     ]
    }
   ],
   "source": [
    "exsup = pd.read_csv('./sources/exsup.csv')\n",
    "# Remove all non-coldwar entries\n",
    "mask = exsup['ywp_year'] < 1992\n",
    "exsup = exsup[mask]\n",
    "#remove non US / SU interventions\n",
    "dummies = exsup['external_name'].str.get_dummies(sep=';')\n",
    "# 'Netherlands', 'Spain' and 'Portugal' are excluded because they are not in the Dataset as interveners.\n",
    "dummies = dummies[['United States', 'Soviet Union', 'United Kingdom', 'France', 'Belgium']]\n",
    "exsup = pd.concat([exsup, dummies], axis=1)\n",
    "# Drop duplicates\n",
    "exsup.drop_duplicates(inplace=True)\n",
    "\n",
    "# Add support specific dummies\n",
    "old = ['external_type_X', 'external_type_Y', 'external_type_L',\n",
    "       'external_type_W', 'external_type_M', 'external_type_T',\n",
    "       'external_type_$', 'external_type_I', 'external_type_O', \n",
    "       'external_type_U']\n",
    "new = [\n",
    "    'troops', 'joint_ops', 'terr', 'weapons', 'logistics',\n",
    "    'training', 'eco', 'intel', 'other', 'unknown'\n",
    "]\n",
    "\n",
    "us_support_cols = ['US_' + x for x in old]\n",
    "su_support_cols = ['SU_' + x for x in old]\n",
    "\n",
    "for col in us_support_cols:\n",
    "    exsup[col] = 0\n",
    "for col in su_support_cols:\n",
    "    exsup[col] = 0\n",
    "   \n",
    "for index, row in exsup.iterrows():\n",
    "    if row['Soviet Union'] == 1:\n",
    "        nation = 'SU_'\n",
    "        for col in old:\n",
    "            exsup[index: index + 1][nation + col] = int(row[col])\n",
    "    if row['United States'] == 1:\n",
    "        nation = 'US_'\n",
    "        for col in old:\n",
    "            exsup[index: index + 1][nation + col] = int(row[col])         \n",
    "\n",
    "# Add (empty, since there are no values) dummies for Netherlands, Spain and Portugal\n",
    "exsup['Netherlands'] = 0\n",
    "exsup['Spain'] = 0\n",
    "exsup['Portugal'] = 0\n",
    "\n",
    "# Merge dataframe per year-country combination\n",
    "exsup = exsup.groupby(['locationid1', 'ywp_year']).max()\n",
    "exsup.to_csv('./output/EXSUP_PREPARED.csv')"
   ]
  },
  {
   "cell_type": "code",
   "execution_count": null,
   "metadata": {},
   "outputs": [],
   "source": []
  }
 ],
 "metadata": {
  "kernelspec": {
   "display_name": "Python 3",
   "language": "python",
   "name": "python3"
  },
  "language_info": {
   "codemirror_mode": {
    "name": "ipython",
    "version": 3
   },
   "file_extension": ".py",
   "mimetype": "text/x-python",
   "name": "python",
   "nbconvert_exporter": "python",
   "pygments_lexer": "ipython3",
   "version": "3.5.2"
  }
 },
 "nbformat": 4,
 "nbformat_minor": 2
}
