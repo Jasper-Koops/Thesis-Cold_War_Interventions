{
 "cells": [
  {
   "cell_type": "code",
   "execution_count": 9,
   "metadata": {},
   "outputs": [],
   "source": [
    "import pandas as pd\n",
    "import statsmodels.api as sm\n",
    "import matplotlib.pyplot as plt\n",
    "import numpy as np\n",
    "import seaborn as sn\n",
    "import sklearn as sk"
   ]
  },
  {
   "cell_type": "code",
   "execution_count": 10,
   "metadata": {},
   "outputs": [
    {
     "name": "stdout",
     "output_type": "stream",
     "text": [
      "<class 'pandas.core.frame.DataFrame'>\n",
      "RangeIndex: 6900 entries, 0 to 6899\n",
      "Columns: 181 entries, Unnamed: 0 to COL_MIDI\n",
      "dtypes: float64(132), int64(41), object(8)\n",
      "memory usage: 9.5+ MB\n"
     ]
    }
   ],
   "source": [
    "df = pd.read_csv('masterfile.csv')\n",
    "df.info()"
   ]
  },
  {
   "cell_type": "markdown",
   "metadata": {},
   "source": [
    "# Logit regression function"
   ]
  },
  {
   "cell_type": "code",
   "execution_count": 13,
   "metadata": {},
   "outputs": [],
   "source": [
    "def run(x, y):\n",
    "    \"\"\"\n",
    "    A simple function that runs Logit regressions\n",
    "    \"\"\"\n",
    "    logit = sm.Logit(df[y], df[x], missing='drop')\n",
    "    results = logit.fit(missing='drop')\n",
    "    return results.summary() #, np.exp(results.params)\n",
    "    "
   ]
  },
  {
   "cell_type": "markdown",
   "metadata": {},
   "source": [
    "# Analysis"
   ]
  },
  {
   "cell_type": "markdown",
   "metadata": {},
   "source": [
    "## Analysis 1: Relative economic and military power"
   ]
  },
  {
   "cell_type": "markdown",
   "metadata": {},
   "source": [
    "Text hierover"
   ]
  },
  {
   "cell_type": "code",
   "execution_count": 15,
   "metadata": {},
   "outputs": [
    {
     "name": "stdout",
     "output_type": "stream",
     "text": [
      "Optimization terminated successfully.\n",
      "         Current function value: 0.198987\n",
      "         Iterations 10\n",
      "                           Logit Regression Results                           \n",
      "==============================================================================\n",
      "Dep. Variable:          United States   No. Observations:                 4868\n",
      "Model:                          Logit   Df Residuals:                     4861\n",
      "Method:                           MLE   Df Model:                            6\n",
      "Date:                Sat, 26 May 2018   Pseudo R-squ.:                 0.08871\n",
      "Time:                        19:07:59   Log-Likelihood:                -968.67\n",
      "converged:                       True   LL-Null:                       -1063.0\n",
      "                                        LLR p-value:                 5.082e-38\n",
      "================================================================================\n",
      "                   coef    std err          z      P>|z|      [0.025      0.975]\n",
      "--------------------------------------------------------------------------------\n",
      "US_cinc         -7.8873      2.485     -3.174      0.002     -12.758      -3.016\n",
      "US_milex      7.085e-10   1.11e-09      0.640      0.522   -1.46e-09    2.88e-09\n",
      "SU_cinc        -11.6280      3.286     -3.539      0.000     -18.068      -5.188\n",
      "SU_milex       2.31e-09   1.72e-09      1.344      0.179   -1.06e-09    5.68e-09\n",
      "milex         -6.37e-08   3.09e-08     -2.064      0.039   -1.24e-07   -3.22e-09\n",
      "cinc            -1.5872      6.900     -0.230      0.818     -15.111      11.936\n",
      "Soviet Union     1.7743      0.198      8.950      0.000       1.386       2.163\n",
      "================================================================================\n"
     ]
    }
   ],
   "source": [
    "print(run([\n",
    " 'US_cinc',\n",
    " 'US_milex',\n",
    " 'SU_cinc',\n",
    " 'SU_milex',\n",
    " 'milex',\n",
    " 'cinc',\n",
    " 'Soviet Union',\n",
    "\n",
    "],   \n",
    "    \n",
    " 'United States'))"
   ]
  },
  {
   "cell_type": "markdown",
   "metadata": {},
   "source": [
    "Tekst hierover"
   ]
  },
  {
   "cell_type": "code",
   "execution_count": 16,
   "metadata": {},
   "outputs": [
    {
     "name": "stdout",
     "output_type": "stream",
     "text": [
      "Optimization terminated successfully.\n",
      "         Current function value: 0.115606\n",
      "         Iterations 10\n",
      "                           Logit Regression Results                           \n",
      "==============================================================================\n",
      "Dep. Variable:           Soviet Union   No. Observations:                 4868\n",
      "Model:                          Logit   Df Residuals:                     4861\n",
      "Method:                           MLE   Df Model:                            6\n",
      "Date:                Sat, 26 May 2018   Pseudo R-squ.:                  0.1508\n",
      "Time:                        19:08:21   Log-Likelihood:                -562.77\n",
      "converged:                       True   LL-Null:                       -662.72\n",
      "                                        LLR p-value:                 1.989e-40\n",
      "=================================================================================\n",
      "                    coef    std err          z      P>|z|      [0.025      0.975]\n",
      "---------------------------------------------------------------------------------\n",
      "US_cinc         -18.1889      5.313     -3.424      0.001     -28.602      -7.776\n",
      "US_milex      -3.961e-09   2.11e-09     -1.881      0.060   -8.09e-09    1.66e-10\n",
      "SU_cinc          -7.8263      6.220     -1.258      0.208     -20.017       4.364\n",
      "SU_milex       6.553e-09   3.03e-09      2.166      0.030    6.24e-10    1.25e-08\n",
      "milex         -2.874e-08    1.5e-08     -1.915      0.056   -5.82e-08    6.78e-10\n",
      "cinc             16.4442      4.180      3.934      0.000       8.251      24.638\n",
      "United States     1.8026      0.199      9.063      0.000       1.413       2.192\n",
      "=================================================================================\n"
     ]
    }
   ],
   "source": [
    "print(run([\n",
    " 'US_cinc',\n",
    " 'US_milex',\n",
    " 'SU_cinc',\n",
    " 'SU_milex',\n",
    " 'milex',\n",
    " 'cinc',\n",
    " 'United States',\n",
    "],   \n",
    "    \n",
    " 'Soviet Union'))"
   ]
  },
  {
   "cell_type": "markdown",
   "metadata": {},
   "source": [
    "Tekst hierover"
   ]
  },
  {
   "cell_type": "markdown",
   "metadata": {},
   "source": [
    "## Analysis 2: Political variables"
   ]
  },
  {
   "cell_type": "markdown",
   "metadata": {},
   "source": [
    "### Targets political system"
   ]
  },
  {
   "cell_type": "markdown",
   "metadata": {},
   "source": [
    "The US is slightly less likely to intervene in democratic nations, however this hesitance completely once a Soviet Intervention is ongoing"
   ]
  },
  {
   "cell_type": "code",
   "execution_count": 18,
   "metadata": {},
   "outputs": [
    {
     "name": "stdout",
     "output_type": "stream",
     "text": [
      "Optimization terminated successfully.\n",
      "         Current function value: 0.159483\n",
      "         Iterations 7\n",
      "                           Logit Regression Results                           \n",
      "==============================================================================\n",
      "Dep. Variable:          United States   No. Observations:                 6900\n",
      "Model:                          Logit   Df Residuals:                     6897\n",
      "Method:                           MLE   Df Model:                            2\n",
      "Date:                Sat, 26 May 2018   Pseudo R-squ.:                 0.05298\n",
      "Time:                        19:09:34   Log-Likelihood:                -1100.4\n",
      "converged:                       True   LL-Null:                       -1162.0\n",
      "                                        LLR p-value:                 1.846e-27\n",
      "==============================================================================\n",
      "                 coef    std err          z      P>|z|      [0.025      0.975]\n",
      "------------------------------------------------------------------------------\n",
      "democl        -3.3595      0.145    -23.118      0.000      -3.644      -3.075\n",
      "anocl         -2.8122      0.128    -22.021      0.000      -3.062      -2.562\n",
      "autocl        -3.4144      0.087    -39.035      0.000      -3.586      -3.243\n",
      "==============================================================================\n"
     ]
    }
   ],
   "source": [
    "print(run([\n",
    " 'democl',\n",
    " 'anocl',\n",
    " 'autocl', \n",
    "],   \n",
    "    \n",
    " 'United States'))"
   ]
  },
  {
   "cell_type": "markdown",
   "metadata": {},
   "source": [
    "Tekst hierover"
   ]
  },
  {
   "cell_type": "code",
   "execution_count": 19,
   "metadata": {},
   "outputs": [
    {
     "name": "stdout",
     "output_type": "stream",
     "text": [
      "Optimization terminated successfully.\n",
      "         Current function value: 0.149922\n",
      "         Iterations 8\n",
      "                           Logit Regression Results                           \n",
      "==============================================================================\n",
      "Dep. Variable:          United States   No. Observations:                 6900\n",
      "Model:                          Logit   Df Residuals:                     6896\n",
      "Method:                           MLE   Df Model:                            3\n",
      "Date:                Sat, 26 May 2018   Pseudo R-squ.:                  0.1097\n",
      "Time:                        19:10:19   Log-Likelihood:                -1034.5\n",
      "converged:                       True   LL-Null:                       -1162.0\n",
      "                                        LLR p-value:                 5.275e-55\n",
      "================================================================================\n",
      "                   coef    std err          z      P>|z|      [0.025      0.975]\n",
      "--------------------------------------------------------------------------------\n",
      "democl          -3.4294      0.147    -23.311      0.000      -3.718      -3.141\n",
      "anocl           -2.9457      0.132    -22.329      0.000      -3.204      -2.687\n",
      "autocl          -3.6623      0.097    -37.688      0.000      -3.853      -3.472\n",
      "Soviet Union     2.6883      0.198     13.606      0.000       2.301       3.076\n",
      "================================================================================\n"
     ]
    }
   ],
   "source": [
    "print(run([\n",
    " 'democl',\n",
    " 'anocl',\n",
    " 'autocl', \n",
    " 'Soviet Union'\n",
    "],   \n",
    "    \n",
    " 'United States'))"
   ]
  },
  {
   "cell_type": "markdown",
   "metadata": {},
   "source": [
    "Tekst hierover"
   ]
  },
  {
   "cell_type": "code",
   "execution_count": 20,
   "metadata": {},
   "outputs": [
    {
     "name": "stdout",
     "output_type": "stream",
     "text": [
      "Optimization terminated successfully.\n",
      "         Current function value: 0.106591\n",
      "         Iterations 9\n",
      "                           Logit Regression Results                           \n",
      "==============================================================================\n",
      "Dep. Variable:           Soviet Union   No. Observations:                 6900\n",
      "Model:                          Logit   Df Residuals:                     6897\n",
      "Method:                           MLE   Df Model:                            2\n",
      "Date:                Sat, 26 May 2018   Pseudo R-squ.:                -0.02860\n",
      "Time:                        19:10:41   Log-Likelihood:                -735.48\n",
      "converged:                       True   LL-Null:                       -715.03\n",
      "                                        LLR p-value:                     1.000\n",
      "==============================================================================\n",
      "                 coef    std err          z      P>|z|      [0.025      0.975]\n",
      "------------------------------------------------------------------------------\n",
      "democl        -4.8800      0.303    -16.124      0.000      -5.473      -4.287\n",
      "anocl         -4.0316      0.226    -17.872      0.000      -4.474      -3.589\n",
      "autocl        -3.5707      0.094    -37.928      0.000      -3.755      -3.386\n",
      "==============================================================================\n"
     ]
    }
   ],
   "source": [
    "print(run([\n",
    " 'democl',\n",
    " 'anocl',\n",
    " 'autocl', \n",
    "\n",
    "],   \n",
    "    \n",
    " 'Soviet Union'))"
   ]
  },
  {
   "cell_type": "markdown",
   "metadata": {},
   "source": [
    "Soviet Union seemed to be less inclined to attack democratic nations"
   ]
  },
  {
   "cell_type": "code",
   "execution_count": 21,
   "metadata": {},
   "outputs": [
    {
     "name": "stdout",
     "output_type": "stream",
     "text": [
      "Optimization terminated successfully.\n",
      "         Current function value: 0.103259\n",
      "         Iterations 9\n",
      "                           Logit Regression Results                           \n",
      "==============================================================================\n",
      "Dep. Variable:           Soviet Union   No. Observations:                 6900\n",
      "Model:                          Logit   Df Residuals:                     6896\n",
      "Method:                           MLE   Df Model:                            3\n",
      "Date:                Sat, 26 May 2018   Pseudo R-squ.:                0.003551\n",
      "Time:                        19:11:05   Log-Likelihood:                -712.49\n",
      "converged:                       True   LL-Null:                       -715.03\n",
      "                                        LLR p-value:                    0.1661\n",
      "=================================================================================\n",
      "                    coef    std err          z      P>|z|      [0.025      0.975]\n",
      "---------------------------------------------------------------------------------\n",
      "democl           -5.0069      0.305    -16.427      0.000      -5.604      -4.410\n",
      "anocl            -4.2320      0.232    -18.271      0.000      -4.686      -3.778\n",
      "autocl           -3.6840      0.098    -37.449      0.000      -3.877      -3.491\n",
      "United States     1.6361      0.221      7.399      0.000       1.203       2.069\n",
      "=================================================================================\n"
     ]
    }
   ],
   "source": [
    "print(run([\n",
    " 'democl',\n",
    " 'anocl',\n",
    " 'autocl', \n",
    " 'United States'\n",
    "],   \n",
    "    \n",
    " 'Soviet Union'))"
   ]
  },
  {
   "cell_type": "markdown",
   "metadata": {},
   "source": [
    "Tekst hierover"
   ]
  },
  {
   "cell_type": "code",
   "execution_count": 22,
   "metadata": {},
   "outputs": [
    {
     "name": "stdout",
     "output_type": "stream",
     "text": [
      "Optimization terminated successfully.\n",
      "         Current function value: 0.132763\n",
      "         Iterations 9\n",
      "                           Logit Regression Results                           \n",
      "==============================================================================\n",
      "Dep. Variable:           Soviet Union   No. Observations:                 4747\n",
      "Model:                          Logit   Df Residuals:                     4741\n",
      "Method:                           MLE   Df Model:                            5\n",
      "Date:                Sat, 26 May 2018   Pseudo R-squ.:                 0.04358\n",
      "Time:                        19:11:28   Log-Likelihood:                -630.23\n",
      "converged:                       True   LL-Null:                       -658.94\n",
      "                                        LLR p-value:                 4.125e-11\n",
      "=================================================================================\n",
      "                    coef    std err          z      P>|z|      [0.025      0.975]\n",
      "---------------------------------------------------------------------------------\n",
      "democl           -3.6026      0.355    -10.147      0.000      -4.298      -2.907\n",
      "anocl            -3.5067      0.249    -14.092      0.000      -3.994      -3.019\n",
      "autocl           -2.6321      0.131    -20.168      0.000      -2.888      -2.376\n",
      "gdppc            -0.0002   5.28e-05     -4.675      0.000      -0.000      -0.000\n",
      "milex          6.933e-09   4.69e-09      1.479      0.139   -2.26e-09    1.61e-08\n",
      "United States     1.2249      0.204      5.996      0.000       0.824       1.625\n",
      "=================================================================================\n"
     ]
    }
   ],
   "source": [
    "print(run([\n",
    " 'democl',\n",
    " 'anocl',\n",
    " 'autocl', \n",
    " 'gdppc',\n",
    " 'milex',\n",
    "    'United States'\n",
    "],   \n",
    "    \n",
    " 'Soviet Union'))"
   ]
  },
  {
   "cell_type": "markdown",
   "metadata": {},
   "source": [
    "This might have something to do with the fact that democratic nations are often wealthier / stronger. So I added control variables for both economic power and military expenditure.\n",
    "\n",
    "What is interesting is the fact that the hesitance for attacking democratic nations virtually disappears in both nations. Yet the general political effects remain higher in the Soviet Union. In constract, the United States react much stronger to the presence of Soviet Support"
   ]
  },
  {
   "cell_type": "code",
   "execution_count": 24,
   "metadata": {},
   "outputs": [
    {
     "name": "stdout",
     "output_type": "stream",
     "text": [
      "Optimization terminated successfully.\n",
      "         Current function value: 0.198316\n",
      "         Iterations 9\n",
      "                           Logit Regression Results                           \n",
      "==============================================================================\n",
      "Dep. Variable:          United States   No. Observations:                 4747\n",
      "Model:                          Logit   Df Residuals:                     4741\n",
      "Method:                           MLE   Df Model:                            5\n",
      "Date:                Sat, 26 May 2018   Pseudo R-squ.:                  0.1060\n",
      "Time:                        19:12:08   Log-Likelihood:                -941.41\n",
      "converged:                       True   LL-Null:                       -1053.0\n",
      "                                        LLR p-value:                 3.084e-46\n",
      "================================================================================\n",
      "                   coef    std err          z      P>|z|      [0.025      0.975]\n",
      "--------------------------------------------------------------------------------\n",
      "democl          -2.5916      0.207    -12.492      0.000      -2.998      -2.185\n",
      "anocl           -2.4956      0.144    -17.353      0.000      -2.777      -2.214\n",
      "autocl          -2.8137      0.112    -25.028      0.000      -3.034      -2.593\n",
      "gdppc           -0.0001   2.79e-05     -3.936      0.000      -0.000   -5.51e-05\n",
      "milex         -1.21e-08   1.35e-08     -0.896      0.370   -3.86e-08    1.44e-08\n",
      "Soviet Union     2.1480      0.199     10.775      0.000       1.757       2.539\n",
      "================================================================================\n"
     ]
    }
   ],
   "source": [
    "print(run([\n",
    " 'democl',\n",
    " 'anocl',\n",
    " 'autocl', \n",
    " 'gdppc',\n",
    " 'milex',\n",
    " 'Soviet Union'\n",
    "],   \n",
    "    \n",
    " 'United States'))"
   ]
  },
  {
   "cell_type": "markdown",
   "metadata": {},
   "source": [
    "## Analysis 3: Type of war being fought"
   ]
  },
  {
   "cell_type": "markdown",
   "metadata": {},
   "source": [
    "Tekst hierover"
   ]
  },
  {
   "cell_type": "code",
   "execution_count": 26,
   "metadata": {},
   "outputs": [
    {
     "name": "stdout",
     "output_type": "stream",
     "text": [
      "Optimization terminated successfully.\n",
      "         Current function value: 0.676630\n",
      "         Iterations 7\n",
      "                           Logit Regression Results                           \n",
      "==============================================================================\n",
      "Dep. Variable:          United States   No. Observations:                 6900\n",
      "Model:                          Logit   Df Residuals:                     6893\n",
      "Method:                           MLE   Df Model:                            6\n",
      "Date:                Sat, 26 May 2018   Pseudo R-squ.:                  -3.018\n",
      "Time:                        19:12:56   Log-Likelihood:                -4668.7\n",
      "converged:                       True   LL-Null:                       -1162.0\n",
      "                                        LLR p-value:                     1.000\n",
      "================================================================================\n",
      "                   coef    std err          z      P>|z|      [0.025      0.975]\n",
      "--------------------------------------------------------------------------------\n",
      "pointrap        -2.1516      0.231     -9.333      0.000      -2.603      -1.700\n",
      "pointer         -0.7153      0.287     -2.494      0.013      -1.277      -0.153\n",
      "pocivil          1.8463      0.264      6.985      0.000       1.328       2.364\n",
      "ointrap         -2.6349      0.732     -3.602      0.000      -4.069      -1.201\n",
      "ointer          -0.6973      0.338     -2.061      0.039      -1.360      -0.034\n",
      "ocivil           1.4379      0.792      1.815      0.070      -0.115       2.991\n",
      "Soviet Union    -0.4911      0.192     -2.562      0.010      -0.867      -0.115\n",
      "================================================================================\n"
     ]
    }
   ],
   "source": [
    "print(run([\n",
    "    'pointrap',\n",
    "    'pointer',\n",
    "    'pocivil',\n",
    "    'ointrap',\n",
    "    'ointer',\n",
    "    'ocivil',\n",
    "    'Soviet Union',    \n",
    "],   \n",
    "    \n",
    " 'United States'))"
   ]
  },
  {
   "cell_type": "markdown",
   "metadata": {},
   "source": [
    "Tekst hierover\n",
    "\n"
   ]
  },
  {
   "cell_type": "code",
   "execution_count": 27,
   "metadata": {},
   "outputs": [
    {
     "name": "stdout",
     "output_type": "stream",
     "text": [
      "Optimization terminated successfully.\n",
      "         Current function value: 0.672576\n",
      "         Iterations 7\n",
      "                           Logit Regression Results                           \n",
      "==============================================================================\n",
      "Dep. Variable:           Soviet Union   No. Observations:                 6900\n",
      "Model:                          Logit   Df Residuals:                     6895\n",
      "Method:                           MLE   Df Model:                            4\n",
      "Date:                Sat, 26 May 2018   Pseudo R-squ.:                  -5.490\n",
      "Time:                        19:13:16   Log-Likelihood:                -4640.8\n",
      "converged:                       True   LL-Null:                       -715.03\n",
      "                                        LLR p-value:                     1.000\n",
      "=================================================================================\n",
      "                    coef    std err          z      P>|z|      [0.025      0.975]\n",
      "---------------------------------------------------------------------------------\n",
      "pointer          -2.3102      0.522     -4.421      0.000      -3.334      -1.286\n",
      "pocivil          -0.9013      0.158     -5.702      0.000      -1.211      -0.592\n",
      "ointer           -2.2537      0.605     -3.728      0.000      -3.439      -1.069\n",
      "ocivil           -3.2134      0.720     -4.460      0.000      -4.626      -1.801\n",
      "United States    -1.1117      0.175     -6.368      0.000      -1.454      -0.770\n",
      "=================================================================================\n"
     ]
    }
   ],
   "source": [
    "print(run([\n",
    "    #'pointrap',\n",
    "    'pointer',\n",
    "    'pocivil',\n",
    "    #'ointrap',\n",
    "    'ointer',\n",
    "    'ocivil',\n",
    "    'United States'\n",
    "    \n",
    "],   \n",
    "    \n",
    " 'Soviet Union'))\n",
    "\n",
    "#Singular matrix for excluded variables"
   ]
  },
  {
   "cell_type": "markdown",
   "metadata": {},
   "source": [
    "Tekst Hierover"
   ]
  },
  {
   "cell_type": "markdown",
   "metadata": {},
   "source": [
    "## Analysis 4: New Nations and colonialism"
   ]
  },
  {
   "cell_type": "markdown",
   "metadata": {},
   "source": [
    "tekst hierover"
   ]
  },
  {
   "cell_type": "code",
   "execution_count": 29,
   "metadata": {},
   "outputs": [
    {
     "name": "stdout",
     "output_type": "stream",
     "text": [
      "Optimization terminated successfully.\n",
      "         Current function value: 0.248042\n",
      "         Iterations 8\n",
      "                           Logit Regression Results                           \n",
      "==============================================================================\n",
      "Dep. Variable:           Soviet Union   No. Observations:                 6808\n",
      "Model:                          Logit   Df Residuals:                     6804\n",
      "Method:                           MLE   Df Model:                            3\n",
      "Date:                Sat, 26 May 2018   Pseudo R-squ.:                  -1.368\n",
      "Time:                        19:14:22   Log-Likelihood:                -1688.7\n",
      "converged:                       True   LL-Null:                       -713.02\n",
      "                                        LLR p-value:                     1.000\n",
      "==============================================================================\n",
      "                 coef    std err          z      P>|z|      [0.025      0.975]\n",
      "------------------------------------------------------------------------------\n",
      "nsflag        -0.0364      0.001    -31.725      0.000      -0.039      -0.034\n",
      "ssafrica      -3.9643      0.165    -24.007      0.000      -4.288      -3.641\n",
      "asia          -2.2552      0.128    -17.583      0.000      -2.507      -2.004\n",
      "ponatind      -0.5538      0.326     -1.700      0.089      -1.192       0.085\n",
      "==============================================================================\n"
     ]
    }
   ],
   "source": [
    "print(run([\n",
    "    'nsflag',\n",
    "    'ssafrica',\n",
    "    'asia',\n",
    "    'ponatind',  \n",
    "],   \n",
    "    \n",
    " 'Soviet Union'))"
   ]
  },
  {
   "cell_type": "markdown",
   "metadata": {},
   "source": [
    "Tekst hierover"
   ]
  },
  {
   "cell_type": "code",
   "execution_count": 30,
   "metadata": {},
   "outputs": [
    {
     "name": "stdout",
     "output_type": "stream",
     "text": [
      "Optimization terminated successfully.\n",
      "         Current function value: 0.299506\n",
      "         Iterations 8\n",
      "                           Logit Regression Results                           \n",
      "==============================================================================\n",
      "Dep. Variable:          United States   No. Observations:                 6808\n",
      "Model:                          Logit   Df Residuals:                     6804\n",
      "Method:                           MLE   Df Model:                            3\n",
      "Date:                Sat, 26 May 2018   Pseudo R-squ.:                 -0.7605\n",
      "Time:                        19:14:41   Log-Likelihood:                -2039.0\n",
      "converged:                       True   LL-Null:                       -1158.2\n",
      "                                        LLR p-value:                     1.000\n",
      "==============================================================================\n",
      "                 coef    std err          z      P>|z|      [0.025      0.975]\n",
      "------------------------------------------------------------------------------\n",
      "nsflag        -0.0294      0.001    -32.160      0.000      -0.031      -0.028\n",
      "ssafrica      -3.6955      0.147    -25.107      0.000      -3.984      -3.407\n",
      "asia          -1.6947      0.103    -16.471      0.000      -1.896      -1.493\n",
      "ponatind      -0.2746      0.272     -1.011      0.312      -0.807       0.258\n",
      "==============================================================================\n"
     ]
    }
   ],
   "source": [
    "print(run([\n",
    "    'nsflag',\n",
    "    'ssafrica',\n",
    "    'asia',\n",
    "    'ponatind',  \n",
    "],   \n",
    "    \n",
    " 'United States'))"
   ]
  },
  {
   "cell_type": "code",
   "execution_count": null,
   "metadata": {},
   "outputs": [],
   "source": []
  },
  {
   "cell_type": "code",
   "execution_count": null,
   "metadata": {},
   "outputs": [],
   "source": []
  },
  {
   "cell_type": "code",
   "execution_count": 14,
   "metadata": {},
   "outputs": [
    {
     "name": "stdout",
     "output_type": "stream",
     "text": [
      "Optimization terminated successfully.\n",
      "         Current function value: 0.198987\n",
      "         Iterations 10\n",
      "                           Logit Regression Results                           \n",
      "==============================================================================\n",
      "Dep. Variable:          United States   No. Observations:                 4868\n",
      "Model:                          Logit   Df Residuals:                     4861\n",
      "Method:                           MLE   Df Model:                            6\n",
      "Date:                Sat, 26 May 2018   Pseudo R-squ.:                 0.08871\n",
      "Time:                        19:06:56   Log-Likelihood:                -968.67\n",
      "converged:                       True   LL-Null:                       -1063.0\n",
      "                                        LLR p-value:                 5.082e-38\n",
      "================================================================================\n",
      "                   coef    std err          z      P>|z|      [0.025      0.975]\n",
      "--------------------------------------------------------------------------------\n",
      "US_cinc         -7.8873      2.485     -3.174      0.002     -12.758      -3.016\n",
      "US_milex      7.085e-10   1.11e-09      0.640      0.522   -1.46e-09    2.88e-09\n",
      "SU_cinc        -11.6280      3.286     -3.539      0.000     -18.068      -5.188\n",
      "SU_milex       2.31e-09   1.72e-09      1.344      0.179   -1.06e-09    5.68e-09\n",
      "milex         -6.37e-08   3.09e-08     -2.064      0.039   -1.24e-07   -3.22e-09\n",
      "cinc            -1.5872      6.900     -0.230      0.818     -15.111      11.936\n",
      "Soviet Union     1.7743      0.198      8.950      0.000       1.386       2.163\n",
      "================================================================================\n"
     ]
    }
   ],
   "source": [
    "print(run([\n",
    " 'US_cinc',\n",
    " 'US_milex',\n",
    " 'SU_cinc',\n",
    " 'SU_milex',\n",
    " 'milex',\n",
    " 'cinc',\n",
    " 'Soviet Union',\n",
    "\n",
    "],   \n",
    "    \n",
    " 'United States'))"
   ]
  },
  {
   "cell_type": "code",
   "execution_count": null,
   "metadata": {},
   "outputs": [],
   "source": []
  },
  {
   "cell_type": "code",
   "execution_count": null,
   "metadata": {},
   "outputs": [],
   "source": []
  }
 ],
 "metadata": {
  "kernelspec": {
   "display_name": "Python 3",
   "language": "python",
   "name": "python3"
  },
  "language_info": {
   "codemirror_mode": {
    "name": "ipython",
    "version": 3
   },
   "file_extension": ".py",
   "mimetype": "text/x-python",
   "name": "python",
   "nbconvert_exporter": "python",
   "pygments_lexer": "ipython3",
   "version": "3.6.5"
  }
 },
 "nbformat": 4,
 "nbformat_minor": 2
}
