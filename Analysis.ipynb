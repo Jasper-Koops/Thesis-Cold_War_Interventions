{
 "cells": [
  {
   "cell_type": "code",
   "execution_count": 1,
   "metadata": {},
   "outputs": [],
   "source": [
    "import pandas as pd\n",
    "import statsmodels.api as sm\n",
    "import matplotlib.pyplot as plt\n",
    "import numpy as np\n",
    "import seaborn as sn\n",
    "import sklearn as sk"
   ]
  },
  {
   "cell_type": "code",
   "execution_count": 2,
   "metadata": {},
   "outputs": [
    {
     "name": "stdout",
     "output_type": "stream",
     "text": [
      "<class 'pandas.core.frame.DataFrame'>\n",
      "RangeIndex: 6900 entries, 0 to 6899\n",
      "Columns: 181 entries, Unnamed: 0 to COL_MIDI\n",
      "dtypes: float64(133), int64(41), object(7)\n",
      "memory usage: 9.5+ MB\n"
     ]
    }
   ],
   "source": [
    "df = pd.read_csv('./output/masterfile.csv')\n",
    "df.info()"
   ]
  },
  {
   "cell_type": "markdown",
   "metadata": {},
   "source": [
    "# Logit regression function"
   ]
  },
  {
   "cell_type": "code",
   "execution_count": 3,
   "metadata": {},
   "outputs": [],
   "source": [
    "def run(x, y):\n",
    "    \"\"\"\n",
    "    A simple function that runs Logit regressions\n",
    "    \"\"\"\n",
    "    logit = sm.Logit(df[y], df[x], missing='drop')\n",
    "    results = logit.fit(missing='drop')\n",
    "    return results.summary() #, np.exp(results.params)\n",
    "    "
   ]
  },
  {
   "cell_type": "markdown",
   "metadata": {},
   "source": [
    "# Analysis"
   ]
  },
  {
   "cell_type": "markdown",
   "metadata": {},
   "source": [
    "## Analysis 1: Relative economic and military power"
   ]
  },
  {
   "cell_type": "markdown",
   "metadata": {},
   "source": [
    "USA:\n",
    "\n",
    "1. Ally effect, but...seems te be from allies. Efect not as great as SU\n",
    "2. Own power not really, SU power detterence.\n",
    "3. Local milex matter\n",
    "4. DEtterence narrative\n"
   ]
  },
  {
   "cell_type": "code",
   "execution_count": 4,
   "metadata": {},
   "outputs": [
    {
     "name": "stdout",
     "output_type": "stream",
     "text": [
      "Optimization terminated successfully.\n",
      "         Current function value: 0.195916\n",
      "         Iterations 11\n",
      "                           Logit Regression Results                           \n",
      "==============================================================================\n",
      "Dep. Variable:          United States   No. Observations:                 4668\n",
      "Model:                          Logit   Df Residuals:                     4649\n",
      "Method:                           MLE   Df Model:                           18\n",
      "Date:                Sun, 27 May 2018   Pseudo R-squ.:                  0.1477\n",
      "Time:                        17:03:54   Log-Likelihood:                -914.53\n",
      "converged:                       True   LL-Null:                       -1073.0\n",
      "                                        LLR p-value:                 1.605e-56\n",
      "==================================================================================\n",
      "                     coef    std err          z      P>|z|      [0.025      0.975]\n",
      "----------------------------------------------------------------------------------\n",
      "US_cinc           -7.1473     10.442     -0.684      0.494     -27.613      13.319\n",
      "US_milex        8.564e-09   6.11e-09      1.401      0.161   -3.42e-09    2.05e-08\n",
      "US_gdppc           0.0001      0.000      0.391      0.696      -0.000       0.001\n",
      "SU_cinc           -5.4456     16.423     -0.332      0.740     -37.633      26.742\n",
      "SU_milex       -1.326e-09   3.78e-09     -0.350      0.726   -8.74e-09    6.09e-09\n",
      "SU_gdppc           0.0013      0.001      1.545      0.122      -0.000       0.003\n",
      "milex          -8.688e-09   3.33e-08     -0.261      0.794    -7.4e-08    5.66e-08\n",
      "cinc             -31.4480     21.002     -1.497      0.134     -72.610       9.714\n",
      "gdppc          -9.234e-05   2.42e-05     -3.812      0.000      -0.000   -4.49e-05\n",
      "pop             2.974e-06   1.99e-06      1.494      0.135   -9.27e-07    6.87e-06\n",
      "Soviet Union       1.3979      0.194      7.220      0.000       1.018       1.777\n",
      "France             1.7584      0.242      7.265      0.000       1.284       2.233\n",
      "United Kingdom     0.9363      0.384      2.436      0.015       0.183       1.690\n",
      "FR_cinc            0.6891     71.645      0.010      0.992    -139.733     141.111\n",
      "FR_milex        8.853e-08   5.16e-08      1.717      0.086   -1.25e-08     1.9e-07\n",
      "FR_gdppc          -0.0007      0.000     -1.909      0.056      -0.001    1.92e-05\n",
      "UK_cinc          -16.4041     30.068     -0.546      0.585     -75.335      42.527\n",
      "UK_milex       -4.265e-08    6.2e-08     -0.688      0.491   -1.64e-07    7.88e-08\n",
      "UK_gdppc          -0.0002      0.000     -0.458      0.647      -0.001       0.001\n",
      "==================================================================================\n"
     ]
    }
   ],
   "source": [
    "print(run([\n",
    " 'US_cinc',\n",
    " 'US_milex',\n",
    " 'US_gdppc',\n",
    " 'SU_cinc',\n",
    " 'SU_milex',\n",
    " 'SU_gdppc',\n",
    " 'milex',\n",
    " 'cinc',\n",
    " 'gdppc',\n",
    " 'pop',\n",
    " 'Soviet Union',\n",
    " 'France',\n",
    " 'United Kingdom',\n",
    " 'FR_cinc',\n",
    " 'FR_milex',\n",
    " 'FR_gdppc',\n",
    " 'UK_cinc',\n",
    " 'UK_milex',\n",
    " 'UK_gdppc'\n",
    "],   \n",
    "    \n",
    " 'United States'))"
   ]
  },
  {
   "cell_type": "markdown",
   "metadata": {},
   "source": [
    "SU\n",
    "\n",
    "1. US mill tiny detterence\n",
    "2. PRICE NARRATIVE\n",
    "4. Local +++"
   ]
  },
  {
   "cell_type": "code",
   "execution_count": 5,
   "metadata": {},
   "outputs": [
    {
     "name": "stdout",
     "output_type": "stream",
     "text": [
      "Optimization terminated successfully.\n",
      "         Current function value: 0.127120\n",
      "         Iterations 12\n",
      "                           Logit Regression Results                           \n",
      "==============================================================================\n",
      "Dep. Variable:           Soviet Union   No. Observations:                 4668\n",
      "Model:                          Logit   Df Residuals:                     4649\n",
      "Method:                           MLE   Df Model:                           18\n",
      "Date:                Sun, 27 May 2018   Pseudo R-squ.:                  0.2378\n",
      "Time:                        17:03:54   Log-Likelihood:                -593.39\n",
      "converged:                       True   LL-Null:                       -778.49\n",
      "                                        LLR p-value:                 1.470e-67\n",
      "==================================================================================\n",
      "                     coef    std err          z      P>|z|      [0.025      0.975]\n",
      "----------------------------------------------------------------------------------\n",
      "US_cinc          -12.8121     17.479     -0.733      0.464     -47.071      21.447\n",
      "US_milex        7.285e-10   9.05e-09      0.081      0.936    -1.7e-08    1.85e-08\n",
      "US_gdppc           0.0004      0.000      1.235      0.217      -0.000       0.001\n",
      "SU_cinc           -1.2427     25.513     -0.049      0.961     -51.248      48.762\n",
      "SU_milex         1.42e-09   5.42e-09      0.262      0.793    -9.2e-09     1.2e-08\n",
      "SU_gdppc           0.0011      0.001      0.815      0.415      -0.001       0.004\n",
      "milex          -3.391e-09   9.18e-09     -0.369      0.712   -2.14e-08    1.46e-08\n",
      "cinc               7.7337      9.488      0.815      0.415     -10.863      26.331\n",
      "gdppc             -0.0003   4.49e-05     -6.041      0.000      -0.000      -0.000\n",
      "pop             7.866e-07      1e-06      0.784      0.433   -1.18e-06    2.75e-06\n",
      "United States      1.5220      0.195      7.813      0.000       1.140       1.904\n",
      "France            -0.7278      0.415     -1.754      0.079      -1.541       0.085\n",
      "United Kingdom     1.7093      0.415      4.122      0.000       0.896       2.522\n",
      "FR_cinc         -149.5969    132.785     -1.127      0.260    -409.851     110.657\n",
      "FR_milex        1.202e-07   6.58e-08      1.827      0.068   -8.72e-09    2.49e-07\n",
      "FR_gdppc          -0.0002      0.001     -0.387      0.699      -0.001       0.001\n",
      "UK_cinc           62.1344     35.819      1.735      0.083      -8.069     132.338\n",
      "UK_milex       -6.095e-08   7.47e-08     -0.816      0.415   -2.07e-07    8.55e-08\n",
      "UK_gdppc          -0.0009      0.000     -2.048      0.041      -0.002    -3.9e-05\n",
      "==================================================================================\n"
     ]
    }
   ],
   "source": [
    "print(run([\n",
    " 'US_cinc',\n",
    " 'US_milex',\n",
    " 'US_gdppc',\n",
    " 'SU_cinc',\n",
    " 'SU_milex',\n",
    " 'SU_gdppc',\n",
    " 'milex',\n",
    " 'cinc',\n",
    " 'gdppc',\n",
    " 'pop',\n",
    " 'United States',\n",
    " 'France',\n",
    " 'United Kingdom',\n",
    " 'FR_cinc',\n",
    " 'FR_milex',\n",
    " 'FR_gdppc',\n",
    " 'UK_cinc',\n",
    " 'UK_milex',\n",
    " 'UK_gdppc'\n",
    "],   \n",
    "    \n",
    " 'Soviet Union'))"
   ]
  },
  {
   "cell_type": "code",
   "execution_count": null,
   "metadata": {},
   "outputs": [],
   "source": []
  },
  {
   "cell_type": "markdown",
   "metadata": {},
   "source": [
    "COL POWERS\n",
    "\n",
    "1. Soviet CINCSoviet matters, anti coll deterence\n",
    "2. US allies\n",
    "3. Su dus eng\n",
    "4. Local detterence"
   ]
  },
  {
   "cell_type": "code",
   "execution_count": 6,
   "metadata": {},
   "outputs": [
    {
     "name": "stdout",
     "output_type": "stream",
     "text": [
      "Optimization terminated successfully.\n",
      "         Current function value: 0.130373\n",
      "         Iterations 10\n",
      "                           Logit Regression Results                           \n",
      "==============================================================================\n",
      "Dep. Variable:               COL_MIDI   No. Observations:                 4668\n",
      "Model:                          Logit   Df Residuals:                     4650\n",
      "Method:                           MLE   Df Model:                           17\n",
      "Date:                Sun, 27 May 2018   Pseudo R-squ.:                  0.1268\n",
      "Time:                        17:03:55   Log-Likelihood:                -608.58\n",
      "converged:                       True   LL-Null:                       -696.96\n",
      "                                        LLR p-value:                 1.280e-28\n",
      "=================================================================================\n",
      "                    coef    std err          z      P>|z|      [0.025      0.975]\n",
      "---------------------------------------------------------------------------------\n",
      "US_cinc         -10.7040     10.950     -0.978      0.328     -32.165      10.757\n",
      "US_milex      -7.212e-10   6.85e-09     -0.105      0.916   -1.42e-08    1.27e-08\n",
      "US_gdppc       7.691e-05      0.000      0.199      0.842      -0.001       0.001\n",
      "SU_cinc         -33.6610     18.047     -1.865      0.062     -69.033       1.711\n",
      "SU_milex       8.646e-09   5.08e-09      1.703      0.089   -1.31e-09    1.86e-08\n",
      "SU_gdppc          0.0003      0.001      0.331      0.741      -0.001       0.002\n",
      "milex         -2.942e-09   1.39e-08     -0.212      0.832   -3.01e-08    2.42e-08\n",
      "cinc             10.5866      5.360      1.975      0.048       0.081      21.092\n",
      "gdppc            -0.0003   4.99e-05     -5.337      0.000      -0.000      -0.000\n",
      "pop           -9.353e-06      4e-06     -2.337      0.019   -1.72e-05   -1.51e-06\n",
      "United States     1.8505      0.209      8.853      0.000       1.441       2.260\n",
      "Soviet Union      0.3008      0.300      1.002      0.316      -0.287       0.889\n",
      "FR_cinc         142.7484     69.205      2.063      0.039       7.109     278.388\n",
      "FR_milex      -8.191e-08   5.96e-08     -1.375      0.169   -1.99e-07    3.49e-08\n",
      "FR_gdppc         -0.0002      0.000     -0.455      0.649      -0.001       0.001\n",
      "UK_cinc           8.2752     23.318      0.355      0.723     -37.427      53.977\n",
      "UK_milex       4.036e-08   6.87e-08      0.587      0.557   -9.43e-08    1.75e-07\n",
      "UK_gdppc      -4.213e-06      0.000     -0.009      0.993      -0.001       0.001\n",
      "=================================================================================\n"
     ]
    }
   ],
   "source": [
    "print(run([\n",
    " 'US_cinc',\n",
    " 'US_milex',\n",
    " 'US_gdppc',\n",
    " 'SU_cinc',\n",
    " 'SU_milex',\n",
    " 'SU_gdppc',\n",
    " 'milex',\n",
    " 'cinc',\n",
    " 'gdppc',\n",
    " 'pop',\n",
    " 'United States',\n",
    " 'Soviet Union',\n",
    " 'FR_cinc',\n",
    " 'FR_milex',\n",
    " 'FR_gdppc',\n",
    " 'UK_cinc',\n",
    " 'UK_milex',\n",
    " 'UK_gdppc'\n",
    "],   \n",
    "    \n",
    " 'COL_MIDI'))"
   ]
  },
  {
   "cell_type": "markdown",
   "metadata": {},
   "source": [
    "Tekst hierover"
   ]
  },
  {
   "cell_type": "markdown",
   "metadata": {},
   "source": [
    "## Analysis 2: Political variables"
   ]
  },
  {
   "cell_type": "markdown",
   "metadata": {},
   "source": [
    "### Targets political system"
   ]
  },
  {
   "cell_type": "markdown",
   "metadata": {},
   "source": [
    "The US is somewhat less-less lickely to intervenin in Anech, could be col ally effect. \n",
    "Does not attack stable regimes, BUT Will tackle instab"
   ]
  },
  {
   "cell_type": "code",
   "execution_count": 7,
   "metadata": {},
   "outputs": [
    {
     "name": "stdout",
     "output_type": "stream",
     "text": [
      "Optimization terminated successfully.\n",
      "         Current function value: 0.162526\n",
      "         Iterations 7\n",
      "                           Logit Regression Results                           \n",
      "==============================================================================\n",
      "Dep. Variable:          United States   No. Observations:                 6900\n",
      "Model:                          Logit   Df Residuals:                     6895\n",
      "Method:                           MLE   Df Model:                            4\n",
      "Date:                Sun, 27 May 2018   Pseudo R-squ.:                 0.06289\n",
      "Time:                        17:03:55   Log-Likelihood:                -1121.4\n",
      "converged:                       True   LL-Null:                       -1196.7\n",
      "                                        LLR p-value:                 1.582e-31\n",
      "==============================================================================\n",
      "                 coef    std err          z      P>|z|      [0.025      0.975]\n",
      "------------------------------------------------------------------------------\n",
      "democ         -3.3716      0.141    -23.942      0.000      -3.648      -3.096\n",
      "anoc          -2.8457      0.131    -21.704      0.000      -3.103      -2.589\n",
      "autoc         -3.4977      0.091    -38.498      0.000      -3.676      -3.320\n",
      "anarc         -0.3792      0.277     -1.370      0.171      -0.922       0.163\n",
      "instab         0.7007      0.166      4.228      0.000       0.376       1.025\n",
      "==============================================================================\n"
     ]
    }
   ],
   "source": [
    "print(run([\n",
    " 'democ',\n",
    " 'anoc',\n",
    " 'autoc', \n",
    " 'anarc',\n",
    " 'instab'\n",
    "],       \n",
    " 'United States'))"
   ]
  },
  {
   "cell_type": "markdown",
   "metadata": {},
   "source": [
    "Direct SU int no effect"
   ]
  },
  {
   "cell_type": "code",
   "execution_count": 8,
   "metadata": {},
   "outputs": [
    {
     "name": "stdout",
     "output_type": "stream",
     "text": [
      "Optimization terminated successfully.\n",
      "         Current function value: 0.150941\n",
      "         Iterations 8\n",
      "                           Logit Regression Results                           \n",
      "==============================================================================\n",
      "Dep. Variable:          United States   No. Observations:                 6900\n",
      "Model:                          Logit   Df Residuals:                     6894\n",
      "Method:                           MLE   Df Model:                            5\n",
      "Date:                Sun, 27 May 2018   Pseudo R-squ.:                  0.1297\n",
      "Time:                        17:03:55   Log-Likelihood:                -1041.5\n",
      "converged:                       True   LL-Null:                       -1196.7\n",
      "                                        LLR p-value:                 5.885e-65\n",
      "================================================================================\n",
      "                   coef    std err          z      P>|z|      [0.025      0.975]\n",
      "--------------------------------------------------------------------------------\n",
      "democ           -3.4553      0.143    -24.080      0.000      -3.737      -3.174\n",
      "anoc            -3.0689      0.138    -22.206      0.000      -3.340      -2.798\n",
      "autoc           -3.7878      0.102    -37.213      0.000      -3.987      -3.588\n",
      "anarc           -0.4127      0.279     -1.477      0.140      -0.960       0.135\n",
      "instab           0.7151      0.172      4.168      0.000       0.379       1.051\n",
      "Soviet Union     2.6809      0.182     14.741      0.000       2.324       3.037\n",
      "================================================================================\n"
     ]
    }
   ],
   "source": [
    "print(run([\n",
    " 'democ',\n",
    " 'anoc',\n",
    " 'autoc', \n",
    " 'anarc',\n",
    " 'instab',\n",
    " 'Soviet Union'\n",
    "],   \n",
    " 'United States'))"
   ]
  },
  {
   "cell_type": "markdown",
   "metadata": {},
   "source": [
    "SU\n",
    "\n",
    "\n",
    "Anarc, indication of worthless?"
   ]
  },
  {
   "cell_type": "code",
   "execution_count": 9,
   "metadata": {},
   "outputs": [
    {
     "name": "stdout",
     "output_type": "stream",
     "text": [
      "Optimization terminated successfully.\n",
      "         Current function value: 0.127001\n",
      "         Iterations 9\n",
      "                           Logit Regression Results                           \n",
      "==============================================================================\n",
      "Dep. Variable:           Soviet Union   No. Observations:                 6900\n",
      "Model:                          Logit   Df Residuals:                     6895\n",
      "Method:                           MLE   Df Model:                            4\n",
      "Date:                Sun, 27 May 2018   Pseudo R-squ.:                -0.02853\n",
      "Time:                        17:03:55   Log-Likelihood:                -876.31\n",
      "converged:                       True   LL-Null:                       -852.00\n",
      "                                        LLR p-value:                     1.000\n",
      "==============================================================================\n",
      "                 coef    std err          z      P>|z|      [0.025      0.975]\n",
      "------------------------------------------------------------------------------\n",
      "democ         -4.6423      0.279    -16.658      0.000      -5.188      -4.096\n",
      "anocl         -3.2026      0.170    -18.836      0.000      -3.536      -2.869\n",
      "autoc         -3.3553      0.088    -38.322      0.000      -3.527      -3.184\n",
      "anarc         -3.4744      1.014     -3.425      0.001      -5.463      -1.486\n",
      "instab        -1.9846      0.250     -7.930      0.000      -2.475      -1.494\n",
      "==============================================================================\n"
     ]
    }
   ],
   "source": [
    "print(run([\n",
    " 'democ',\n",
    " 'anocl',\n",
    " 'autoc', \n",
    " 'anarc',\n",
    " 'instab'\n",
    "],   \n",
    "    \n",
    " 'Soviet Union'))"
   ]
  },
  {
   "cell_type": "markdown",
   "metadata": {},
   "source": [
    "SU \n",
    "\n",
    "Is missing coup effect"
   ]
  },
  {
   "cell_type": "code",
   "execution_count": 10,
   "metadata": {},
   "outputs": [
    {
     "name": "stdout",
     "output_type": "stream",
     "text": [
      "Optimization terminated successfully.\n",
      "         Current function value: 0.109576\n",
      "         Iterations 9\n",
      "                           Logit Regression Results                           \n",
      "==============================================================================\n",
      "Dep. Variable:           Soviet Union   No. Observations:                 6900\n",
      "Model:                          Logit   Df Residuals:                     6894\n",
      "Method:                           MLE   Df Model:                            5\n",
      "Date:                Sun, 27 May 2018   Pseudo R-squ.:                  0.1126\n",
      "Time:                        17:03:55   Log-Likelihood:                -756.08\n",
      "converged:                       True   LL-Null:                       -852.00\n",
      "                                        LLR p-value:                 1.579e-39\n",
      "=================================================================================\n",
      "                    coef    std err          z      P>|z|      [0.025      0.975]\n",
      "---------------------------------------------------------------------------------\n",
      "democ            -5.1068      0.289    -17.686      0.000      -5.673      -4.541\n",
      "anoc             -3.9511      0.199    -19.874      0.000      -4.341      -3.561\n",
      "autoc            -3.6661      0.098    -37.468      0.000      -3.858      -3.474\n",
      "anarc            -6.0303      1.034     -5.834      0.000      -8.056      -4.004\n",
      "instab           -0.1372      0.276     -0.497      0.619      -0.678       0.404\n",
      "United States     2.6857      0.182     14.724      0.000       2.328       3.043\n",
      "=================================================================================\n"
     ]
    }
   ],
   "source": [
    "print(run([\n",
    " 'democ',\n",
    " 'anoc',\n",
    " 'autoc', \n",
    " 'anarc',\n",
    " 'instab',\n",
    " 'United States'\n",
    "],   \n",
    "    \n",
    " 'Soviet Union'))"
   ]
  },
  {
   "cell_type": "markdown",
   "metadata": {},
   "source": [
    "### IF\n",
    "\n",
    "Anarc indication of worthless, cinc score should fix. "
   ]
  },
  {
   "cell_type": "markdown",
   "metadata": {},
   "source": [
    "Tekst hierover"
   ]
  },
  {
   "cell_type": "code",
   "execution_count": 11,
   "metadata": {},
   "outputs": [
    {
     "name": "stdout",
     "output_type": "stream",
     "text": [
      "Optimization terminated successfully.\n",
      "         Current function value: 0.143150\n",
      "         Iterations 9\n",
      "                           Logit Regression Results                           \n",
      "==============================================================================\n",
      "Dep. Variable:           Soviet Union   No. Observations:                 4747\n",
      "Model:                          Logit   Df Residuals:                     4739\n",
      "Method:                           MLE   Df Model:                            7\n",
      "Date:                Sun, 27 May 2018   Pseudo R-squ.:                  0.1307\n",
      "Time:                        17:03:55   Log-Likelihood:                -679.53\n",
      "converged:                       True   LL-Null:                       -781.66\n",
      "                                        LLR p-value:                 1.444e-40\n",
      "=================================================================================\n",
      "                    coef    std err          z      P>|z|      [0.025      0.975]\n",
      "---------------------------------------------------------------------------------\n",
      "democ            -3.9530      0.353    -11.193      0.000      -4.645      -3.261\n",
      "anoc             -3.2560      0.215    -15.176      0.000      -3.676      -2.835\n",
      "autoc            -2.7468      0.132    -20.853      0.000      -3.005      -2.489\n",
      "anarc            -5.2410      1.036     -5.061      0.000      -7.271      -3.211\n",
      "instab           -0.3024      0.269     -1.125      0.261      -0.829       0.225\n",
      "gdppc            -0.0002   4.68e-05     -3.736      0.000      -0.000   -8.31e-05\n",
      "cinc              5.1163      2.801      1.826      0.068      -0.374      10.607\n",
      "United States     2.1627      0.183     11.797      0.000       1.803       2.522\n",
      "=================================================================================\n"
     ]
    }
   ],
   "source": [
    "print(run([\n",
    " 'democ',\n",
    " 'anoc',\n",
    " 'autoc', \n",
    " 'anarc',\n",
    " 'instab',\n",
    " 'gdppc',\n",
    " 'cinc',\n",
    " 'United States'\n",
    "],   \n",
    "    \n",
    " 'Soviet Union'))"
   ]
  },
  {
   "cell_type": "markdown",
   "metadata": {},
   "source": [
    "Democ strong, anarc worhtles?, Aanarc effect less when comp for power though still heave"
   ]
  },
  {
   "cell_type": "code",
   "execution_count": 12,
   "metadata": {},
   "outputs": [
    {
     "name": "stdout",
     "output_type": "stream",
     "text": [
      "Optimization terminated successfully.\n",
      "         Current function value: 0.200485\n",
      "         Iterations 9\n",
      "                           Logit Regression Results                           \n",
      "==============================================================================\n",
      "Dep. Variable:          United States   No. Observations:                 4747\n",
      "Model:                          Logit   Df Residuals:                     4739\n",
      "Method:                           MLE   Df Model:                            7\n",
      "Date:                Sun, 27 May 2018   Pseudo R-squ.:                  0.1216\n",
      "Time:                        17:03:55   Log-Likelihood:                -951.70\n",
      "converged:                       True   LL-Null:                       -1083.4\n",
      "                                        LLR p-value:                 3.879e-53\n",
      "================================================================================\n",
      "                   coef    std err          z      P>|z|      [0.025      0.975]\n",
      "--------------------------------------------------------------------------------\n",
      "democ           -2.6557      0.209    -12.715      0.000      -3.065      -2.246\n",
      "anoc            -2.5506      0.149    -17.073      0.000      -2.843      -2.258\n",
      "autoc           -2.9525      0.120    -24.695      0.000      -3.187      -2.718\n",
      "anarc           -0.0061      0.291     -0.021      0.983      -0.577       0.564\n",
      "instab           0.5931      0.169      3.501      0.000       0.261       0.925\n",
      "gdppc         -9.03e-05   2.67e-05     -3.387      0.001      -0.000   -3.81e-05\n",
      "cinc           -10.9215      5.108     -2.138      0.033     -20.934      -0.909\n",
      "Soviet Union     2.1782      0.183     11.886      0.000       1.819       2.537\n",
      "================================================================================\n"
     ]
    }
   ],
   "source": [
    "print(run([\n",
    " 'democ',\n",
    " 'anoc',\n",
    " 'autoc', \n",
    " 'anarc',\n",
    " 'instab',\n",
    " 'gdppc',\n",
    " 'cinc',\n",
    " 'Soviet Union'\n",
    "],   \n",
    "    \n",
    " 'United States'))"
   ]
  },
  {
   "cell_type": "markdown",
   "metadata": {},
   "source": [
    "## United States B: Own Politics\n",
    "\n",
    "United States\n",
    "\n",
    "- Republican effect\n",
    "- Reagan effect measured. "
   ]
  },
  {
   "cell_type": "code",
   "execution_count": 65,
   "metadata": {},
   "outputs": [
    {
     "name": "stdout",
     "output_type": "stream",
     "text": [
      "Optimization terminated successfully.\n",
      "         Current function value: 0.160291\n",
      "         Iterations 8\n",
      "                           Logit Regression Results                           \n",
      "==============================================================================\n",
      "Dep. Variable:          United States   No. Observations:                 6900\n",
      "Model:                          Logit   Df Residuals:                     6894\n",
      "Method:                           MLE   Df Model:                            5\n",
      "Date:                Sun, 27 May 2018   Pseudo R-squ.:                 0.07577\n",
      "Time:                        17:14:01   Log-Likelihood:                -1106.0\n",
      "converged:                       True   LL-Null:                       -1196.7\n",
      "                                        LLR p-value:                 2.750e-37\n",
      "==============================================================================\n",
      "                 coef    std err          z      P>|z|      [0.025      0.975]\n",
      "------------------------------------------------------------------------------\n",
      "democ         -3.8964      0.178    -21.878      0.000      -4.245      -3.547\n",
      "anoc          -3.3300      0.167    -19.974      0.000      -3.657      -3.003\n",
      "autoc         -3.9841      0.137    -29.074      0.000      -4.253      -3.716\n",
      "anarc         -0.7636      0.290     -2.632      0.008      -1.332      -0.195\n",
      "instab         0.6837      0.167      4.099      0.000       0.357       1.011\n",
      "Republican     0.7446      0.140      5.303      0.000       0.469       1.020\n",
      "==============================================================================\n"
     ]
    }
   ],
   "source": [
    "print(run([\n",
    " 'democ',\n",
    " 'anoc',\n",
    " 'autoc', \n",
    " 'anarc',\n",
    " 'instab',\n",
    " 'Republican',\n",
    "\n",
    "],       \n",
    " 'United States'))"
   ]
  },
  {
   "cell_type": "markdown",
   "metadata": {},
   "source": [
    "Presidents:\n",
    "(Using Truman as Base)"
   ]
  },
  {
   "cell_type": "code",
   "execution_count": 60,
   "metadata": {},
   "outputs": [
    {
     "name": "stdout",
     "output_type": "stream",
     "text": [
      "Optimization terminated successfully.\n",
      "         Current function value: 0.149770\n",
      "         Iterations 9\n",
      "                           Logit Regression Results                           \n",
      "==============================================================================\n",
      "Dep. Variable:          United States   No. Observations:                 6900\n",
      "Model:                          Logit   Df Residuals:                     6887\n",
      "Method:                           MLE   Df Model:                           12\n",
      "Date:                Sun, 27 May 2018   Pseudo R-squ.:                  0.1364\n",
      "Time:                        17:12:41   Log-Likelihood:                -1033.4\n",
      "converged:                       True   LL-Null:                       -1196.7\n",
      "                                        LLR p-value:                 1.234e-62\n",
      "========================================================================================\n",
      "                           coef    std err          z      P>|z|      [0.025      0.975]\n",
      "----------------------------------------------------------------------------------------\n",
      "democ                   -5.6406      0.470    -12.010      0.000      -6.561      -4.720\n",
      "anoc                    -4.9227      0.463    -10.640      0.000      -5.830      -4.016\n",
      "autoc                   -5.5689      0.453    -12.299      0.000      -6.456      -4.681\n",
      "anarc                   -2.5561      0.538     -4.750      0.000      -3.611      -1.501\n",
      "instab                   0.6335      0.175      3.620      0.000       0.291       0.977\n",
      "Dwight D. Eisenhower     1.1036      0.512      2.158      0.031       0.101       2.106\n",
      "George H. W. Bush        2.7569      0.483      5.711      0.000       1.811       3.703\n",
      "Gerald Ford              2.3070      0.504      4.580      0.000       1.320       3.294\n",
      "Jimmy Carter             2.6237      0.481      5.460      0.000       1.682       3.566\n",
      "John F. Kennedy          1.2047      0.620      1.944      0.052      -0.010       2.419\n",
      "Lyndon B. Johnson        1.6391      0.495      3.310      0.001       0.669       2.610\n",
      "Richard Nixon            1.6655      0.505      3.299      0.001       0.676       2.655\n",
      "Ronald Reagan            3.0524      0.460      6.630      0.000       2.150       3.955\n",
      "========================================================================================\n"
     ]
    }
   ],
   "source": [
    "print(run([\n",
    " 'democ',\n",
    " 'anoc',\n",
    " 'autoc', \n",
    " 'anarc',\n",
    " 'instab',    \n",
    " 'Dwight D. Eisenhower',\n",
    " 'George H. W. Bush',\n",
    " 'Gerald Ford',\n",
    "# 'Harry S. Truman',  \n",
    "  'Jimmy Carter', \n",
    "  'John F. Kennedy', \n",
    "  'Lyndon B. Johnson', \n",
    "  'Richard Nixon',\n",
    "  'Ronald Reagan',\n",
    "\n",
    "\n",
    "],       \n",
    " 'United States'))\n"
   ]
  },
  {
   "cell_type": "markdown",
   "metadata": {},
   "source": [
    "COLS\n",
    "\n",
    "- Mirror US anarc, ally?"
   ]
  },
  {
   "cell_type": "code",
   "execution_count": 13,
   "metadata": {},
   "outputs": [
    {
     "name": "stdout",
     "output_type": "stream",
     "text": [
      "Optimization terminated successfully.\n",
      "         Current function value: 0.112034\n",
      "         Iterations 9\n",
      "                           Logit Regression Results                           \n",
      "==============================================================================\n",
      "Dep. Variable:               COL_MIDI   No. Observations:                 6900\n",
      "Model:                          Logit   Df Residuals:                     6893\n",
      "Method:                           MLE   Df Model:                            6\n",
      "Date:                Sun, 27 May 2018   Pseudo R-squ.:                 0.01237\n",
      "Time:                        17:03:56   Log-Likelihood:                -773.03\n",
      "converged:                       True   LL-Null:                       -782.72\n",
      "                                        LLR p-value:                  0.003580\n",
      "=================================================================================\n",
      "                    coef    std err          z      P>|z|      [0.025      0.975]\n",
      "---------------------------------------------------------------------------------\n",
      "democ            -4.6832      0.264    -17.760      0.000      -5.200      -4.166\n",
      "anocl            -3.4863      0.180    -19.397      0.000      -3.839      -3.134\n",
      "autoc            -3.8151      0.106    -35.971      0.000      -4.023      -3.607\n",
      "anarc            -1.3631      0.375     -3.637      0.000      -2.098      -0.628\n",
      "instab           -1.8168      0.218     -8.337      0.000      -2.244      -1.390\n",
      "United States     1.7401      0.215      8.094      0.000       1.319       2.161\n",
      "Soviet Union      0.8836      0.288      3.069      0.002       0.319       1.448\n",
      "=================================================================================\n"
     ]
    }
   ],
   "source": [
    "print(run([\n",
    " 'democ',\n",
    " 'anocl',\n",
    " 'autoc', \n",
    " 'anarc',\n",
    " 'instab',\n",
    " 'United States', \n",
    " 'Soviet Union',\n",
    "    \n",
    "],   \n",
    "    \n",
    " 'COL_MIDI'))"
   ]
  },
  {
   "cell_type": "markdown",
   "metadata": {},
   "source": [
    "Now with location dmummy, as col proxy\n",
    "\n",
    "Anarc effect stays. no other effects."
   ]
  },
  {
   "cell_type": "code",
   "execution_count": 14,
   "metadata": {},
   "outputs": [
    {
     "name": "stdout",
     "output_type": "stream",
     "text": [
      "Optimization terminated successfully.\n",
      "         Current function value: 0.111397\n",
      "         Iterations 9\n",
      "                           Logit Regression Results                           \n",
      "==============================================================================\n",
      "Dep. Variable:               COL_MIDI   No. Observations:                 6808\n",
      "Model:                          Logit   Df Residuals:                     6800\n",
      "Method:                           MLE   Df Model:                            7\n",
      "Date:                Sun, 27 May 2018   Pseudo R-squ.:                 0.02828\n",
      "Time:                        17:03:56   Log-Likelihood:                -758.39\n",
      "converged:                       True   LL-Null:                       -780.46\n",
      "                                        LLR p-value:                 2.011e-07\n",
      "==============================================================================\n",
      "                 coef    std err          z      P>|z|      [0.025      0.975]\n",
      "------------------------------------------------------------------------------\n",
      "democ         -4.8215      0.272    -17.729      0.000      -5.355      -4.289\n",
      "anocl         -3.7179      0.213    -17.496      0.000      -4.134      -3.301\n",
      "autoc         -4.3556      0.176    -24.798      0.000      -4.700      -4.011\n",
      "anarc         -1.2295      0.399     -3.083      0.002      -2.011      -0.448\n",
      "instab        -1.9774      0.242     -8.164      0.000      -2.452      -1.503\n",
      "ssafrica       1.1089      0.195      5.700      0.000       0.728       1.490\n",
      "asia          -0.7758      0.373     -2.082      0.037      -1.506      -0.046\n",
      "nafrme         1.7258      0.216      7.993      0.000       1.303       2.149\n",
      "==============================================================================\n"
     ]
    }
   ],
   "source": [
    "print(run([\n",
    " 'democ',\n",
    " 'anocl',\n",
    " 'autoc', \n",
    " 'anarc',\n",
    " 'instab',\n",
    " 'ssafrica',\n",
    " 'asia',\n",
    " 'nafrme',\n",
    "],   \n",
    "    \n",
    " 'COL_MIDI'))"
   ]
  },
  {
   "cell_type": "markdown",
   "metadata": {},
   "source": [
    "No soviet effect!"
   ]
  },
  {
   "cell_type": "code",
   "execution_count": 15,
   "metadata": {},
   "outputs": [
    {
     "name": "stdout",
     "output_type": "stream",
     "text": [
      "Optimization terminated successfully.\n",
      "         Current function value: 0.103940\n",
      "         Iterations 9\n",
      "                           Logit Regression Results                           \n",
      "==============================================================================\n",
      "Dep. Variable:               COL_MIDI   No. Observations:                 6808\n",
      "Model:                          Logit   Df Residuals:                     6798\n",
      "Method:                           MLE   Df Model:                            9\n",
      "Date:                Sun, 27 May 2018   Pseudo R-squ.:                 0.09332\n",
      "Time:                        17:03:56   Log-Likelihood:                -707.63\n",
      "converged:                       True   LL-Null:                       -780.46\n",
      "                                        LLR p-value:                 6.942e-27\n",
      "=================================================================================\n",
      "                    coef    std err          z      P>|z|      [0.025      0.975]\n",
      "---------------------------------------------------------------------------------\n",
      "democ            -5.2674      0.302    -17.433      0.000      -5.860      -4.675\n",
      "anocl            -3.9387      0.215    -18.344      0.000      -4.359      -3.518\n",
      "autoc            -4.4884      0.183    -24.531      0.000      -4.847      -4.130\n",
      "anarc            -2.0319      0.412     -4.935      0.000      -2.839      -1.225\n",
      "instab           -2.1932      0.249     -8.800      0.000      -2.682      -1.705\n",
      "ssafrica          1.0844      0.200      5.422      0.000       0.692       1.476\n",
      "asia             -1.5450      0.404     -3.825      0.000      -2.337      -0.753\n",
      "nafrme            1.5878      0.217      7.302      0.000       1.162       2.014\n",
      "United States     2.1579      0.226      9.564      0.000       1.716       2.600\n",
      "Soviet Union      0.9628      0.292      3.295      0.001       0.390       1.536\n",
      "=================================================================================\n"
     ]
    }
   ],
   "source": [
    "print(run([\n",
    " 'democ',\n",
    " 'anocl',\n",
    " 'autoc', \n",
    " 'anarc',\n",
    " 'instab',\n",
    " 'ssafrica',\n",
    " 'asia',\n",
    " 'nafrme',\n",
    " 'United States', \n",
    " 'Soviet Union',\n",
    "],   \n",
    "    \n",
    " 'COL_MIDI'))"
   ]
  },
  {
   "cell_type": "markdown",
   "metadata": {},
   "source": [
    "## Analysis 3: Type of war being fought"
   ]
  },
  {
   "cell_type": "markdown",
   "metadata": {},
   "source": [
    "Tekst hierover"
   ]
  },
  {
   "cell_type": "code",
   "execution_count": 16,
   "metadata": {},
   "outputs": [
    {
     "name": "stdout",
     "output_type": "stream",
     "text": [
      "Optimization terminated successfully.\n",
      "         Current function value: 0.676683\n",
      "         Iterations 7\n",
      "                           Logit Regression Results                           \n",
      "==============================================================================\n",
      "Dep. Variable:          United States   No. Observations:                 6900\n",
      "Model:                          Logit   Df Residuals:                     6893\n",
      "Method:                           MLE   Df Model:                            6\n",
      "Date:                Sun, 27 May 2018   Pseudo R-squ.:                  -2.902\n",
      "Time:                        17:03:56   Log-Likelihood:                -4669.1\n",
      "converged:                       True   LL-Null:                       -1196.7\n",
      "                                        LLR p-value:                     1.000\n",
      "================================================================================\n",
      "                   coef    std err          z      P>|z|      [0.025      0.975]\n",
      "--------------------------------------------------------------------------------\n",
      "pointrap        -2.1394      0.231     -9.276      0.000      -2.591      -1.687\n",
      "pointer         -0.6933      0.287     -2.413      0.016      -1.256      -0.130\n",
      "pocivil          1.9886      0.265      7.494      0.000       1.468       2.509\n",
      "ointrap         -2.6307      0.732     -3.596      0.000      -4.065      -1.197\n",
      "ointer          -0.6932      0.338     -2.049      0.041      -1.356      -0.030\n",
      "ocivil           1.4432      0.792      1.821      0.069      -0.110       2.996\n",
      "Soviet Union    -0.5580      0.176     -3.163      0.002      -0.904      -0.212\n",
      "================================================================================\n"
     ]
    }
   ],
   "source": [
    "print(run([\n",
    "    'pointrap',\n",
    "    'pointer',\n",
    "    'pocivil',\n",
    "    'ointrap',\n",
    "    'ointer',\n",
    "    'ocivil',\n",
    "    'Soviet Union',    \n",
    "],   \n",
    "    \n",
    " 'United States'))"
   ]
  },
  {
   "cell_type": "markdown",
   "metadata": {},
   "source": [
    "Tekst hierover\n",
    "\n"
   ]
  },
  {
   "cell_type": "code",
   "execution_count": 17,
   "metadata": {},
   "outputs": [
    {
     "name": "stdout",
     "output_type": "stream",
     "text": [
      "Optimization terminated successfully.\n",
      "         Current function value: 0.664703\n",
      "         Iterations 7\n",
      "                           Logit Regression Results                           \n",
      "==============================================================================\n",
      "Dep. Variable:           Soviet Union   No. Observations:                 6900\n",
      "Model:                          Logit   Df Residuals:                     6893\n",
      "Method:                           MLE   Df Model:                            6\n",
      "Date:                Sun, 27 May 2018   Pseudo R-squ.:                  -4.383\n",
      "Time:                        17:03:56   Log-Likelihood:                -4586.5\n",
      "converged:                       True   LL-Null:                       -852.00\n",
      "                                        LLR p-value:                     1.000\n",
      "=================================================================================\n",
      "                    coef    std err          z      P>|z|      [0.025      0.975]\n",
      "---------------------------------------------------------------------------------\n",
      "pointrap         -2.2257      0.241     -9.225      0.000      -2.699      -1.753\n",
      "pointer          -1.8928      0.436     -4.343      0.000      -2.747      -1.039\n",
      "pocivil           1.7428      0.281      6.200      0.000       1.192       2.294\n",
      "ointrap          -2.1918      0.608     -3.604      0.000      -3.384      -1.000\n",
      "ointer           -2.2862      0.604     -3.787      0.000      -3.469      -1.103\n",
      "ocivil           -0.6178      0.850     -0.727      0.467      -2.283       1.048\n",
      "United States    -0.9147      0.166     -5.521      0.000      -1.239      -0.590\n",
      "=================================================================================\n"
     ]
    }
   ],
   "source": [
    "print(run([\n",
    "    'pointrap',\n",
    "    'pointer',\n",
    "    'pocivil',\n",
    "    'ointrap',\n",
    "    'ointer',\n",
    "    'ocivil',\n",
    "    'United States'\n",
    "    \n",
    "],   \n",
    "    \n",
    " 'Soviet Union'))\n",
    "\n",
    "#Singular matrix for excluded variables"
   ]
  },
  {
   "cell_type": "markdown",
   "metadata": {},
   "source": [
    "Tekst Hierover"
   ]
  },
  {
   "cell_type": "code",
   "execution_count": 18,
   "metadata": {},
   "outputs": [
    {
     "name": "stdout",
     "output_type": "stream",
     "text": [
      "Optimization terminated successfully.\n",
      "         Current function value: 0.652350\n",
      "         Iterations 7\n",
      "                           Logit Regression Results                           \n",
      "==============================================================================\n",
      "Dep. Variable:               COL_MIDI   No. Observations:                 6900\n",
      "Model:                          Logit   Df Residuals:                     6892\n",
      "Method:                           MLE   Df Model:                            7\n",
      "Date:                Sun, 27 May 2018   Pseudo R-squ.:                  -4.751\n",
      "Time:                        17:03:56   Log-Likelihood:                -4501.2\n",
      "converged:                       True   LL-Null:                       -782.72\n",
      "                                        LLR p-value:                     1.000\n",
      "=================================================================================\n",
      "                    coef    std err          z      P>|z|      [0.025      0.975]\n",
      "---------------------------------------------------------------------------------\n",
      "pointrap         -2.5831      0.287     -8.987      0.000      -3.146      -2.020\n",
      "pointer          -2.2933      0.523     -4.386      0.000      -3.318      -1.268\n",
      "pocivil           1.2137      0.345      3.519      0.000       0.538       1.890\n",
      "ointrap          -3.2905      1.018     -3.233      0.001      -5.285      -1.296\n",
      "ointer           -1.9432      0.532     -3.655      0.000      -2.985      -0.901\n",
      "ocivil            1.0360      1.120      0.925      0.355      -1.160       3.232\n",
      "Soviet Union     -1.3208      0.256     -5.165      0.000      -1.822      -0.820\n",
      "United States    -0.6765      0.176     -3.835      0.000      -1.022      -0.331\n",
      "=================================================================================\n"
     ]
    }
   ],
   "source": [
    "print(run([\n",
    "    'pointrap',\n",
    "    'pointer',\n",
    "    'pocivil',\n",
    "    'ointrap',\n",
    "    'ointer',\n",
    "    'ocivil',\n",
    "    'Soviet Union',    \n",
    "    'United States',\n",
    "],   \n",
    "    \n",
    " 'COL_MIDI'))"
   ]
  },
  {
   "cell_type": "markdown",
   "metadata": {},
   "source": [
    "## Analysis 4: New Nations and colonialism"
   ]
  },
  {
   "cell_type": "markdown",
   "metadata": {},
   "source": [
    "tekst hierover"
   ]
  },
  {
   "cell_type": "markdown",
   "metadata": {},
   "source": [
    "yoooo\n",
    "\n",
    "1. CINC DETERS (SU NIET), POINT mattered niet. US afgeschrikt door sterke naties, intervener\n",
    "2. Sorry US, oil matters\n",
    "3. OVERAL ACTIVE\n",
    "\n",
    "\n",
    "4. War / ander +\n",
    "\n",
    "5. Interventions less likely in democ , more in anarc\n",
    "6. also less in AUTOc , AKA stabiel regime.  / Allies of nessesity"
   ]
  },
  {
   "cell_type": "code",
   "execution_count": 19,
   "metadata": {},
   "outputs": [
    {
     "name": "stdout",
     "output_type": "stream",
     "text": [
      "Optimization terminated successfully.\n",
      "         Current function value: 0.147043\n",
      "         Iterations 11\n",
      "                           Logit Regression Results                           \n",
      "==============================================================================\n",
      "Dep. Variable:          United States   No. Observations:                 4837\n",
      "Model:                          Logit   Df Residuals:                     4820\n",
      "Method:                           MLE   Df Model:                           16\n",
      "Date:                Sun, 27 May 2018   Pseudo R-squ.:                  0.3485\n",
      "Time:                        17:03:57   Log-Likelihood:                -711.25\n",
      "converged:                       True   LL-Null:                       -1091.7\n",
      "                                        LLR p-value:                1.342e-151\n",
      "================================================================================\n",
      "                   coef    std err          z      P>|z|      [0.025      0.975]\n",
      "--------------------------------------------------------------------------------\n",
      "US_cinc         -8.7014      2.286     -3.807      0.000     -13.181      -4.221\n",
      "US_milex      3.526e-09   1.13e-09      3.133      0.002    1.32e-09    5.73e-09\n",
      "milex         1.492e-08   1.29e-08      1.156      0.248   -1.04e-08    4.02e-08\n",
      "cinc           -16.7917      7.431     -2.260      0.024     -31.357      -2.226\n",
      "Soviet Union     0.5255      0.229      2.297      0.022       0.077       0.974\n",
      "anarc            0.7435      0.357      2.085      0.037       0.045       1.442\n",
      "autoc           -0.3199      0.185     -1.727      0.084      -0.683       0.043\n",
      "democ           -0.2497      0.220     -1.134      0.257      -0.681       0.182\n",
      "instab           0.4215      0.186      2.261      0.024       0.056       0.787\n",
      "ssafrica         1.9917      0.766      2.599      0.009       0.490       3.494\n",
      "asia             3.4288      0.755      4.544      0.000       1.950       4.908\n",
      "nafrme           3.8713      0.756      5.122      0.000       2.390       5.353\n",
      "lamerica         3.0870      0.754      4.096      0.000       1.610       4.564\n",
      "war              2.2170      0.223      9.938      0.000       1.780       2.654\n",
      "year            -0.0025      0.000     -5.482      0.000      -0.003      -0.002\n",
      "pointrap         0.2075      0.240      0.866      0.386      -0.262       0.677\n",
      "oilpc           -0.5746      0.144     -3.988      0.000      -0.857      -0.292\n",
      "================================================================================\n"
     ]
    }
   ],
   "source": [
    "print(run([\n",
    " 'US_cinc',\n",
    " 'US_milex',\n",
    " 'milex',\n",
    " 'cinc',\n",
    "#  'United States',\n",
    " 'Soviet Union',\n",
    " 'anarc',\n",
    " 'autoc',\n",
    " 'democ',\n",
    " 'instab',\n",
    " 'ssafrica',\n",
    " 'asia',\n",
    " 'nafrme',\n",
    " 'lamerica',\n",
    " 'war', \n",
    " 'year',\n",
    " 'pointrap',\n",
    " 'oilpc', \n",
    "    \n",
    "],   \n",
    "    \n",
    " 'United States'))"
   ]
  },
  {
   "cell_type": "markdown",
   "metadata": {},
   "source": [
    "yoooo\n",
    "\n",
    "1. CINC TREKT AAN (US NIET), POINT mattered . AKA< civil wars, hier valt iets te halen\n",
    "\n",
    "2. Anarc stoot af, wellicht weak states?\n",
    "\n",
    "3. Su afrika en lamerica niet signif\n",
    "\n",
    "4. War / de ander +"
   ]
  },
  {
   "cell_type": "code",
   "execution_count": 20,
   "metadata": {},
   "outputs": [
    {
     "name": "stdout",
     "output_type": "stream",
     "text": [
      "Optimization terminated successfully.\n",
      "         Current function value: 0.107443\n",
      "         Iterations 10\n",
      "                           Logit Regression Results                           \n",
      "==============================================================================\n",
      "Dep. Variable:           Soviet Union   No. Observations:                 4837\n",
      "Model:                          Logit   Df Residuals:                     4820\n",
      "Method:                           MLE   Df Model:                           16\n",
      "Date:                Sun, 27 May 2018   Pseudo R-squ.:                  0.3381\n",
      "Time:                        17:03:57   Log-Likelihood:                -519.70\n",
      "converged:                       True   LL-Null:                       -785.20\n",
      "                                        LLR p-value:                9.392e-103\n",
      "=================================================================================\n",
      "                    coef    std err          z      P>|z|      [0.025      0.975]\n",
      "---------------------------------------------------------------------------------\n",
      "SU_cinc         -11.7840      5.284     -2.230      0.026     -22.140      -1.428\n",
      "SU_milex       9.494e-09   1.01e-09      9.381      0.000    7.51e-09    1.15e-08\n",
      "milex         -3.881e-09   7.18e-09     -0.540      0.589    -1.8e-08    1.02e-08\n",
      "cinc             10.7949      4.098      2.634      0.008       2.763      18.827\n",
      "United States     0.3853      0.234      1.649      0.099      -0.073       0.843\n",
      "anarc            -2.8990      1.061     -2.732      0.006      -4.979      -0.819\n",
      "autoc             0.2712      0.234      1.160      0.246      -0.187       0.729\n",
      "democ            -1.3448      0.367     -3.662      0.000      -2.065      -0.625\n",
      "instab           -0.4337      0.295     -1.468      0.142      -1.013       0.145\n",
      "ssafrica          1.3584      0.591      2.299      0.022       0.200       2.517\n",
      "asia              1.7280      0.582      2.969      0.003       0.587       2.869\n",
      "nafrme            1.7538      0.616      2.849      0.004       0.547       2.960\n",
      "lamerica          1.0836      0.611      1.772      0.076      -0.115       2.282\n",
      "war               1.3689      0.325      4.218      0.000       0.733       2.005\n",
      "year             -0.0025      0.001     -4.713      0.000      -0.003      -0.001\n",
      "pointrap          1.2930      0.328      3.939      0.000       0.650       1.936\n",
      "oilpc            -0.0175      0.065     -0.270      0.787      -0.144       0.109\n",
      "=================================================================================\n"
     ]
    }
   ],
   "source": [
    "print(run([\n",
    " 'SU_cinc',\n",
    " 'SU_milex',\n",
    " 'milex',\n",
    " 'cinc',\n",
    " 'United States',\n",
    "#  'Soviet Union',\n",
    " 'anarc',\n",
    " 'autoc',\n",
    " 'democ',\n",
    " 'instab',\n",
    " 'ssafrica',\n",
    " 'asia',\n",
    " 'nafrme',\n",
    " 'lamerica',\n",
    " 'war', \n",
    " 'year',\n",
    " 'pointrap',\n",
    " 'oilpc', \n",
    "    \n",
    "],   \n",
    "    \n",
    " 'Soviet Union'))"
   ]
  },
  {
   "cell_type": "code",
   "execution_count": null,
   "metadata": {},
   "outputs": [],
   "source": []
  },
  {
   "cell_type": "code",
   "execution_count": null,
   "metadata": {},
   "outputs": [],
   "source": []
  },
  {
   "cell_type": "code",
   "execution_count": null,
   "metadata": {},
   "outputs": [],
   "source": []
  },
  {
   "cell_type": "markdown",
   "metadata": {},
   "source": [
    "Voor EU maakt SU dus totaal niet uit, US wel"
   ]
  },
  {
   "cell_type": "code",
   "execution_count": 21,
   "metadata": {},
   "outputs": [
    {
     "name": "stdout",
     "output_type": "stream",
     "text": [
      "Optimization terminated successfully.\n",
      "         Current function value: 0.111893\n",
      "         Iterations 11\n",
      "                           Logit Regression Results                           \n",
      "==============================================================================\n",
      "Dep. Variable:               COL_MIDI   No. Observations:                 4837\n",
      "Model:                          Logit   Df Residuals:                     4822\n",
      "Method:                           MLE   Df Model:                           14\n",
      "Date:                Sun, 27 May 2018   Pseudo R-squ.:                  0.2478\n",
      "Time:                        17:03:57   Log-Likelihood:                -541.23\n",
      "converged:                       True   LL-Null:                       -719.54\n",
      "                                        LLR p-value:                 1.674e-67\n",
      "=================================================================================\n",
      "                    coef    std err          z      P>|z|      [0.025      0.975]\n",
      "---------------------------------------------------------------------------------\n",
      "milex         -3.162e-08   3.53e-08     -0.896      0.370   -1.01e-07    3.76e-08\n",
      "cinc             15.4681      5.497      2.814      0.005       4.695      26.242\n",
      "United States     1.6762      0.244      6.867      0.000       1.198       2.155\n",
      "Soviet Union      0.3910      0.321      1.219      0.223      -0.238       1.020\n",
      "anarc             0.5348      0.430      1.243      0.214      -0.309       1.378\n",
      "autoc             0.0630      0.227      0.277      0.782      -0.382       0.508\n",
      "democ            -0.9910      0.343     -2.892      0.004      -1.663      -0.319\n",
      "instab            0.2237      0.244      0.917      0.359      -0.255       0.702\n",
      "ssafrica          2.2147      0.323      6.847      0.000       1.581       2.849\n",
      "asia             -0.7236      0.471     -1.537      0.124      -1.646       0.199\n",
      "nafrme            2.9145      0.331      8.799      0.000       2.265       3.564\n",
      "war               0.6069      0.349      1.740      0.082      -0.077       1.290\n",
      "year             -0.0026      0.000    -15.547      0.000      -0.003      -0.002\n",
      "pointrap          0.5019      0.377      1.330      0.183      -0.237       1.241\n",
      "oilpc            -0.3361      0.124     -2.700      0.007      -0.580      -0.092\n",
      "=================================================================================\n"
     ]
    }
   ],
   "source": [
    "print(run([\n",
    " 'milex',\n",
    " 'cinc',\n",
    " 'United States',\n",
    " 'Soviet Union',\n",
    " 'anarc',\n",
    " 'autoc',\n",
    " 'democ',\n",
    " 'instab',\n",
    " 'ssafrica',\n",
    " 'asia',\n",
    " 'nafrme',\n",
    " 'war', \n",
    " 'year',\n",
    " 'pointrap',\n",
    " 'oilpc', \n",
    "],   \n",
    "    \n",
    " 'COL_MIDI'))"
   ]
  },
  {
   "cell_type": "markdown",
   "metadata": {},
   "source": [
    "Idem ditto voor Brittain"
   ]
  },
  {
   "cell_type": "markdown",
   "metadata": {},
   "source": [
    "Why do EU powers intervene?"
   ]
  },
  {
   "cell_type": "markdown",
   "metadata": {},
   "source": [
    "UK\n",
    "\n",
    "1. Does not attack powerfull nations (CINC)\n",
    "2. Less active by time, only in crisis (War, insab - regime) \n",
    "3. Like rest of EU, asia is closed of. \n",
    "4. Remove - 'years since nation state creation'  and Africa coef 0.7089  P   0.031\n",
    "5. Does not care about soviet threat. US support (ally)\n",
    "6. More assertive IF power grows, but it delinces (cinc, year)\n",
    "7. Does not attack democracies"
   ]
  },
  {
   "cell_type": "code",
   "execution_count": 22,
   "metadata": {},
   "outputs": [
    {
     "name": "stdout",
     "output_type": "stream",
     "text": [
      "Optimization terminated successfully.\n",
      "         Current function value: 0.052406\n",
      "         Iterations 14\n",
      "                           Logit Regression Results                           \n",
      "==============================================================================\n",
      "Dep. Variable:         United Kingdom   No. Observations:                 4837\n",
      "Model:                          Logit   Df Residuals:                     4820\n",
      "Method:                           MLE   Df Model:                           16\n",
      "Date:                Sun, 27 May 2018   Pseudo R-squ.:                  0.2553\n",
      "Time:                        17:03:57   Log-Likelihood:                -253.49\n",
      "converged:                       True   LL-Null:                       -340.39\n",
      "                                        LLR p-value:                 1.471e-28\n",
      "=================================================================================\n",
      "                    coef    std err          z      P>|z|      [0.025      0.975]\n",
      "---------------------------------------------------------------------------------\n",
      "UK_cinc          29.8515      7.106      4.201      0.000      15.924      43.779\n",
      "UK_milex       5.693e-11    1.4e-08      0.004      0.997   -2.74e-08    2.75e-08\n",
      "milex          1.001e-07   4.99e-08      2.008      0.045    2.38e-09    1.98e-07\n",
      "cinc           -177.4559     81.424     -2.179      0.029    -337.043     -17.869\n",
      "United States     1.1219      0.376      2.985      0.003       0.385       1.858\n",
      "Soviet Union      1.8560      0.438      4.234      0.000       0.997       2.715\n",
      "anarc             0.3578      0.566      0.632      0.527      -0.751       1.467\n",
      "autoc            -0.4452      0.327     -1.362      0.173      -1.086       0.195\n",
      "democ            -1.0152      0.502     -2.024      0.043      -1.998      -0.032\n",
      "instab            0.5943      0.327      1.819      0.069      -0.046       1.235\n",
      "ssafrica          2.3777      0.534      4.454      0.000       1.331       3.424\n",
      "asia              0.5578      0.644      0.866      0.387      -0.705       1.821\n",
      "nafrme            3.1480      0.526      5.983      0.000       2.117       4.179\n",
      "war               0.8354      0.511      1.636      0.102      -0.166       1.837\n",
      "year             -0.0035      0.000    -10.061      0.000      -0.004      -0.003\n",
      "pointrap          0.1245      0.536      0.232      0.816      -0.927       1.176\n",
      "oilpc            -1.3370      0.546     -2.449      0.014      -2.407      -0.267\n",
      "=================================================================================\n",
      "\n",
      "Possibly complete quasi-separation: A fraction 0.12 of observations can be\n",
      "perfectly predicted. This might indicate that there is complete\n",
      "quasi-separation. In this case some parameters will not be identified.\n"
     ]
    }
   ],
   "source": [
    "print(run([\n",
    " 'UK_cinc',\n",
    " 'UK_milex',\n",
    " 'milex',\n",
    " 'cinc',\n",
    " 'United States',\n",
    " 'Soviet Union',\n",
    " 'anarc',\n",
    " 'autoc',\n",
    " 'democ',\n",
    " 'instab',\n",
    " 'ssafrica',\n",
    " 'asia',\n",
    " 'nafrme',\n",
    " 'war', \n",
    " 'year',\n",
    " 'pointrap',\n",
    " 'oilpc', \n",
    "    \n",
    "],   \n",
    "    \n",
    " 'United Kingdom'))"
   ]
  },
  {
   "cell_type": "markdown",
   "metadata": {},
   "source": [
    "France\n",
    "\n",
    "1. Years have not been kind\n",
    "2. Own strenght matter, other not. #LEEEEROY JENKINS\n",
    "3. US support (or vice versa), does not care about cold war\n",
    "4. Anarchy and war cause int\n",
    "\n",
    "\n"
   ]
  },
  {
   "cell_type": "code",
   "execution_count": 23,
   "metadata": {},
   "outputs": [
    {
     "name": "stdout",
     "output_type": "stream",
     "text": [
      "Optimization terminated successfully.\n",
      "         Current function value: 0.073358\n",
      "         Iterations 11\n",
      "                           Logit Regression Results                           \n",
      "==============================================================================\n",
      "Dep. Variable:                 France   No. Observations:                 4837\n",
      "Model:                          Logit   Df Residuals:                     4820\n",
      "Method:                           MLE   Df Model:                           16\n",
      "Date:                Sun, 27 May 2018   Pseudo R-squ.:                  0.2988\n",
      "Time:                        17:03:57   Log-Likelihood:                -354.83\n",
      "converged:                       True   LL-Null:                       -506.01\n",
      "                                        LLR p-value:                 8.285e-55\n",
      "=================================================================================\n",
      "                    coef    std err          z      P>|z|      [0.025      0.975]\n",
      "---------------------------------------------------------------------------------\n",
      "FR_cinc         126.8778     38.171      3.324      0.001      52.064     201.692\n",
      "FR_milex       5.124e-08   1.67e-08      3.071      0.002    1.85e-08    8.39e-08\n",
      "milex         -2.167e-09   1.89e-08     -0.114      0.909   -3.93e-08     3.5e-08\n",
      "cinc              8.5112      8.677      0.981      0.327      -8.496      25.518\n",
      "United States     1.9578      0.299      6.555      0.000       1.372       2.543\n",
      "Soviet Union     -0.1865      0.429     -0.435      0.664      -1.027       0.654\n",
      "anarc             0.5380      0.558      0.964      0.335      -0.556       1.632\n",
      "autoc             0.6843      0.329      2.083      0.037       0.040       1.328\n",
      "democ            -1.2617      0.562     -2.245      0.025      -2.363      -0.160\n",
      "instab           -0.5547      0.376     -1.475      0.140      -1.292       0.182\n",
      "ssafrica          2.6741      0.514      5.203      0.000       1.667       3.682\n",
      "asia             -1.2591      0.862     -1.461      0.144      -2.949       0.430\n",
      "nafrme            3.3581      0.514      6.528      0.000       2.350       4.366\n",
      "war               0.6656      0.424      1.570      0.116      -0.165       1.496\n",
      "year             -0.0053      0.001     -7.726      0.000      -0.007      -0.004\n",
      "pointrap          0.7287      0.459      1.587      0.113      -0.171       1.629\n",
      "oilpc            -0.2034      0.109     -1.865      0.062      -0.417       0.010\n",
      "=================================================================================\n"
     ]
    }
   ],
   "source": [
    "print(run([\n",
    " 'FR_cinc',\n",
    " 'FR_milex',\n",
    " 'milex',\n",
    " 'cinc',\n",
    " 'United States',\n",
    " 'Soviet Union',\n",
    " 'anarc',\n",
    " 'autoc',\n",
    " 'democ',\n",
    " 'instab',\n",
    " 'ssafrica',\n",
    " 'asia',\n",
    " 'nafrme',\n",
    " 'war', \n",
    " 'year',\n",
    " 'pointrap',\n",
    " 'oilpc',  \n",
    "\n",
    "],   \n",
    "    \n",
    " 'France'))"
   ]
  },
  {
   "cell_type": "code",
   "execution_count": null,
   "metadata": {},
   "outputs": [],
   "source": []
  }
 ],
 "metadata": {
  "kernelspec": {
   "display_name": "Python 3",
   "language": "python",
   "name": "python3"
  },
  "language_info": {
   "codemirror_mode": {
    "name": "ipython",
    "version": 3
   },
   "file_extension": ".py",
   "mimetype": "text/x-python",
   "name": "python",
   "nbconvert_exporter": "python",
   "pygments_lexer": "ipython3",
   "version": "3.6.5"
  }
 },
 "nbformat": 4,
 "nbformat_minor": 2
}
