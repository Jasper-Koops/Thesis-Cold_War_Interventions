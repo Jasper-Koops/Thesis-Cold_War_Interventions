{
 "cells": [
  {
   "cell_type": "code",
   "execution_count": 9,
   "metadata": {},
   "outputs": [],
   "source": [
    "import pandas as pd\n",
    "import statsmodels.api as sm\n",
    "import matplotlib.pyplot as plt\n",
    "import numpy as np\n",
    "import seaborn as sn\n",
    "import sklearn as sk"
   ]
  },
  {
   "cell_type": "code",
   "execution_count": 10,
   "metadata": {},
   "outputs": [
    {
     "name": "stdout",
     "output_type": "stream",
     "text": [
      "<class 'pandas.core.frame.DataFrame'>\n",
      "RangeIndex: 6900 entries, 0 to 6899\n",
      "Columns: 181 entries, Unnamed: 0 to COL_MIDI\n",
      "dtypes: float64(132), int64(41), object(8)\n",
      "memory usage: 9.5+ MB\n"
     ]
    }
   ],
   "source": [
    "df = pd.read_csv('masterfile.csv')\n",
    "df.info()"
   ]
  },
  {
   "cell_type": "markdown",
   "metadata": {},
   "source": [
    "# Logit regression function"
   ]
  },
  {
   "cell_type": "code",
   "execution_count": 13,
   "metadata": {},
   "outputs": [],
   "source": [
    "def run(x, y):\n",
    "    \"\"\"\n",
    "    A simple function that runs Logit regressions\n",
    "    \"\"\"\n",
    "    logit = sm.Logit(df[y], df[x], missing='drop')\n",
    "    results = logit.fit(missing='drop')\n",
    "    return results.summary() #, np.exp(results.params)\n",
    "    "
   ]
  },
  {
   "cell_type": "markdown",
   "metadata": {},
   "source": [
    "# Analysis"
   ]
  },
  {
   "cell_type": "markdown",
   "metadata": {},
   "source": [
    "## Analysis 1: Relative economic and military power"
   ]
  },
  {
   "cell_type": "markdown",
   "metadata": {},
   "source": [
    "USA:\n",
    "\n",
    "1. Ally effect, but...seems te be from allies. Efect not as great as SU\n",
    "2. Own power not really, SU power detterence.\n",
    "3. Local milex matter\n",
    "4. DEtterence narrative\n"
   ]
  },
  {
   "cell_type": "code",
   "execution_count": 300,
   "metadata": {},
   "outputs": [
    {
     "name": "stdout",
     "output_type": "stream",
     "text": [
      "Optimization terminated successfully.\n",
      "         Current function value: 0.192390\n",
      "         Iterations 11\n",
      "                           Logit Regression Results                           \n",
      "==============================================================================\n",
      "Dep. Variable:          United States   No. Observations:                 4668\n",
      "Model:                          Logit   Df Residuals:                     4649\n",
      "Method:                           MLE   Df Model:                           18\n",
      "Date:                Sun, 27 May 2018   Pseudo R-squ.:                  0.1387\n",
      "Time:                        01:38:24   Log-Likelihood:                -898.08\n",
      "converged:                       True   LL-Null:                       -1042.7\n",
      "                                        LLR p-value:                 7.909e-51\n",
      "==================================================================================\n",
      "                     coef    std err          z      P>|z|      [0.025      0.975]\n",
      "----------------------------------------------------------------------------------\n",
      "US_cinc           -6.4616     10.433     -0.619      0.536     -26.910      13.987\n",
      "US_milex        9.619e-09    6.1e-09      1.576      0.115   -2.34e-09    2.16e-08\n",
      "US_gdppc           0.0001      0.000      0.453      0.651      -0.000       0.001\n",
      "SU_cinc          -10.7603     16.496     -0.652      0.514     -43.092      21.572\n",
      "SU_milex       -1.014e-10   3.75e-09     -0.027      0.978   -7.46e-09    7.25e-09\n",
      "SU_gdppc           0.0013      0.001      1.573      0.116      -0.000       0.003\n",
      "milex             5.9e-09   2.03e-08      0.290      0.772    -3.4e-08    4.58e-08\n",
      "cinc             -30.7410     20.564     -1.495      0.135     -71.047       9.565\n",
      "gdppc             -0.0001   2.51e-05     -4.705      0.000      -0.000    -6.9e-05\n",
      "pop              2.57e-06   1.99e-06      1.289      0.197   -1.34e-06    6.48e-06\n",
      "Soviet Union       1.5990      0.205      7.802      0.000       1.197       2.001\n",
      "France             1.4771      0.279      5.302      0.000       0.931       2.023\n",
      "United Kingdom     1.2304      0.390      3.159      0.002       0.467       1.994\n",
      "FR_cinc           18.7654     71.461      0.263      0.793    -121.297     158.827\n",
      "FR_milex        7.236e-08   5.13e-08      1.411      0.158   -2.82e-08    1.73e-07\n",
      "FR_gdppc          -0.0008      0.000     -2.099      0.036      -0.002   -5.37e-05\n",
      "UK_cinc          -21.3479     30.019     -0.711      0.477     -80.184      37.489\n",
      "UK_milex        -4.31e-08   6.26e-08     -0.689      0.491   -1.66e-07    7.96e-08\n",
      "UK_gdppc       -8.732e-05      0.000     -0.237      0.813      -0.001       0.001\n",
      "==================================================================================\n"
     ]
    }
   ],
   "source": [
    "print(run([\n",
    " 'US_cinc',\n",
    " 'US_milex',\n",
    " 'US_gdppc',\n",
    " 'SU_cinc',\n",
    " 'SU_milex',\n",
    " 'SU_gdppc',\n",
    " 'milex',\n",
    " 'cinc',\n",
    " 'gdppc',\n",
    " 'pop',\n",
    " 'Soviet Union',\n",
    " 'France',\n",
    " 'United Kingdom',\n",
    " 'FR_cinc',\n",
    " 'FR_milex',\n",
    " 'FR_gdppc',\n",
    " 'UK_cinc',\n",
    " 'UK_milex',\n",
    " 'UK_gdppc'\n",
    "],   \n",
    "    \n",
    " 'United States'))"
   ]
  },
  {
   "cell_type": "markdown",
   "metadata": {},
   "source": [
    "SU\n",
    "\n",
    "1. US mill tiny detterence\n",
    "2. PRICE NARRATIVE\n",
    "4. Local +++"
   ]
  },
  {
   "cell_type": "code",
   "execution_count": 299,
   "metadata": {},
   "outputs": [
    {
     "name": "stdout",
     "output_type": "stream",
     "text": [
      "Warning: Maximum number of iterations has been exceeded.\n",
      "         Current function value: 0.111977\n",
      "         Iterations: 35\n",
      "                           Logit Regression Results                           \n",
      "==============================================================================\n",
      "Dep. Variable:           Soviet Union   No. Observations:                 4668\n",
      "Model:                          Logit   Df Residuals:                     4649\n",
      "Method:                           MLE   Df Model:                           18\n",
      "Date:                Sun, 27 May 2018   Pseudo R-squ.:                  0.2037\n",
      "Time:                        01:38:07   Log-Likelihood:                -522.71\n",
      "converged:                      False   LL-Null:                       -656.42\n",
      "                                        LLR p-value:                 2.296e-46\n",
      "==================================================================================\n",
      "                     coef    std err          z      P>|z|      [0.025      0.975]\n",
      "----------------------------------------------------------------------------------\n",
      "US_cinc           -7.0808     17.914     -0.395      0.693     -42.192      28.031\n",
      "US_milex       -2.632e-09   9.69e-09     -0.272      0.786   -2.16e-08    1.64e-08\n",
      "US_gdppc           0.0004      0.000      1.117      0.264      -0.000       0.001\n",
      "SU_cinc          -15.1358     27.109     -0.558      0.577     -68.268      37.997\n",
      "SU_milex        4.884e-09   6.02e-09      0.811      0.417   -6.92e-09    1.67e-08\n",
      "SU_gdppc           0.0012      0.001      0.913      0.361      -0.001       0.004\n",
      "milex          -2.759e-09   1.11e-08     -0.249      0.804   -2.45e-08     1.9e-08\n",
      "cinc               3.5364     11.036      0.320      0.749     -18.094      25.167\n",
      "gdppc             -0.0002   4.33e-05     -5.010      0.000      -0.000      -0.000\n",
      "pop             1.512e-06   1.14e-06      1.325      0.185   -7.24e-07    3.75e-06\n",
      "United States      1.6405      0.206      7.964      0.000       1.237       2.044\n",
      "France            -0.4289      0.565     -0.760      0.447      -1.535       0.678\n",
      "United Kingdom   -29.9999      2e+06   -1.5e-05      1.000   -3.92e+06    3.92e+06\n",
      "FR_cinc         -106.2331    135.412     -0.785      0.433    -371.635     159.169\n",
      "FR_milex        1.236e-07    7.3e-08      1.693      0.090   -1.95e-08    2.67e-07\n",
      "FR_gdppc          -0.0002      0.001     -0.415      0.678      -0.001       0.001\n",
      "UK_cinc           49.4002     37.019      1.334      0.182     -23.157     121.957\n",
      "UK_milex       -7.062e-08    8.2e-08     -0.861      0.389   -2.31e-07       9e-08\n",
      "UK_gdppc          -0.0009      0.000     -1.927      0.054      -0.002    1.57e-05\n",
      "==================================================================================\n"
     ]
    },
    {
     "name": "stderr",
     "output_type": "stream",
     "text": [
      "/usr/local/lib/python3.6/dist-packages/statsmodels/base/model.py:508: ConvergenceWarning: Maximum Likelihood optimization failed to converge. Check mle_retvals\n",
      "  \"Check mle_retvals\", ConvergenceWarning)\n"
     ]
    }
   ],
   "source": [
    "print(run([\n",
    " 'US_cinc',\n",
    " 'US_milex',\n",
    " 'US_gdppc',\n",
    " 'SU_cinc',\n",
    " 'SU_milex',\n",
    " 'SU_gdppc',\n",
    " 'milex',\n",
    " 'cinc',\n",
    " 'gdppc',\n",
    " 'pop',\n",
    " 'United States',\n",
    " 'France',\n",
    " 'United Kingdom',\n",
    " 'FR_cinc',\n",
    " 'FR_milex',\n",
    " 'FR_gdppc',\n",
    " 'UK_cinc',\n",
    " 'UK_milex',\n",
    " 'UK_gdppc'\n",
    "],   \n",
    "    \n",
    " 'Soviet Union'))"
   ]
  },
  {
   "cell_type": "code",
   "execution_count": null,
   "metadata": {},
   "outputs": [],
   "source": []
  },
  {
   "cell_type": "markdown",
   "metadata": {},
   "source": [
    "COL POWERS\n",
    "\n",
    "1. Soviet CINCSoviet matters, anti coll deterence\n",
    "2. US allies\n",
    "3. Su dus eng\n",
    "4. Local detterence"
   ]
  },
  {
   "cell_type": "code",
   "execution_count": 298,
   "metadata": {},
   "outputs": [
    {
     "name": "stdout",
     "output_type": "stream",
     "text": [
      "Optimization terminated successfully.\n",
      "         Current function value: 0.123214\n",
      "         Iterations 11\n",
      "                           Logit Regression Results                           \n",
      "==============================================================================\n",
      "Dep. Variable:               COL_MIDI   No. Observations:                 4668\n",
      "Model:                          Logit   Df Residuals:                     4650\n",
      "Method:                           MLE   Df Model:                           17\n",
      "Date:                Sun, 27 May 2018   Pseudo R-squ.:                 0.09038\n",
      "Time:                        01:37:36   Log-Likelihood:                -575.16\n",
      "converged:                       True   LL-Null:                       -632.31\n",
      "                                        LLR p-value:                 1.868e-16\n",
      "=================================================================================\n",
      "                    coef    std err          z      P>|z|      [0.025      0.975]\n",
      "---------------------------------------------------------------------------------\n",
      "US_cinc         -11.6972     11.425     -1.024      0.306     -34.089      10.695\n",
      "US_milex      -2.056e-09    7.3e-09     -0.282      0.778   -1.64e-08    1.22e-08\n",
      "US_gdppc          0.0002      0.000      0.366      0.715      -0.001       0.001\n",
      "SU_cinc         -31.9763     18.401     -1.738      0.082     -68.042       4.089\n",
      "SU_milex       6.737e-09    5.4e-09      1.248      0.212   -3.84e-09    1.73e-08\n",
      "SU_gdppc          0.0003      0.001      0.349      0.727      -0.001       0.002\n",
      "milex          -9.29e-09   2.36e-08     -0.394      0.693   -5.55e-08    3.69e-08\n",
      "cinc             11.2413      5.922      1.898      0.058      -0.365      22.847\n",
      "gdppc            -0.0002   4.87e-05     -4.922      0.000      -0.000      -0.000\n",
      "pop           -1.047e-05   4.62e-06     -2.267      0.023   -1.95e-05   -1.42e-06\n",
      "United States     1.5623      0.238      6.565      0.000       1.096       2.029\n",
      "Soviet Union     -0.9752      0.543     -1.794      0.073      -2.040       0.090\n",
      "FR_cinc         138.1621     71.424      1.934      0.053      -1.826     278.150\n",
      "FR_milex      -7.847e-08   6.37e-08     -1.231      0.218   -2.03e-07    4.65e-08\n",
      "FR_gdppc         -0.0002      0.000     -0.497      0.619      -0.001       0.001\n",
      "UK_cinc           8.3569     24.066      0.347      0.728     -38.812      55.525\n",
      "UK_milex       4.851e-08   7.23e-08      0.671      0.502   -9.31e-08     1.9e-07\n",
      "UK_gdppc      -7.316e-05      0.001     -0.144      0.885      -0.001       0.001\n",
      "=================================================================================\n"
     ]
    }
   ],
   "source": [
    "print(run([\n",
    " 'US_cinc',\n",
    " 'US_milex',\n",
    " 'US_gdppc',\n",
    " 'SU_cinc',\n",
    " 'SU_milex',\n",
    " 'SU_gdppc',\n",
    " 'milex',\n",
    " 'cinc',\n",
    " 'gdppc',\n",
    " 'pop',\n",
    " 'United States',\n",
    " 'Soviet Union',\n",
    " 'FR_cinc',\n",
    " 'FR_milex',\n",
    " 'FR_gdppc',\n",
    " 'UK_cinc',\n",
    " 'UK_milex',\n",
    " 'UK_gdppc'\n",
    "],   \n",
    "    \n",
    " 'COL_MIDI'))"
   ]
  },
  {
   "cell_type": "markdown",
   "metadata": {},
   "source": [
    "Tekst hierover"
   ]
  },
  {
   "cell_type": "markdown",
   "metadata": {},
   "source": [
    "## Analysis 2: Political variables"
   ]
  },
  {
   "cell_type": "markdown",
   "metadata": {},
   "source": [
    "### Targets political system"
   ]
  },
  {
   "cell_type": "markdown",
   "metadata": {},
   "source": [
    "The US is somewhat less-less lickely to intervenin in Anech, could be col ally effect. \n",
    "Does not attack stable regimes, BUT Will tackle instab"
   ]
  },
  {
   "cell_type": "code",
   "execution_count": 326,
   "metadata": {},
   "outputs": [
    {
     "name": "stdout",
     "output_type": "stream",
     "text": [
      "Optimization terminated successfully.\n",
      "         Current function value: 0.157798\n",
      "         Iterations 7\n",
      "                           Logit Regression Results                           \n",
      "==============================================================================\n",
      "Dep. Variable:          United States   No. Observations:                 6900\n",
      "Model:                          Logit   Df Residuals:                     6895\n",
      "Method:                           MLE   Df Model:                            4\n",
      "Date:                Sun, 27 May 2018   Pseudo R-squ.:                 0.06298\n",
      "Time:                        01:48:03   Log-Likelihood:                -1088.8\n",
      "converged:                       True   LL-Null:                       -1162.0\n",
      "                                        LLR p-value:                 1.220e-30\n",
      "==============================================================================\n",
      "                 coef    std err          z      P>|z|      [0.025      0.975]\n",
      "------------------------------------------------------------------------------\n",
      "democ         -3.3817      0.142    -23.824      0.000      -3.660      -3.104\n",
      "anoc          -2.9023      0.135    -21.550      0.000      -3.166      -2.638\n",
      "autoc         -3.5347      0.093    -38.191      0.000      -3.716      -3.353\n",
      "anarc         -0.3543      0.277     -1.279      0.201      -0.897       0.189\n",
      "instab         0.6503      0.171      3.808      0.000       0.316       0.985\n",
      "==============================================================================\n"
     ]
    }
   ],
   "source": [
    "print(run([\n",
    " 'democ',\n",
    " 'anoc',\n",
    " 'autoc', \n",
    " 'anarc',\n",
    " 'instab'\n",
    "],       \n",
    " 'United States'))"
   ]
  },
  {
   "cell_type": "markdown",
   "metadata": {},
   "source": [
    "Direct SU int no effect"
   ]
  },
  {
   "cell_type": "code",
   "execution_count": 325,
   "metadata": {},
   "outputs": [
    {
     "name": "stdout",
     "output_type": "stream",
     "text": [
      "Optimization terminated successfully.\n",
      "         Current function value: 0.148186\n",
      "         Iterations 8\n",
      "                           Logit Regression Results                           \n",
      "==============================================================================\n",
      "Dep. Variable:          United States   No. Observations:                 6900\n",
      "Model:                          Logit   Df Residuals:                     6894\n",
      "Method:                           MLE   Df Model:                            5\n",
      "Date:                Sun, 27 May 2018   Pseudo R-squ.:                  0.1201\n",
      "Time:                        01:47:43   Log-Likelihood:                -1022.5\n",
      "converged:                       True   LL-Null:                       -1162.0\n",
      "                                        LLR p-value:                 3.248e-58\n",
      "================================================================================\n",
      "                   coef    std err          z      P>|z|      [0.025      0.975]\n",
      "--------------------------------------------------------------------------------\n",
      "democ           -3.4572      0.144    -23.950      0.000      -3.740      -3.174\n",
      "anoc            -3.0217      0.139    -21.759      0.000      -3.294      -2.750\n",
      "autoc           -3.7885      0.103    -36.911      0.000      -3.990      -3.587\n",
      "anarc           -0.3593      0.279     -1.288      0.198      -0.906       0.187\n",
      "instab           0.6056      0.176      3.435      0.001       0.260       0.951\n",
      "Soviet Union     2.7175      0.200     13.587      0.000       2.325       3.110\n",
      "================================================================================\n"
     ]
    }
   ],
   "source": [
    "print(run([\n",
    " 'democ',\n",
    " 'anoc',\n",
    " 'autoc', \n",
    " 'anarc',\n",
    " 'instab',\n",
    " 'Soviet Union'\n",
    "],   \n",
    " 'United States'))"
   ]
  },
  {
   "cell_type": "markdown",
   "metadata": {},
   "source": [
    "SU\n",
    "\n",
    "\n",
    "Anarc, indication of worthless?"
   ]
  },
  {
   "cell_type": "code",
   "execution_count": 324,
   "metadata": {},
   "outputs": [
    {
     "name": "stdout",
     "output_type": "stream",
     "text": [
      "Optimization terminated successfully.\n",
      "         Current function value: 0.108180\n",
      "         Iterations 9\n",
      "                           Logit Regression Results                           \n",
      "==============================================================================\n",
      "Dep. Variable:           Soviet Union   No. Observations:                 6900\n",
      "Model:                          Logit   Df Residuals:                     6895\n",
      "Method:                           MLE   Df Model:                            4\n",
      "Date:                Sun, 27 May 2018   Pseudo R-squ.:                -0.04393\n",
      "Time:                        01:47:23   Log-Likelihood:                -746.44\n",
      "converged:                       True   LL-Null:                       -715.03\n",
      "                                        LLR p-value:                     1.000\n",
      "==============================================================================\n",
      "                 coef    std err          z      P>|z|      [0.025      0.975]\n",
      "------------------------------------------------------------------------------\n",
      "democ         -4.6417      0.279    -16.656      0.000      -5.188      -4.096\n",
      "anocl         -3.8072      0.226    -16.840      0.000      -4.250      -3.364\n",
      "autoc         -3.5296      0.095    -37.144      0.000      -3.716      -3.343\n",
      "anarc         -3.4700      1.014     -3.421      0.001      -5.458      -1.482\n",
      "instab        -2.0249      0.257     -7.873      0.000      -2.529      -1.521\n",
      "==============================================================================\n"
     ]
    }
   ],
   "source": [
    "print(run([\n",
    " 'democ',\n",
    " 'anocl',\n",
    " 'autoc', \n",
    " 'anarc',\n",
    " 'instab'\n",
    "],   \n",
    "    \n",
    " 'Soviet Union'))"
   ]
  },
  {
   "cell_type": "markdown",
   "metadata": {},
   "source": [
    "SU \n",
    "\n",
    "Is missing coup effect"
   ]
  },
  {
   "cell_type": "code",
   "execution_count": 327,
   "metadata": {},
   "outputs": [
    {
     "name": "stdout",
     "output_type": "stream",
     "text": [
      "Optimization terminated successfully.\n",
      "         Current function value: 0.092150\n",
      "         Iterations 9\n",
      "                           Logit Regression Results                           \n",
      "==============================================================================\n",
      "Dep. Variable:           Soviet Union   No. Observations:                 6900\n",
      "Model:                          Logit   Df Residuals:                     6894\n",
      "Method:                           MLE   Df Model:                            5\n",
      "Date:                Sun, 27 May 2018   Pseudo R-squ.:                  0.1107\n",
      "Time:                        01:48:22   Log-Likelihood:                -635.84\n",
      "converged:                       True   LL-Null:                       -715.03\n",
      "                                        LLR p-value:                 2.195e-32\n",
      "=================================================================================\n",
      "                    coef    std err          z      P>|z|      [0.025      0.975]\n",
      "---------------------------------------------------------------------------------\n",
      "democ            -5.1702      0.293    -17.664      0.000      -5.744      -4.597\n",
      "anoc             -4.6950      0.263    -17.868      0.000      -5.210      -4.180\n",
      "autoc            -3.8698      0.108    -35.959      0.000      -4.081      -3.659\n",
      "anarc            -6.2550      1.041     -6.009      0.000      -8.295      -4.215\n",
      "instab            0.2770      0.287      0.965      0.335      -0.286       0.840\n",
      "United States     2.7177      0.200     13.587      0.000       2.326       3.110\n",
      "=================================================================================\n"
     ]
    }
   ],
   "source": [
    "print(run([\n",
    " 'democ',\n",
    " 'anoc',\n",
    " 'autoc', \n",
    " 'anarc',\n",
    " 'instab',\n",
    " 'United States'\n",
    "],   \n",
    "    \n",
    " 'Soviet Union'))"
   ]
  },
  {
   "cell_type": "markdown",
   "metadata": {},
   "source": [
    "### IF\n",
    "\n",
    "Anarc indication of worthless, cinc score should fix. "
   ]
  },
  {
   "cell_type": "markdown",
   "metadata": {},
   "source": [
    "Tekst hierover"
   ]
  },
  {
   "cell_type": "code",
   "execution_count": 328,
   "metadata": {},
   "outputs": [
    {
     "name": "stdout",
     "output_type": "stream",
     "text": [
      "Optimization terminated successfully.\n",
      "         Current function value: 0.121399\n",
      "         Iterations 9\n",
      "                           Logit Regression Results                           \n",
      "==============================================================================\n",
      "Dep. Variable:           Soviet Union   No. Observations:                 4747\n",
      "Model:                          Logit   Df Residuals:                     4739\n",
      "Method:                           MLE   Df Model:                            7\n",
      "Date:                Sun, 27 May 2018   Pseudo R-squ.:                  0.1254\n",
      "Time:                        01:48:41   Log-Likelihood:                -576.28\n",
      "converged:                       True   LL-Null:                       -658.94\n",
      "                                        LLR p-value:                 2.429e-32\n",
      "=================================================================================\n",
      "                    coef    std err          z      P>|z|      [0.025      0.975]\n",
      "---------------------------------------------------------------------------------\n",
      "democ            -4.2456      0.375    -11.334      0.000      -4.980      -3.511\n",
      "anoc             -4.0575      0.273    -14.845      0.000      -4.593      -3.522\n",
      "autoc            -3.0502      0.143    -21.289      0.000      -3.331      -2.769\n",
      "anarc            -5.4794      1.042     -5.258      0.000      -7.522      -3.437\n",
      "instab            0.0596      0.280      0.213      0.832      -0.490       0.609\n",
      "gdppc            -0.0001   4.69e-05     -2.704      0.007      -0.000   -3.49e-05\n",
      "cinc              5.6402      2.801      2.014      0.044       0.150      11.130\n",
      "United States     2.1865      0.201     10.857      0.000       1.792       2.581\n",
      "=================================================================================\n"
     ]
    }
   ],
   "source": [
    "print(run([\n",
    " 'democ',\n",
    " 'anoc',\n",
    " 'autoc', \n",
    " 'anarc',\n",
    " 'instab',\n",
    " 'gdppc',\n",
    " 'cinc',\n",
    " 'United States'\n",
    "],   \n",
    "    \n",
    " 'Soviet Union'))"
   ]
  },
  {
   "cell_type": "markdown",
   "metadata": {},
   "source": [
    "Democ strong, anarc worhtles?, Aanarc effect less when comp for power though still heave"
   ]
  },
  {
   "cell_type": "code",
   "execution_count": 329,
   "metadata": {},
   "outputs": [
    {
     "name": "stdout",
     "output_type": "stream",
     "text": [
      "Optimization terminated successfully.\n",
      "         Current function value: 0.195911\n",
      "         Iterations 9\n",
      "                           Logit Regression Results                           \n",
      "==============================================================================\n",
      "Dep. Variable:          United States   No. Observations:                 4747\n",
      "Model:                          Logit   Df Residuals:                     4739\n",
      "Method:                           MLE   Df Model:                            7\n",
      "Date:                Sun, 27 May 2018   Pseudo R-squ.:                  0.1168\n",
      "Time:                        01:49:54   Log-Likelihood:                -929.99\n",
      "converged:                       True   LL-Null:                       -1053.0\n",
      "                                        LLR p-value:                 1.951e-49\n",
      "================================================================================\n",
      "                   coef    std err          z      P>|z|      [0.025      0.975]\n",
      "--------------------------------------------------------------------------------\n",
      "democ           -2.5277      0.208    -12.147      0.000      -2.936      -2.120\n",
      "anoc            -2.4697      0.151    -16.379      0.000      -2.765      -2.174\n",
      "autoc           -2.9030      0.120    -24.140      0.000      -3.139      -2.667\n",
      "anarc            0.0913      0.292      0.313      0.754      -0.480       0.663\n",
      "instab           0.4737      0.174      2.725      0.006       0.133       0.815\n",
      "gdppc           -0.0001   2.81e-05     -4.097      0.000      -0.000   -6.01e-05\n",
      "cinc           -10.1545      4.962     -2.046      0.041     -19.880      -0.429\n",
      "Soviet Union     2.2089      0.202     10.957      0.000       1.814       2.604\n",
      "================================================================================\n"
     ]
    }
   ],
   "source": [
    "print(run([\n",
    " 'democ',\n",
    " 'anoc',\n",
    " 'autoc', \n",
    " 'anarc',\n",
    " 'instab',\n",
    " 'gdppc',\n",
    " 'cinc',\n",
    " 'Soviet Union'\n",
    "],   \n",
    "    \n",
    " 'United States'))"
   ]
  },
  {
   "cell_type": "markdown",
   "metadata": {},
   "source": [
    "COLS\n",
    "\n",
    "- Mirror US anarc, ally?"
   ]
  },
  {
   "cell_type": "code",
   "execution_count": 344,
   "metadata": {},
   "outputs": [
    {
     "name": "stdout",
     "output_type": "stream",
     "text": [
      "Optimization terminated successfully.\n",
      "         Current function value: 0.106144\n",
      "         Iterations 9\n",
      "                           Logit Regression Results                           \n",
      "==============================================================================\n",
      "Dep. Variable:               COL_MIDI   No. Observations:                 6900\n",
      "Model:                          Logit   Df Residuals:                     6893\n",
      "Method:                           MLE   Df Model:                            6\n",
      "Date:                Sun, 27 May 2018   Pseudo R-squ.:                -0.02979\n",
      "Time:                        01:54:22   Log-Likelihood:                -732.39\n",
      "converged:                       True   LL-Null:                       -711.20\n",
      "                                        LLR p-value:                     1.000\n",
      "=================================================================================\n",
      "                    coef    std err          z      P>|z|      [0.025      0.975]\n",
      "---------------------------------------------------------------------------------\n",
      "democ            -4.5683      0.261    -17.517      0.000      -5.079      -4.057\n",
      "anocl            -3.3364      0.176    -18.997      0.000      -3.681      -2.992\n",
      "autoc            -3.8853      0.112    -34.685      0.000      -4.105      -3.666\n",
      "anarc            -1.0552      0.370     -2.855      0.004      -1.780      -0.331\n",
      "instab           -1.6777      0.213     -7.886      0.000      -2.095      -1.261\n",
      "United States     1.2200      0.256      4.774      0.000       0.719       1.721\n",
      "Soviet Union     -0.3256      0.541     -0.601      0.548      -1.387       0.735\n",
      "=================================================================================\n"
     ]
    }
   ],
   "source": [
    "print(run([\n",
    " 'democ',\n",
    " 'anocl',\n",
    " 'autoc', \n",
    " 'anarc',\n",
    " 'instab',\n",
    " 'United States', \n",
    " 'Soviet Union',\n",
    "    \n",
    "],   \n",
    "    \n",
    " 'COL_MIDI'))"
   ]
  },
  {
   "cell_type": "markdown",
   "metadata": {},
   "source": [
    "Now with location dmummy, as col proxy\n",
    "\n",
    "Anarc effect stays. no other effects."
   ]
  },
  {
   "cell_type": "code",
   "execution_count": 336,
   "metadata": {},
   "outputs": [
    {
     "name": "stdout",
     "output_type": "stream",
     "text": [
      "Optimization terminated successfully.\n",
      "         Current function value: 0.099402\n",
      "         Iterations 10\n",
      "                           Logit Regression Results                           \n",
      "==============================================================================\n",
      "Dep. Variable:               COL_MIDI   No. Observations:                 6808\n",
      "Model:                          Logit   Df Residuals:                     6798\n",
      "Method:                           MLE   Df Model:                            9\n",
      "Date:                Sun, 27 May 2018   Pseudo R-squ.:                 0.04580\n",
      "Time:                        01:52:47   Log-Likelihood:                -676.73\n",
      "converged:                       True   LL-Null:                       -709.21\n",
      "                                        LLR p-value:                 1.469e-10\n",
      "=================================================================================\n",
      "                    coef    std err          z      P>|z|      [0.025      0.975]\n",
      "---------------------------------------------------------------------------------\n",
      "democ            -4.9226      0.282    -17.465      0.000      -5.475      -4.370\n",
      "anocl            -3.7000      0.211    -17.511      0.000      -4.114      -3.286\n",
      "autoc            -4.5590      0.187    -24.402      0.000      -4.925      -4.193\n",
      "anarc            -1.6110      0.412     -3.906      0.000      -2.419      -0.803\n",
      "instab           -2.0670      0.247     -8.381      0.000      -2.550      -1.584\n",
      "ssafrica          1.1576      0.200      5.775      0.000       0.765       1.551\n",
      "asia             -1.9022      0.506     -3.756      0.000      -2.895      -0.909\n",
      "nafrme            1.2889      0.232      5.560      0.000       0.835       1.743\n",
      "United States     1.6557      0.261      6.335      0.000       1.143       2.168\n",
      "Soviet Union     -0.2122      0.562     -0.377      0.706      -1.314       0.889\n",
      "=================================================================================\n"
     ]
    }
   ],
   "source": [
    "print(run([\n",
    " 'democ',\n",
    " 'anocl',\n",
    " 'autoc', \n",
    " 'anarc',\n",
    " 'instab',\n",
    " 'ssafrica',\n",
    " 'asia',\n",
    " 'nafrme',\n",
    "],   \n",
    "    \n",
    " 'COL_MIDI'))"
   ]
  },
  {
   "cell_type": "markdown",
   "metadata": {},
   "source": [
    "No soviet effect!"
   ]
  },
  {
   "cell_type": "code",
   "execution_count": 337,
   "metadata": {},
   "outputs": [
    {
     "name": "stdout",
     "output_type": "stream",
     "text": [
      "Optimization terminated successfully.\n",
      "         Current function value: 0.099402\n",
      "         Iterations 10\n",
      "                           Logit Regression Results                           \n",
      "==============================================================================\n",
      "Dep. Variable:               COL_MIDI   No. Observations:                 6808\n",
      "Model:                          Logit   Df Residuals:                     6798\n",
      "Method:                           MLE   Df Model:                            9\n",
      "Date:                Sun, 27 May 2018   Pseudo R-squ.:                 0.04580\n",
      "Time:                        01:53:18   Log-Likelihood:                -676.73\n",
      "converged:                       True   LL-Null:                       -709.21\n",
      "                                        LLR p-value:                 1.469e-10\n",
      "=================================================================================\n",
      "                    coef    std err          z      P>|z|      [0.025      0.975]\n",
      "---------------------------------------------------------------------------------\n",
      "democ            -4.9226      0.282    -17.465      0.000      -5.475      -4.370\n",
      "anocl            -3.7000      0.211    -17.511      0.000      -4.114      -3.286\n",
      "autoc            -4.5590      0.187    -24.402      0.000      -4.925      -4.193\n",
      "anarc            -1.6110      0.412     -3.906      0.000      -2.419      -0.803\n",
      "instab           -2.0670      0.247     -8.381      0.000      -2.550      -1.584\n",
      "ssafrica          1.1576      0.200      5.775      0.000       0.765       1.551\n",
      "asia             -1.9022      0.506     -3.756      0.000      -2.895      -0.909\n",
      "nafrme            1.2889      0.232      5.560      0.000       0.835       1.743\n",
      "United States     1.6557      0.261      6.335      0.000       1.143       2.168\n",
      "Soviet Union     -0.2122      0.562     -0.377      0.706      -1.314       0.889\n",
      "=================================================================================\n"
     ]
    }
   ],
   "source": [
    "print(run([\n",
    " 'democ',\n",
    " 'anocl',\n",
    " 'autoc', \n",
    " 'anarc',\n",
    " 'instab',\n",
    " 'ssafrica',\n",
    " 'asia',\n",
    " 'nafrme',\n",
    " 'United States', \n",
    " 'Soviet Union',\n",
    "],   \n",
    "    \n",
    " 'COL_MIDI'))"
   ]
  },
  {
   "cell_type": "markdown",
   "metadata": {},
   "source": [
    "## Analysis 3: Type of war being fought"
   ]
  },
  {
   "cell_type": "markdown",
   "metadata": {},
   "source": [
    "Tekst hierover"
   ]
  },
  {
   "cell_type": "code",
   "execution_count": 51,
   "metadata": {},
   "outputs": [
    {
     "name": "stdout",
     "output_type": "stream",
     "text": [
      "Optimization terminated successfully.\n",
      "         Current function value: 0.676630\n",
      "         Iterations 7\n",
      "                           Logit Regression Results                           \n",
      "==============================================================================\n",
      "Dep. Variable:          United States   No. Observations:                 6900\n",
      "Model:                          Logit   Df Residuals:                     6893\n",
      "Method:                           MLE   Df Model:                            6\n",
      "Date:                Sat, 26 May 2018   Pseudo R-squ.:                  -3.018\n",
      "Time:                        19:30:06   Log-Likelihood:                -4668.7\n",
      "converged:                       True   LL-Null:                       -1162.0\n",
      "                                        LLR p-value:                     1.000\n",
      "================================================================================\n",
      "                   coef    std err          z      P>|z|      [0.025      0.975]\n",
      "--------------------------------------------------------------------------------\n",
      "pointrap        -2.1516      0.231     -9.333      0.000      -2.603      -1.700\n",
      "pointer         -0.7153      0.287     -2.494      0.013      -1.277      -0.153\n",
      "pocivil          1.8463      0.264      6.985      0.000       1.328       2.364\n",
      "ointrap         -2.6349      0.732     -3.602      0.000      -4.069      -1.201\n",
      "ointer          -0.6973      0.338     -2.061      0.039      -1.360      -0.034\n",
      "ocivil           1.4379      0.792      1.815      0.070      -0.115       2.991\n",
      "Soviet Union    -0.4911      0.192     -2.562      0.010      -0.867      -0.115\n",
      "================================================================================\n"
     ]
    }
   ],
   "source": [
    "print(run([\n",
    "    'pointrap',\n",
    "    'pointer',\n",
    "    'pocivil',\n",
    "    'ointrap',\n",
    "    'ointer',\n",
    "    'ocivil',\n",
    "    'Soviet Union',    \n",
    "],   \n",
    "    \n",
    " 'United States'))"
   ]
  },
  {
   "cell_type": "markdown",
   "metadata": {},
   "source": [
    "Tekst hierover\n",
    "\n"
   ]
  },
  {
   "cell_type": "code",
   "execution_count": 267,
   "metadata": {},
   "outputs": [
    {
     "name": "stdout",
     "output_type": "stream",
     "text": [
      "Optimization terminated successfully.\n",
      "         Current function value: 0.659018\n",
      "         Iterations 7\n",
      "                           Logit Regression Results                           \n",
      "==============================================================================\n",
      "Dep. Variable:           Soviet Union   No. Observations:                 6900\n",
      "Model:                          Logit   Df Residuals:                     6893\n",
      "Method:                           MLE   Df Model:                            6\n",
      "Date:                Sun, 27 May 2018   Pseudo R-squ.:                  -5.360\n",
      "Time:                        01:19:04   Log-Likelihood:                -4547.2\n",
      "converged:                       True   LL-Null:                       -715.03\n",
      "                                        LLR p-value:                     1.000\n",
      "=================================================================================\n",
      "                    coef    std err          z      P>|z|      [0.025      0.975]\n",
      "---------------------------------------------------------------------------------\n",
      "pointrap         -2.4825      0.269     -9.242      0.000      -3.009      -1.956\n",
      "pointer          -2.3369      0.522     -4.476      0.000      -3.360      -1.314\n",
      "pocivil           1.5374      0.311      4.948      0.000       0.928       2.146\n",
      "ointrap          -2.1909      0.608     -3.602      0.000      -3.383      -0.999\n",
      "ointer           -2.2809      0.604     -3.777      0.000      -3.465      -1.097\n",
      "ocivil           -1.0394      0.943     -1.103      0.270      -2.887       0.808\n",
      "United States    -0.9448      0.178     -5.299      0.000      -1.294      -0.595\n",
      "=================================================================================\n"
     ]
    }
   ],
   "source": [
    "print(run([\n",
    "    'pointrap',\n",
    "    'pointer',\n",
    "    'pocivil',\n",
    "    'ointrap',\n",
    "    'ointer',\n",
    "    'ocivil',\n",
    "    'United States'\n",
    "    \n",
    "],   \n",
    "    \n",
    " 'Soviet Union'))\n",
    "\n",
    "#Singular matrix for excluded variables"
   ]
  },
  {
   "cell_type": "markdown",
   "metadata": {},
   "source": [
    "Tekst Hierover"
   ]
  },
  {
   "cell_type": "code",
   "execution_count": 265,
   "metadata": {},
   "outputs": [
    {
     "name": "stdout",
     "output_type": "stream",
     "text": [
      "Warning: Maximum number of iterations has been exceeded.\n",
      "         Current function value: 0.643243\n",
      "         Iterations: 35\n",
      "                           Logit Regression Results                           \n",
      "==============================================================================\n",
      "Dep. Variable:               COL_MIDI   No. Observations:                 6900\n",
      "Model:                          Logit   Df Residuals:                     6892\n",
      "Method:                           MLE   Df Model:                            7\n",
      "Date:                Sun, 27 May 2018   Pseudo R-squ.:                  -5.241\n",
      "Time:                        01:18:11   Log-Likelihood:                -4438.4\n",
      "converged:                      False   LL-Null:                       -711.20\n",
      "                                        LLR p-value:                     1.000\n",
      "=================================================================================\n",
      "                    coef    std err          z      P>|z|      [0.025      0.975]\n",
      "---------------------------------------------------------------------------------\n",
      "pointrap         -3.0784      0.361     -8.516      0.000      -3.787      -2.370\n",
      "pointer          -2.5146      0.599     -4.201      0.000      -3.688      -1.341\n",
      "pocivil           1.6308      0.413      3.951      0.000       0.822       2.440\n",
      "ointrap         -17.6541   1316.736     -0.013      0.989   -2598.408    2563.100\n",
      "ointer           -1.8175      0.536     -3.394      0.001      -2.867      -0.768\n",
      "ocivil           15.2187   1316.736      0.012      0.991   -2565.536    2595.973\n",
      "Soviet Union     -2.8038      0.514     -5.459      0.000      -3.810      -1.797\n",
      "United States    -1.1814      0.208     -5.682      0.000      -1.589      -0.774\n",
      "=================================================================================\n"
     ]
    },
    {
     "name": "stderr",
     "output_type": "stream",
     "text": [
      "/usr/local/lib/python3.6/dist-packages/statsmodels/base/model.py:508: ConvergenceWarning: Maximum Likelihood optimization failed to converge. Check mle_retvals\n",
      "  \"Check mle_retvals\", ConvergenceWarning)\n"
     ]
    }
   ],
   "source": [
    "print(run([\n",
    "    'pointrap',\n",
    "    'pointer',\n",
    "    'pocivil',\n",
    "    'ointrap',\n",
    "    'ointer',\n",
    "    'ocivil',\n",
    "    'Soviet Union',    \n",
    "    'United States',\n",
    "],   \n",
    "    \n",
    " 'COL_MIDI'))"
   ]
  },
  {
   "cell_type": "markdown",
   "metadata": {},
   "source": [
    "## Analysis 4: New Nations and colonialism"
   ]
  },
  {
   "cell_type": "markdown",
   "metadata": {},
   "source": [
    "tekst hierover"
   ]
  },
  {
   "cell_type": "markdown",
   "metadata": {},
   "source": [
    "yoooo\n",
    "\n",
    "1. CINC DETERS (SU NIET), POINT mattered niet. US afgeschrikt door sterke naties, intervener\n",
    "2. Sorry US, oil matters\n",
    "3. OVERAL ACTIVE\n",
    "\n",
    "\n",
    "4. War / ander +\n",
    "\n",
    "5. Interventions less likely in democ , more in anarc\n",
    "6. also less in AUTOc , AKA stabiel regime.  / Allies of nessesity"
   ]
  },
  {
   "cell_type": "code",
   "execution_count": 251,
   "metadata": {},
   "outputs": [
    {
     "name": "stdout",
     "output_type": "stream",
     "text": [
      "Optimization terminated successfully.\n",
      "         Current function value: 0.143134\n",
      "         Iterations 11\n",
      "                           Logit Regression Results                           \n",
      "==============================================================================\n",
      "Dep. Variable:          United States   No. Observations:                 4837\n",
      "Model:                          Logit   Df Residuals:                     4820\n",
      "Method:                           MLE   Df Model:                           16\n",
      "Date:                Sun, 27 May 2018   Pseudo R-squ.:                  0.3476\n",
      "Time:                        01:10:31   Log-Likelihood:                -692.34\n",
      "converged:                       True   LL-Null:                       -1061.1\n",
      "                                        LLR p-value:                1.272e-146\n",
      "================================================================================\n",
      "                   coef    std err          z      P>|z|      [0.025      0.975]\n",
      "--------------------------------------------------------------------------------\n",
      "US_cinc         -6.5699      2.276     -2.887      0.004     -11.031      -2.109\n",
      "US_milex      4.539e-09   1.14e-09      3.986      0.000    2.31e-09    6.77e-09\n",
      "milex         1.572e-08   1.24e-08      1.266      0.206   -8.62e-09    4.01e-08\n",
      "cinc           -17.6811      7.454     -2.372      0.018     -32.290      -3.073\n",
      "Soviet Union     0.6601      0.245      2.695      0.007       0.180       1.140\n",
      "anarc            0.8277      0.357      2.321      0.020       0.129       1.527\n",
      "autoc           -0.3240      0.189     -1.710      0.087      -0.695       0.047\n",
      "democ           -0.1797      0.223     -0.807      0.419      -0.616       0.257\n",
      "instab           0.3385      0.191      1.771      0.077      -0.036       0.713\n",
      "ssafrica         2.0861      0.768      2.715      0.007       0.580       3.592\n",
      "asia             3.4834      0.757      4.601      0.000       2.000       4.967\n",
      "nafrme           3.9139      0.758      5.165      0.000       2.429       5.399\n",
      "lamerica         2.9147      0.758      3.844      0.000       1.429       4.401\n",
      "war              2.2811      0.223     10.228      0.000       1.844       2.718\n",
      "year            -0.0028      0.000     -6.051      0.000      -0.004      -0.002\n",
      "pointrap         0.0950      0.239      0.397      0.691      -0.374       0.564\n",
      "oilpc           -0.5957      0.149     -3.985      0.000      -0.889      -0.303\n",
      "================================================================================\n"
     ]
    }
   ],
   "source": [
    "print(run([\n",
    " 'US_cinc',\n",
    " 'US_milex',\n",
    " 'milex',\n",
    " 'cinc',\n",
    "#  'United States',\n",
    " 'Soviet Union',\n",
    " 'anarc',\n",
    " 'autoc',\n",
    " 'democ',\n",
    " 'instab',\n",
    " 'ssafrica',\n",
    " 'asia',\n",
    " 'nafrme',\n",
    " 'lamerica',\n",
    " 'war', \n",
    " 'year',\n",
    " 'pointrap',\n",
    " 'oilpc', \n",
    "    \n",
    "],   \n",
    "    \n",
    " 'United States'))"
   ]
  },
  {
   "cell_type": "markdown",
   "metadata": {},
   "source": [
    "yoooo\n",
    "\n",
    "1. CINC TREKT AAN (US NIET), POINT mattered . AKA< civil wars, hier valt iets te halen\n",
    "\n",
    "2. Anarc stoot af, wellicht weak states?\n",
    "\n",
    "3. Su afrika en lamerica niet signif\n",
    "\n",
    "4. War / de ander +"
   ]
  },
  {
   "cell_type": "code",
   "execution_count": 250,
   "metadata": {},
   "outputs": [
    {
     "name": "stdout",
     "output_type": "stream",
     "text": [
      "Optimization terminated successfully.\n",
      "         Current function value: 0.096566\n",
      "         Iterations 10\n",
      "                           Logit Regression Results                           \n",
      "==============================================================================\n",
      "Dep. Variable:           Soviet Union   No. Observations:                 4837\n",
      "Model:                          Logit   Df Residuals:                     4820\n",
      "Method:                           MLE   Df Model:                           16\n",
      "Date:                Sun, 27 May 2018   Pseudo R-squ.:                  0.2942\n",
      "Time:                        01:02:59   Log-Likelihood:                -467.09\n",
      "converged:                       True   LL-Null:                       -661.76\n",
      "                                        LLR p-value:                 6.200e-73\n",
      "=================================================================================\n",
      "                    coef    std err          z      P>|z|      [0.025      0.975]\n",
      "---------------------------------------------------------------------------------\n",
      "SU_cinc          -9.7484      5.795     -1.682      0.093     -21.105       1.609\n",
      "SU_milex        7.92e-09   1.06e-09      7.494      0.000    5.85e-09    9.99e-09\n",
      "milex         -3.935e-09   8.42e-09     -0.467      0.640   -2.04e-08    1.26e-08\n",
      "cinc              8.2066      4.203      1.952      0.051      -0.032      16.445\n",
      "United States     0.4895      0.245      1.998      0.046       0.009       0.970\n",
      "anarc            -1.8871      1.063     -1.776      0.076      -3.970       0.196\n",
      "autoc             0.9123      0.280      3.257      0.001       0.363       1.461\n",
      "democ            -0.4922      0.392     -1.257      0.209      -1.260       0.275\n",
      "instab            0.0233      0.299      0.078      0.938      -0.563       0.610\n",
      "ssafrica          0.9114      0.592      1.539      0.124      -0.250       2.072\n",
      "asia              2.0397      0.572      3.565      0.000       0.918       3.161\n",
      "nafrme            1.7584      0.606      2.900      0.004       0.570       2.947\n",
      "lamerica          0.8673      0.619      1.402      0.161      -0.345       2.080\n",
      "war               1.0048      0.350      2.868      0.004       0.318       1.692\n",
      "year             -0.0028      0.001     -4.984      0.000      -0.004      -0.002\n",
      "pointrap          1.1902      0.359      3.319      0.001       0.487       1.893\n",
      "oilpc             0.0283      0.060      0.469      0.639      -0.090       0.147\n",
      "=================================================================================\n"
     ]
    }
   ],
   "source": [
    "print(run([\n",
    " 'SU_cinc',\n",
    " 'SU_milex',\n",
    " 'milex',\n",
    " 'cinc',\n",
    " 'United States',\n",
    "#  'Soviet Union',\n",
    " 'anarc',\n",
    " 'autoc',\n",
    " 'democ',\n",
    " 'instab',\n",
    " 'ssafrica',\n",
    " 'asia',\n",
    " 'nafrme',\n",
    " 'lamerica',\n",
    " 'war', \n",
    " 'year',\n",
    " 'pointrap',\n",
    " 'oilpc', \n",
    "    \n",
    "],   \n",
    "    \n",
    " 'Soviet Union'))"
   ]
  },
  {
   "cell_type": "code",
   "execution_count": null,
   "metadata": {},
   "outputs": [],
   "source": []
  },
  {
   "cell_type": "code",
   "execution_count": null,
   "metadata": {},
   "outputs": [],
   "source": []
  },
  {
   "cell_type": "code",
   "execution_count": null,
   "metadata": {},
   "outputs": [],
   "source": []
  },
  {
   "cell_type": "markdown",
   "metadata": {},
   "source": [
    "Voor EU maakt SU dus totaal niet uit, US wel"
   ]
  },
  {
   "cell_type": "code",
   "execution_count": 241,
   "metadata": {},
   "outputs": [
    {
     "name": "stdout",
     "output_type": "stream",
     "text": [
      "Optimization terminated successfully.\n",
      "         Current function value: 0.106289\n",
      "         Iterations 11\n",
      "                           Logit Regression Results                           \n",
      "==============================================================================\n",
      "Dep. Variable:               COL_MIDI   No. Observations:                 4837\n",
      "Model:                          Logit   Df Residuals:                     4822\n",
      "Method:                           MLE   Df Model:                           14\n",
      "Date:                Sun, 27 May 2018   Pseudo R-squ.:                  0.2149\n",
      "Time:                        00:58:15   Log-Likelihood:                -514.12\n",
      "converged:                       True   LL-Null:                       -654.84\n",
      "                                        LLR p-value:                 8.671e-52\n",
      "=================================================================================\n",
      "                    coef    std err          z      P>|z|      [0.025      0.975]\n",
      "---------------------------------------------------------------------------------\n",
      "milex         -4.292e-08      4e-08     -1.072      0.284   -1.21e-07    3.55e-08\n",
      "cinc             15.6420      5.410      2.891      0.004       5.038      26.246\n",
      "United States     1.0061      0.279      3.610      0.000       0.460       1.552\n",
      "Soviet Union     -0.9511      0.556     -1.709      0.087      -2.042       0.140\n",
      "anarc             0.6786      0.426      1.592      0.111      -0.157       1.514\n",
      "autoc            -0.1536      0.232     -0.661      0.509      -0.609       0.302\n",
      "democ            -0.7928      0.337     -2.350      0.019      -1.454      -0.132\n",
      "instab            0.3277      0.244      1.344      0.179      -0.150       0.806\n",
      "ssafrica          2.2469      0.326      6.903      0.000       1.609       2.885\n",
      "asia             -1.1631      0.591     -1.968      0.049      -2.322      -0.004\n",
      "nafrme            2.5441      0.340      7.484      0.000       1.878       3.210\n",
      "war               0.7350      0.374      1.963      0.050       0.001       1.469\n",
      "year             -0.0025      0.000    -14.941      0.000      -0.003      -0.002\n",
      "pointrap          0.6008      0.398      1.509      0.131      -0.179       1.381\n",
      "oilpc            -0.2125      0.106     -2.007      0.045      -0.420      -0.005\n",
      "=================================================================================\n"
     ]
    }
   ],
   "source": [
    "print(run([\n",
    " 'milex',\n",
    " 'cinc',\n",
    " 'United States',\n",
    " 'Soviet Union',\n",
    " 'anarc',\n",
    " 'autoc',\n",
    " 'democ',\n",
    " 'instab',\n",
    " 'ssafrica',\n",
    " 'asia',\n",
    " 'nafrme',\n",
    " 'war', \n",
    " 'year',\n",
    " 'pointrap',\n",
    " 'oilpc', \n",
    "],   \n",
    "    \n",
    " 'COL_MIDI'))"
   ]
  },
  {
   "cell_type": "markdown",
   "metadata": {},
   "source": [
    "Idem ditto voor Brittain"
   ]
  },
  {
   "cell_type": "markdown",
   "metadata": {},
   "source": [
    "Why do EU powers intervene?"
   ]
  },
  {
   "cell_type": "markdown",
   "metadata": {},
   "source": [
    "UK\n",
    "\n",
    "1. Does not attack powerfull nations (CINC)\n",
    "2. Less active by time, only in crisis (War, insab - regime) \n",
    "3. Like rest of EU, asia is closed of. \n",
    "4. Remove - 'years since nation state creation'  and Africa coef 0.7089  P   0.031\n",
    "5. Does not care about soviet threat. US support (ally)\n",
    "6. More assertive IF power grows, but it delinces (cinc, year)\n",
    "7. Does not attack democracies"
   ]
  },
  {
   "cell_type": "code",
   "execution_count": 240,
   "metadata": {},
   "outputs": [
    {
     "name": "stdout",
     "output_type": "stream",
     "text": [
      "Warning: Maximum number of iterations has been exceeded.\n",
      "         Current function value: 0.048630\n",
      "         Iterations: 35\n",
      "                           Logit Regression Results                           \n",
      "==============================================================================\n",
      "Dep. Variable:         United Kingdom   No. Observations:                 4837\n",
      "Model:                          Logit   Df Residuals:                     4820\n",
      "Method:                           MLE   Df Model:                           16\n",
      "Date:                Sun, 27 May 2018   Pseudo R-squ.:                  0.2514\n",
      "Time:                        00:57:48   Log-Likelihood:                -235.22\n",
      "converged:                      False   LL-Null:                       -314.22\n",
      "                                        LLR p-value:                 2.052e-25\n",
      "=================================================================================\n",
      "                    coef    std err          z      P>|z|      [0.025      0.975]\n",
      "---------------------------------------------------------------------------------\n",
      "UK_cinc          28.1593      7.324      3.845      0.000      13.805      42.514\n",
      "UK_milex      -4.047e-09   1.43e-08     -0.283      0.777    -3.2e-08    2.39e-08\n",
      "milex          9.967e-08   4.73e-08      2.107      0.035    6.94e-09    1.92e-07\n",
      "cinc           -180.5589     88.076     -2.050      0.040    -353.185      -7.933\n",
      "United States     0.7972      0.420      1.897      0.058      -0.026       1.621\n",
      "Soviet Union    -21.3248   2.35e+04     -0.001      0.999   -4.61e+04    4.61e+04\n",
      "anarc            -0.0363      0.572     -0.063      0.949      -1.157       1.084\n",
      "autoc            -0.5172      0.341     -1.515      0.130      -1.186       0.152\n",
      "democ            -0.9307      0.494     -1.884      0.060      -1.899       0.037\n",
      "instab            0.6402      0.331      1.935      0.053      -0.008       1.289\n",
      "ssafrica          2.2416      0.535      4.193      0.000       1.194       3.289\n",
      "asia             -0.3165      0.867     -0.365      0.715      -2.016       1.383\n",
      "nafrme            2.9284      0.518      5.653      0.000       1.913       3.944\n",
      "war               1.0289      0.545      1.889      0.059      -0.038       2.096\n",
      "year             -0.0034      0.000     -9.448      0.000      -0.004      -0.003\n",
      "pointrap          0.7191      0.573      1.254      0.210      -0.405       1.843\n",
      "oilpc            -0.6968      0.458     -1.521      0.128      -1.595       0.201\n",
      "=================================================================================\n",
      "\n",
      "Possibly complete quasi-separation: A fraction 0.13 of observations can be\n",
      "perfectly predicted. This might indicate that there is complete\n",
      "quasi-separation. In this case some parameters will not be identified.\n"
     ]
    },
    {
     "name": "stderr",
     "output_type": "stream",
     "text": [
      "/usr/local/lib/python3.6/dist-packages/statsmodels/base/model.py:508: ConvergenceWarning: Maximum Likelihood optimization failed to converge. Check mle_retvals\n",
      "  \"Check mle_retvals\", ConvergenceWarning)\n"
     ]
    }
   ],
   "source": [
    "print(run([\n",
    " 'UK_cinc',\n",
    " 'UK_milex',\n",
    " 'milex',\n",
    " 'cinc',\n",
    " 'United States',\n",
    " 'Soviet Union',\n",
    " 'anarc',\n",
    " 'autoc',\n",
    " 'democ',\n",
    " 'instab',\n",
    " 'ssafrica',\n",
    " 'asia',\n",
    " 'nafrme',\n",
    " 'war', \n",
    " 'year',\n",
    " 'pointrap',\n",
    " 'oilpc', \n",
    "    \n",
    "],   \n",
    "    \n",
    " 'United Kingdom'))"
   ]
  },
  {
   "cell_type": "markdown",
   "metadata": {},
   "source": [
    "France\n",
    "\n",
    "1. Years have not been kind\n",
    "2. Own strenght matter, other not. #LEEEEROY JENKINS\n",
    "3. US support (or vice versa), does not care about cold war\n",
    "4. Anarchy and war cause int\n",
    "\n",
    "\n"
   ]
  },
  {
   "cell_type": "code",
   "execution_count": 239,
   "metadata": {},
   "outputs": [
    {
     "name": "stdout",
     "output_type": "stream",
     "text": [
      "Optimization terminated successfully.\n",
      "         Current function value: 0.069191\n",
      "         Iterations 11\n",
      "                           Logit Regression Results                           \n",
      "==============================================================================\n",
      "Dep. Variable:                 France   No. Observations:                 4837\n",
      "Model:                          Logit   Df Residuals:                     4820\n",
      "Method:                           MLE   Df Model:                           16\n",
      "Date:                Sun, 27 May 2018   Pseudo R-squ.:                  0.2320\n",
      "Time:                        00:57:37   Log-Likelihood:                -334.68\n",
      "converged:                       True   LL-Null:                       -435.79\n",
      "                                        LLR p-value:                 2.816e-34\n",
      "=================================================================================\n",
      "                    coef    std err          z      P>|z|      [0.025      0.975]\n",
      "---------------------------------------------------------------------------------\n",
      "FR_cinc         144.3021     40.349      3.576      0.000      65.220     223.384\n",
      "FR_milex       4.223e-08    1.8e-08      2.351      0.019    7.03e-09    7.74e-08\n",
      "milex         -2.551e-09   2.22e-08     -0.115      0.909   -4.62e-08    4.11e-08\n",
      "cinc              6.3919      8.694      0.735      0.462     -10.649      23.432\n",
      "United States     1.4735      0.336      4.381      0.000       0.814       2.133\n",
      "Soviet Union     -0.3910      0.584     -0.670      0.503      -1.535       0.754\n",
      "anarc             1.0970      0.548      2.003      0.045       0.024       2.170\n",
      "autoc             0.3905      0.329      1.186      0.235      -0.255       1.036\n",
      "democ            -0.9105      0.548     -1.662      0.096      -1.984       0.163\n",
      "instab           -0.4075      0.378     -1.079      0.281      -1.148       0.333\n",
      "ssafrica          2.8230      0.519      5.444      0.000       1.807       3.839\n",
      "asia             -0.8281      0.860     -0.963      0.335      -2.513       0.857\n",
      "nafrme            2.8789      0.524      5.497      0.000       1.852       3.905\n",
      "war               0.7052      0.451      1.563      0.118      -0.179       1.589\n",
      "year             -0.0054      0.001     -7.424      0.000      -0.007      -0.004\n",
      "pointrap          0.4191      0.482      0.869      0.385      -0.526       1.364\n",
      "oilpc            -0.0839      0.090     -0.927      0.354      -0.261       0.093\n",
      "=================================================================================\n"
     ]
    }
   ],
   "source": [
    "print(run([\n",
    " 'FR_cinc',\n",
    " 'FR_milex',\n",
    " 'milex',\n",
    " 'cinc',\n",
    " 'United States',\n",
    " 'Soviet Union',\n",
    " 'anarc',\n",
    " 'autoc',\n",
    " 'democ',\n",
    " 'instab',\n",
    " 'ssafrica',\n",
    " 'asia',\n",
    " 'nafrme',\n",
    " 'war', \n",
    " 'year',\n",
    " 'pointrap',\n",
    " 'oilpc',  \n",
    "\n",
    "],   \n",
    "    \n",
    " 'France'))"
   ]
  },
  {
   "cell_type": "code",
   "execution_count": null,
   "metadata": {},
   "outputs": [],
   "source": []
  }
 ],
 "metadata": {
  "kernelspec": {
   "display_name": "Python 3",
   "language": "python",
   "name": "python3"
  },
  "language_info": {
   "codemirror_mode": {
    "name": "ipython",
    "version": 3
   },
   "file_extension": ".py",
   "mimetype": "text/x-python",
   "name": "python",
   "nbconvert_exporter": "python",
   "pygments_lexer": "ipython3",
   "version": "3.6.5"
  }
 },
 "nbformat": 4,
 "nbformat_minor": 2
}
