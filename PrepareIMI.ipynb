{
 "cells": [
  {
   "cell_type": "code",
   "execution_count": 1,
   "metadata": {},
   "outputs": [],
   "source": [
    "import pandas as pd\n",
    "import datetime"
   ]
  },
  {
   "cell_type": "markdown",
   "metadata": {},
   "source": [
    "## Load data, prepare data"
   ]
  },
  {
   "cell_type": "code",
   "execution_count": 2,
   "metadata": {},
   "outputs": [],
   "source": [
    "# Load dataframe\n",
    "df = pd.read_csv('./sources/IMI-PearsonBaumann.csv')\n",
    "# Exclude non-conscious interventions in Civil Wars only\n",
    "\n",
    "# mask = df['domestic_dispute'] == 1\n",
    "# df = df[mask]\n",
    "\n",
    "# Convert dates to values that we can use\n",
    "df['start'] = df['start'].astype(str).str[:4]\n",
    "df['start'] = df['start'].astype(int)\n",
    "df['end'] = df['end'].astype(str).str[:4]\n",
    "df['end'] = df['end'].astype(int)\n",
    "\n",
    "df['duration'] = df['end'] - df['start'] + 1\n",
    "# Remove error-code enddates\n",
    "mask = df['duration'] < 5000\n",
    "df = df[mask]\n",
    "\n",
    "# Remove error codes from datefields\n",
    "mask = df['start'] < 1992\n",
    "df = df[mask]\n",
    "mask = df['start'] > 1945\n",
    "df = df[mask]\n",
    "\n",
    "# Remove error codes from datefields\n",
    "mask = df['end'] < 1992\n",
    "df = df[mask]\n",
    "mask = df['end'] > 1945\n",
    "df = df[mask]\n",
    "\n",
    "\n",
    "# Convert dates to actual datetime objects\n",
    "df.start = pd.to_datetime(df.start, format='%Y')\n",
    "df.end = pd.to_datetime(df.end, format='%Y')"
   ]
  },
  {
   "cell_type": "code",
   "execution_count": 3,
   "metadata": {},
   "outputs": [],
   "source": [
    "# Drop variables that are not going to be used\n",
    "droplist = [\n",
    "    'Data', 'amount', 'air', 'naval', 'size_naval',\n",
    "    'firing_outside', 'intervener_casualties', 'target casualties',\n",
    "]\n",
    "df = df.drop(droplist, axis=1)"
   ]
  },
  {
   "cell_type": "code",
   "execution_count": 4,
   "metadata": {},
   "outputs": [],
   "source": [
    "def set_col_dummy(x):\n",
    "    \"\"\" Assign the correct value to the 'colonial ties dummy\"\"\"\n",
    "    triggers = [1,2,3]\n",
    "    if x['colonial'] in triggers:\n",
    "        return 1\n",
    "    else:\n",
    "        return 0\n",
    "\n",
    "# Add 'colonial_ties' dummy\n",
    "df['colonial_dummy'] = 0\n",
    "# Apply function to get correct value\n",
    "df['colonial_dummy'] = df.apply(set_col_dummy, axis=1)\n",
    "\n",
    "# Add 'previous intervention dummy'\n",
    "dummies = pd.get_dummies(df['pevious_int'], prefix='prevint')\n",
    "dummies = dummies['prevint_1']\n",
    "dummies.columns = ['prev_int']\n",
    "df = pd.concat([df, dummies], axis=1)\n",
    "\n",
    "# Add 'alignment dummies'\n",
    "dummies = pd.get_dummies(df['alignment'], prefix='align')\n",
    "dummies.columns = [\n",
    "    'non-aligned leaning West', 'non-aligned leaning East',  \n",
    "    'non-aligned', 'West bloc', 'East bloc',\n",
    "    'Alignment not ascertained'\n",
    "]\n",
    "df = pd.concat([df, dummies], axis=1)\n",
    "\n",
    "# Add 'goal' dummies\n",
    "dummies = pd.get_dummies(df['direction'], prefix='dir')\n",
    "dummies.columns = [\n",
    "    'Non-supportive or neutral intervention',\n",
    "    'Support government',\n",
    "    'Oppose rebels or opposition groups',\n",
    "    'Oppose government',\n",
    "    'Support rebel or opposition groups',\n",
    "    'Support or oppose 3rd party government',\n",
    "    'Support or oppose rebel groups in sanctuary', \n",
    "    'not ascertained'\n",
    "]\n",
    "df = pd.concat([df, dummies], axis=1)\n"
   ]
  },
  {
   "cell_type": "markdown",
   "metadata": {},
   "source": [
    "## Convert DF to country-year"
   ]
  },
  {
   "cell_type": "code",
   "execution_count": 5,
   "metadata": {},
   "outputs": [],
   "source": [
    "columns = [   \n",
    "    'intervener', 'target', 'colonial_dummy', 'prevint_1', 'non-aligned leaning West',\n",
    "    'non-aligned leaning East', 'non-aligned', 'West bloc', 'East bloc',\n",
    "    'Alignment not ascertained', 'Non-supportive or neutral intervention',\n",
    "    'Support government', 'Oppose rebels or opposition groups',\n",
    "    'Oppose government', 'Support rebel or opposition groups',\n",
    "    'Support or oppose 3rd party government',\n",
    "    'Support or oppose rebel groups in sanctuary' \n",
    "]\n",
    "\n",
    "df = pd.concat(\n",
    "    [pd.DataFrame(\n",
    "        {\n",
    "            'date': pd.date_range(row.start, row.end + pd.DateOffset(years=1), freq='12m'),\n",
    "            'target': row.target, 'intervener': row.intervener, \n",
    "            'colonial_dummy': row.colonial_dummy, 'prevint_1': row.prevint_1,\n",
    "            'non-aligned leaning West': row['non-aligned leaning West'],\n",
    "            'non-aligned leaning East': row['non-aligned leaning East'],\n",
    "            'non-aligned': row['non-aligned'], 'West bloc': row['West bloc'],\n",
    "            'East bloc': row['East bloc'], \n",
    "            'Alignment not ascertained': row['Alignment not ascertained'],\n",
    "            'Non-supportive or neutral intervention': row['Non-supportive or neutral intervention'],\n",
    "            'Support government': row['Support government'],\n",
    "            'Oppose rebels or opposition groups': row['Oppose rebels or opposition groups'],\n",
    "            'Oppose government': row['Oppose government'], \n",
    "            'Support rebel or opposition groups': row['Support rebel or opposition groups'],\n",
    "            'Support or oppose 3rd party government': row['Support or oppose 3rd party government'],\n",
    "            'Support or oppose rebel groups in sanctuary': row['Support or oppose rebel groups in sanctuary']           \n",
    "        }, \n",
    "        \n",
    "        columns=[\n",
    "        'date', 'intervener', 'target', 'colonial_dummy', 'prevint_1', 'non-aligned leaning West',\n",
    "        'non-aligned leaning East', 'non-aligned', 'West bloc', 'East bloc',\n",
    "        'Alignment not ascertained', 'Non-supportive or neutral intervention',\n",
    "        'Support government', 'Oppose rebels or opposition groups',\n",
    "        'Oppose government', 'Support rebel or opposition groups',\n",
    "        'Support or oppose 3rd party government',\n",
    "        'Support or oppose rebel groups in sanctuary'    \n",
    "    ]\n",
    "    ) for i, row in df.iterrows()])\n",
    "\n",
    "# Reconvert date to year\n",
    "df['date'] = df['date'].dt.year\n",
    "# Remove all interventions we dont care about\n",
    "nations = [2, 200, 210, 211, 220, 230, 235, 365]\n",
    "mask = df['intervener'].isin(nations)\n",
    "df = df[mask]\n",
    "dummies = df['intervener'].astype('str').str.get_dummies()\n",
    "df = pd.concat([df, dummies], axis=1)"
   ]
  },
  {
   "cell_type": "code",
   "execution_count": 6,
   "metadata": {},
   "outputs": [
    {
     "data": {
      "text/plain": [
       "Index(['date', 'intervener', 'target', 'colonial_dummy', 'prevint_1',\n",
       "       'non-aligned leaning West', 'non-aligned leaning East', 'non-aligned',\n",
       "       'West bloc', 'East bloc', 'Alignment not ascertained',\n",
       "       'Non-supportive or neutral intervention', 'Support government',\n",
       "       'Oppose rebels or opposition groups', 'Oppose government',\n",
       "       'Support rebel or opposition groups',\n",
       "       'Support or oppose 3rd party government',\n",
       "       'Support or oppose rebel groups in sanctuary', '2', '200', '211', '220',\n",
       "       '230', '235', '365'],\n",
       "      dtype='object')"
      ]
     },
     "execution_count": 6,
     "metadata": {},
     "output_type": "execute_result"
    }
   ],
   "source": [
    "df.columns"
   ]
  },
  {
   "cell_type": "markdown",
   "metadata": {},
   "source": [
    "## Group and export to CSV"
   ]
  },
  {
   "cell_type": "code",
   "execution_count": 7,
   "metadata": {},
   "outputs": [],
   "source": [
    "# Group dataframe, so one year-target pair exists for each country\n",
    "df = df.groupby(['target', 'date']).max()\n",
    "df.reset_index(inplace=True)\n",
    "df.columns = [\n",
    "    'target', 'date', 'intervener', 'colonial_dummy', 'prevint_1',\n",
    "    'non-aligned leaning West', 'non-aligned leaning East', 'non-aligned',\n",
    "    'West bloc', 'East bloc', 'Alignment not ascertained',\n",
    "    'Non-supportive or neutral intervention', 'Support government',\n",
    "    'Oppose rebels or opposition groups', 'Oppose government',\n",
    "    'Support rebel or opposition groups',\n",
    "    'Support or oppose 3rd party government',\n",
    "    'Support or oppose rebel groups in sanctuary',\n",
    "    'US_imi', 'UK_imi', 'BE_imi', 'FR_imi', 'SP_imi', 'PT_imi', 'SU_imi']\n",
    "\n",
    "df['COL_IMI'] = 0\n",
    "col_list = ['UK_imi', 'BE_imi', 'FR_imi', 'SP_imi', 'PT_imi']\n",
    "df['COL_IMI'] = (df[col_list].sum(axis=1) > 0) * 1 \n",
    "df.drop('intervener', axis=1, inplace=True)\n",
    "\n",
    "# Save to CSV\n",
    "df.to_csv('./output/IMI_prepared.csv')"
   ]
  },
  {
   "cell_type": "code",
   "execution_count": 9,
   "metadata": {},
   "outputs": [
    {
     "name": "stdout",
     "output_type": "stream",
     "text": [
      "<class 'pandas.core.frame.DataFrame'>\n",
      "RangeIndex: 380 entries, 0 to 379\n",
      "Data columns (total 25 columns):\n",
      "target                                         380 non-null int64\n",
      "date                                           380 non-null int64\n",
      "colonial_dummy                                 380 non-null int64\n",
      "prevint_1                                      380 non-null int64\n",
      "non-aligned leaning West                       380 non-null int64\n",
      "non-aligned leaning East                       380 non-null int64\n",
      "non-aligned                                    380 non-null int64\n",
      "West bloc                                      380 non-null int64\n",
      "East bloc                                      380 non-null int64\n",
      "Alignment not ascertained                      380 non-null int64\n",
      "Non-supportive or neutral intervention         380 non-null int64\n",
      "Support government                             380 non-null int64\n",
      "Oppose rebels or opposition groups             380 non-null int64\n",
      "Oppose government                              380 non-null int64\n",
      "Support rebel or opposition groups             380 non-null int64\n",
      "Support or oppose 3rd party government         380 non-null int64\n",
      "Support or oppose rebel groups in sanctuary    380 non-null int64\n",
      "US_imi                                         380 non-null int64\n",
      "UK_imi                                         380 non-null int64\n",
      "BE_imi                                         380 non-null int64\n",
      "FR_imi                                         380 non-null int64\n",
      "SP_imi                                         380 non-null int64\n",
      "PT_imi                                         380 non-null int64\n",
      "SU_imi                                         380 non-null int64\n",
      "COL_IMI                                        380 non-null int64\n",
      "dtypes: int64(25)\n",
      "memory usage: 74.3 KB\n"
     ]
    }
   ],
   "source": [
    "df.info()"
   ]
  },
  {
   "cell_type": "code",
   "execution_count": null,
   "metadata": {},
   "outputs": [],
   "source": []
  }
 ],
 "metadata": {
  "kernelspec": {
   "display_name": "Python 3",
   "language": "python",
   "name": "python3"
  },
  "language_info": {
   "codemirror_mode": {
    "name": "ipython",
    "version": 3
   },
   "file_extension": ".py",
   "mimetype": "text/x-python",
   "name": "python",
   "nbconvert_exporter": "python",
   "pygments_lexer": "ipython3",
   "version": "3.5.2"
  }
 },
 "nbformat": 4,
 "nbformat_minor": 2
}
